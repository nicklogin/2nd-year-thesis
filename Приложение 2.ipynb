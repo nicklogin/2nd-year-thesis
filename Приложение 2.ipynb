{
 "cells": [
  {
   "cell_type": "markdown",
   "metadata": {},
   "source": [
    "<h1>Приложение 2</h1>"
   ]
  },
  {
   "cell_type": "markdown",
   "metadata": {},
   "source": [
    "<b>Примечание: </b> Каждый раздел первого уровня может запускаться отдельно."
   ]
  },
  {
   "cell_type": "markdown",
   "metadata": {},
   "source": [
    "<h2>1. Подсчёт метрик коллокационной силы Mutual Information и Lexical Gravity, их корреляции для всего корпуса REALEC</h2>"
   ]
  },
  {
   "cell_type": "markdown",
   "metadata": {},
   "source": [
    "Рассматривались все содержащиеся в корпусе тексты на английском языке (5050 текстов, 1 762 431 слов)."
   ]
  },
  {
   "cell_type": "code",
   "execution_count": 33,
   "metadata": {
    "collapsed": true
   },
   "outputs": [],
   "source": [
    "import sqlite3, pandas"
   ]
  },
  {
   "cell_type": "markdown",
   "metadata": {},
   "source": [
    "Откроем составленную базу данных и файл с SQL-скриптом:"
   ]
  },
  {
   "cell_type": "code",
   "execution_count": 34,
   "metadata": {
    "collapsed": true
   },
   "outputs": [],
   "source": [
    "db = sqlite3.connect('realec_database_full.db')\n",
    "\n",
    "with open ('get_full_table.sql','r',encoding='utf-8') as source:\n",
    "    query = source.read().split(';')"
   ]
  },
  {
   "cell_type": "markdown",
   "metadata": {},
   "source": [
    "Выполним содержащиеся в скрипте запросы к базе данных:"
   ]
  },
  {
   "cell_type": "code",
   "execution_count": null,
   "metadata": {
    "collapsed": true
   },
   "outputs": [],
   "source": [
    "c = db.cursor()\n",
    "\n",
    "for statement in query:\n",
    "    c.execute(statement)\n",
    "    \n",
    "db.commit()"
   ]
  },
  {
   "cell_type": "markdown",
   "metadata": {},
   "source": [
    "Запишем полученные сводные таблицы в объекты pandas: bigrams - для биграмм, составленных\n",
    "из словоформ; lemma_bigrams - для биграмм, составленных из лемм, выделенных парсером udpipe (Биграммы выделялись только в пределах границ предложений, как в работе Гриса)."
   ]
  },
  {
   "cell_type": "code",
   "execution_count": 36,
   "metadata": {
    "collapsed": true
   },
   "outputs": [],
   "source": [
    "bigrams = pandas.read_sql('SELECT * FROM bigrams_with_freqs3 WHERE frequency>0',db,index_col='id')"
   ]
  },
  {
   "cell_type": "code",
   "execution_count": 37,
   "metadata": {
    "collapsed": true
   },
   "outputs": [],
   "source": [
    "lemma_bigrams = pandas.read_sql('SELECT * FROM lemma_bigrams_with_freqs1 WHERE frequency>0',db,index_col='id')"
   ]
  },
  {
   "cell_type": "markdown",
   "metadata": {},
   "source": [
    "Найдём значения <b>метрики MI</b> для биграмм:"
   ]
  },
  {
   "cell_type": "code",
   "execution_count": 40,
   "metadata": {
    "collapsed": true
   },
   "outputs": [],
   "source": [
    "import math\n",
    "\n",
    "N = list(db.execute('SELECT SUM(Frequency) FROM wordforms;'))[0][0]\n",
    "bigrams['MI'] = bigrams.apply(lambda x: math.log(x['frequency'],\n",
    "                                                 2)+math.log(N,2)-math.log(x['frequency:1'],2)\n",
    "                              -math.log(x['frequency:2'],2),\n",
    "                              axis=1)"
   ]
  },
  {
   "cell_type": "code",
   "execution_count": 41,
   "metadata": {
    "collapsed": true
   },
   "outputs": [],
   "source": [
    "lemma_bigrams['MI'] = lemma_bigrams.apply(lambda x: math.log(x['frequency'],\n",
    "                                                 2)+math.log(N,2)-math.log(x['frequency:1'],2)\n",
    "                              -math.log(x['frequency:2'],2),\n",
    "                              axis=1)"
   ]
  },
  {
   "cell_type": "code",
   "execution_count": 42,
   "metadata": {
    "collapsed": true
   },
   "outputs": [],
   "source": [
    "db.close()"
   ]
  },
  {
   "cell_type": "markdown",
   "metadata": {
    "collapsed": true
   },
   "source": [
    "Теперь найдём значения <b>метрики Lexical Gravity</b> (G-score):"
   ]
  },
  {
   "cell_type": "code",
   "execution_count": 43,
   "metadata": {
    "collapsed": true
   },
   "outputs": [],
   "source": [
    "form_typesafter = bigrams['id_wordform1'].value_counts()\n",
    "form_typesbefore = bigrams['id_wordform2'].value_counts()\n",
    "\n",
    "lemma_typesafter = lemma_bigrams['id_lemma1'].value_counts()\n",
    "lemma_typesbefore = lemma_bigrams['id_lemma2'].value_counts()"
   ]
  },
  {
   "cell_type": "code",
   "execution_count": 44,
   "metadata": {
    "collapsed": true
   },
   "outputs": [],
   "source": [
    "bigrams['G-score'] = bigrams.apply(lambda x: x['MI']-math.log(N,2)+math.log(x['frequency'],2)+\n",
    "                                   math.log(form_typesafter[x['id_wordform1']],2)+\n",
    "                                   math.log(form_typesbefore[x['id_wordform2']],2),axis = 1)\n",
    "\n",
    "lemma_bigrams['G-score'] = lemma_bigrams.apply(lambda x: x['MI']-math.log(N,2)+math.log(x['frequency'],2)+\n",
    "                                  math.log(lemma_typesafter[x['id_lemma1']],2)+\n",
    "                                  math.log(lemma_typesbefore[x['id_lemma2']],2),axis = 1)"
   ]
  },
  {
   "cell_type": "markdown",
   "metadata": {},
   "source": [
    "Найдём линейные парные <b>коэффициенты корреляции Пирсона</b> для частоты и метрик MI и Lexical Gravity:"
   ]
  },
  {
   "cell_type": "code",
   "execution_count": 53,
   "metadata": {},
   "outputs": [
    {
     "data": {
      "text/html": [
       "<div>\n",
       "<style>\n",
       "    .dataframe thead tr:only-child th {\n",
       "        text-align: right;\n",
       "    }\n",
       "\n",
       "    .dataframe thead th {\n",
       "        text-align: left;\n",
       "    }\n",
       "\n",
       "    .dataframe tbody tr th {\n",
       "        vertical-align: top;\n",
       "    }\n",
       "</style>\n",
       "<table border=\"1\" class=\"dataframe\">\n",
       "  <thead>\n",
       "    <tr style=\"text-align: right;\">\n",
       "      <th></th>\n",
       "      <th>frequency</th>\n",
       "      <th>MI</th>\n",
       "      <th>G-score</th>\n",
       "    </tr>\n",
       "  </thead>\n",
       "  <tbody>\n",
       "    <tr>\n",
       "      <th>frequency</th>\n",
       "      <td>1.000000</td>\n",
       "      <td>-0.024254</td>\n",
       "      <td>0.309222</td>\n",
       "    </tr>\n",
       "    <tr>\n",
       "      <th>MI</th>\n",
       "      <td>-0.024254</td>\n",
       "      <td>1.000000</td>\n",
       "      <td>0.263121</td>\n",
       "    </tr>\n",
       "    <tr>\n",
       "      <th>G-score</th>\n",
       "      <td>0.309222</td>\n",
       "      <td>0.263121</td>\n",
       "      <td>1.000000</td>\n",
       "    </tr>\n",
       "  </tbody>\n",
       "</table>\n",
       "</div>"
      ],
      "text/plain": [
       "           frequency        MI   G-score\n",
       "frequency   1.000000 -0.024254  0.309222\n",
       "MI         -0.024254  1.000000  0.263121\n",
       "G-score     0.309222  0.263121  1.000000"
      ]
     },
     "execution_count": 53,
     "metadata": {},
     "output_type": "execute_result"
    }
   ],
   "source": [
    "correlations = bigrams.corr(method='pearson').drop(labels=['id_wordform1','frequency:1',\n",
    "                                           'frequency:2','id_wordform2']).drop(labels=['id_wordform1',\n",
    "                                                                                       'frequency:1',\n",
    "                                                                                       'frequency:2',\n",
    "                                                                                       'id_wordform2'],axis=1)\n",
    "correlations"
   ]
  },
  {
   "cell_type": "code",
   "execution_count": 54,
   "metadata": {},
   "outputs": [
    {
     "data": {
      "text/html": [
       "<div>\n",
       "<style>\n",
       "    .dataframe thead tr:only-child th {\n",
       "        text-align: right;\n",
       "    }\n",
       "\n",
       "    .dataframe thead th {\n",
       "        text-align: left;\n",
       "    }\n",
       "\n",
       "    .dataframe tbody tr th {\n",
       "        vertical-align: top;\n",
       "    }\n",
       "</style>\n",
       "<table border=\"1\" class=\"dataframe\">\n",
       "  <thead>\n",
       "    <tr style=\"text-align: right;\">\n",
       "      <th></th>\n",
       "      <th>frequency</th>\n",
       "      <th>MI</th>\n",
       "      <th>G-score</th>\n",
       "    </tr>\n",
       "  </thead>\n",
       "  <tbody>\n",
       "    <tr>\n",
       "      <th>frequency</th>\n",
       "      <td>1.000000</td>\n",
       "      <td>-0.023483</td>\n",
       "      <td>0.307553</td>\n",
       "    </tr>\n",
       "    <tr>\n",
       "      <th>MI</th>\n",
       "      <td>-0.023483</td>\n",
       "      <td>1.000000</td>\n",
       "      <td>0.261458</td>\n",
       "    </tr>\n",
       "    <tr>\n",
       "      <th>G-score</th>\n",
       "      <td>0.307553</td>\n",
       "      <td>0.261458</td>\n",
       "      <td>1.000000</td>\n",
       "    </tr>\n",
       "  </tbody>\n",
       "</table>\n",
       "</div>"
      ],
      "text/plain": [
       "           frequency        MI   G-score\n",
       "frequency   1.000000 -0.023483  0.307553\n",
       "MI         -0.023483  1.000000  0.261458\n",
       "G-score     0.307553  0.261458  1.000000"
      ]
     },
     "execution_count": 54,
     "metadata": {},
     "output_type": "execute_result"
    }
   ],
   "source": [
    "lemma_correlations = lemma_bigrams.corr(method='pearson').drop(labels=['id_lemma1','frequency:1','frequency:2',\n",
    "                                           'id_lemma2']).drop(labels=['id_lemma1',\n",
    "                                                                      'frequency:1',\n",
    "                                                                      'frequency:2',\n",
    "                                                                      'id_lemma2'],axis=1)\n",
    "lemma_correlations"
   ]
  },
  {
   "cell_type": "markdown",
   "metadata": {},
   "source": [
    "Проверим полученные коэффициенты корреляции на значимость.  Для этого проверим гипотезу о том, что все коэффициенты корреляции равны нулю  при помощи <i>t</i>-теста Стьюдента.Пороговый\n",
    "уровень значимости установим <i>a</i> = 0.05:"
   ]
  },
  {
   "cell_type": "code",
   "execution_count": 55,
   "metadata": {},
   "outputs": [
    {
     "data": {
      "text/html": [
       "<div>\n",
       "<style>\n",
       "    .dataframe thead tr:only-child th {\n",
       "        text-align: right;\n",
       "    }\n",
       "\n",
       "    .dataframe thead th {\n",
       "        text-align: left;\n",
       "    }\n",
       "\n",
       "    .dataframe tbody tr th {\n",
       "        vertical-align: top;\n",
       "    }\n",
       "</style>\n",
       "<table border=\"1\" class=\"dataframe\">\n",
       "  <thead>\n",
       "    <tr style=\"text-align: right;\">\n",
       "      <th></th>\n",
       "      <th>frequency</th>\n",
       "      <th>MI</th>\n",
       "      <th>G-score</th>\n",
       "    </tr>\n",
       "  </thead>\n",
       "  <tbody>\n",
       "    <tr>\n",
       "      <th>frequency</th>\n",
       "      <td>0.0</td>\n",
       "      <td>0.0</td>\n",
       "      <td>0.0</td>\n",
       "    </tr>\n",
       "    <tr>\n",
       "      <th>MI</th>\n",
       "      <td>0.0</td>\n",
       "      <td>0.0</td>\n",
       "      <td>0.0</td>\n",
       "    </tr>\n",
       "    <tr>\n",
       "      <th>G-score</th>\n",
       "      <td>0.0</td>\n",
       "      <td>0.0</td>\n",
       "      <td>0.0</td>\n",
       "    </tr>\n",
       "  </tbody>\n",
       "</table>\n",
       "</div>"
      ],
      "text/plain": [
       "           frequency   MI  G-score\n",
       "frequency        0.0  0.0      0.0\n",
       "MI               0.0  0.0      0.0\n",
       "G-score          0.0  0.0      0.0"
      ]
     },
     "execution_count": 55,
     "metadata": {},
     "output_type": "execute_result"
    }
   ],
   "source": [
    "import scipy.stats\n",
    "\n",
    "count_t_score = lambda x, n: x*((n-2)**0.5)/((1-x**2)**0.5)\n",
    "p_value = lambda x, n: (1-scipy.stats.t.cdf(count_t_score(x,n),n-2))*2\n",
    "\n",
    "n1 = len(bigrams.index)\n",
    "\n",
    "correlations.applymap(lambda x: p_value(abs(x),n1) if x!=1 else 0)"
   ]
  },
  {
   "cell_type": "code",
   "execution_count": 56,
   "metadata": {},
   "outputs": [
    {
     "data": {
      "text/html": [
       "<div>\n",
       "<style>\n",
       "    .dataframe thead tr:only-child th {\n",
       "        text-align: right;\n",
       "    }\n",
       "\n",
       "    .dataframe thead th {\n",
       "        text-align: left;\n",
       "    }\n",
       "\n",
       "    .dataframe tbody tr th {\n",
       "        vertical-align: top;\n",
       "    }\n",
       "</style>\n",
       "<table border=\"1\" class=\"dataframe\">\n",
       "  <thead>\n",
       "    <tr style=\"text-align: right;\">\n",
       "      <th></th>\n",
       "      <th>frequency</th>\n",
       "      <th>MI</th>\n",
       "      <th>G-score</th>\n",
       "    </tr>\n",
       "  </thead>\n",
       "  <tbody>\n",
       "    <tr>\n",
       "      <th>frequency</th>\n",
       "      <td>0.0</td>\n",
       "      <td>0.0</td>\n",
       "      <td>0.0</td>\n",
       "    </tr>\n",
       "    <tr>\n",
       "      <th>MI</th>\n",
       "      <td>0.0</td>\n",
       "      <td>0.0</td>\n",
       "      <td>0.0</td>\n",
       "    </tr>\n",
       "    <tr>\n",
       "      <th>G-score</th>\n",
       "      <td>0.0</td>\n",
       "      <td>0.0</td>\n",
       "      <td>0.0</td>\n",
       "    </tr>\n",
       "  </tbody>\n",
       "</table>\n",
       "</div>"
      ],
      "text/plain": [
       "           frequency   MI  G-score\n",
       "frequency        0.0  0.0      0.0\n",
       "MI               0.0  0.0      0.0\n",
       "G-score          0.0  0.0      0.0"
      ]
     },
     "execution_count": 56,
     "metadata": {},
     "output_type": "execute_result"
    }
   ],
   "source": [
    "n2 = len(lemma_bigrams.index)\n",
    "\n",
    "lemma_correlations.applymap(lambda x: p_value(abs(x),n2) if x!=1 else 0)"
   ]
  },
  {
   "cell_type": "markdown",
   "metadata": {},
   "source": [
    "Нулевая гипотеза отвергается для всех коэффициентов корреляции, поэтому все из них можно считать значимыми"
   ]
  },
  {
   "cell_type": "markdown",
   "metadata": {},
   "source": [
    "Теперь найдём <b>ранговые коэффициенты корреляции Спирмена и Кендалла</b>."
   ]
  },
  {
   "cell_type": "markdown",
   "metadata": {},
   "source": [
    "Найдём <b>коэффициент Спирмена</b>:"
   ]
  },
  {
   "cell_type": "code",
   "execution_count": 57,
   "metadata": {},
   "outputs": [
    {
     "data": {
      "text/html": [
       "<div>\n",
       "<style>\n",
       "    .dataframe thead tr:only-child th {\n",
       "        text-align: right;\n",
       "    }\n",
       "\n",
       "    .dataframe thead th {\n",
       "        text-align: left;\n",
       "    }\n",
       "\n",
       "    .dataframe tbody tr th {\n",
       "        vertical-align: top;\n",
       "    }\n",
       "</style>\n",
       "<table border=\"1\" class=\"dataframe\">\n",
       "  <thead>\n",
       "    <tr style=\"text-align: right;\">\n",
       "      <th></th>\n",
       "      <th>frequency</th>\n",
       "      <th>MI</th>\n",
       "      <th>G-score</th>\n",
       "    </tr>\n",
       "  </thead>\n",
       "  <tbody>\n",
       "    <tr>\n",
       "      <th>frequency</th>\n",
       "      <td>1.000000</td>\n",
       "      <td>-0.224737</td>\n",
       "      <td>0.671236</td>\n",
       "    </tr>\n",
       "    <tr>\n",
       "      <th>MI</th>\n",
       "      <td>-0.224737</td>\n",
       "      <td>1.000000</td>\n",
       "      <td>0.384513</td>\n",
       "    </tr>\n",
       "    <tr>\n",
       "      <th>G-score</th>\n",
       "      <td>0.671236</td>\n",
       "      <td>0.384513</td>\n",
       "      <td>1.000000</td>\n",
       "    </tr>\n",
       "  </tbody>\n",
       "</table>\n",
       "</div>"
      ],
      "text/plain": [
       "           frequency        MI   G-score\n",
       "frequency   1.000000 -0.224737  0.671236\n",
       "MI         -0.224737  1.000000  0.384513\n",
       "G-score     0.671236  0.384513  1.000000"
      ]
     },
     "execution_count": 57,
     "metadata": {},
     "output_type": "execute_result"
    }
   ],
   "source": [
    "correlations = bigrams.corr(method='spearman').drop(labels=['id_wordform1','frequency:1',\n",
    "                                           'frequency:2','id_wordform2']).drop(labels=['id_wordform1',\n",
    "                                                                                       'frequency:1',\n",
    "                                                                                       'frequency:2',\n",
    "                                                                                       'id_wordform2'],axis=1)\n",
    "correlations"
   ]
  },
  {
   "cell_type": "code",
   "execution_count": 58,
   "metadata": {},
   "outputs": [
    {
     "data": {
      "text/html": [
       "<div>\n",
       "<style>\n",
       "    .dataframe thead tr:only-child th {\n",
       "        text-align: right;\n",
       "    }\n",
       "\n",
       "    .dataframe thead th {\n",
       "        text-align: left;\n",
       "    }\n",
       "\n",
       "    .dataframe tbody tr th {\n",
       "        vertical-align: top;\n",
       "    }\n",
       "</style>\n",
       "<table border=\"1\" class=\"dataframe\">\n",
       "  <thead>\n",
       "    <tr style=\"text-align: right;\">\n",
       "      <th></th>\n",
       "      <th>frequency</th>\n",
       "      <th>MI</th>\n",
       "      <th>G-score</th>\n",
       "    </tr>\n",
       "  </thead>\n",
       "  <tbody>\n",
       "    <tr>\n",
       "      <th>frequency</th>\n",
       "      <td>1.000000</td>\n",
       "      <td>-0.237772</td>\n",
       "      <td>0.679359</td>\n",
       "    </tr>\n",
       "    <tr>\n",
       "      <th>MI</th>\n",
       "      <td>-0.237772</td>\n",
       "      <td>1.000000</td>\n",
       "      <td>0.376915</td>\n",
       "    </tr>\n",
       "    <tr>\n",
       "      <th>G-score</th>\n",
       "      <td>0.679359</td>\n",
       "      <td>0.376915</td>\n",
       "      <td>1.000000</td>\n",
       "    </tr>\n",
       "  </tbody>\n",
       "</table>\n",
       "</div>"
      ],
      "text/plain": [
       "           frequency        MI   G-score\n",
       "frequency   1.000000 -0.237772  0.679359\n",
       "MI         -0.237772  1.000000  0.376915\n",
       "G-score     0.679359  0.376915  1.000000"
      ]
     },
     "execution_count": 58,
     "metadata": {},
     "output_type": "execute_result"
    }
   ],
   "source": [
    "lemma_correlations = lemma_bigrams.corr(method='spearman').drop(labels=['id_lemma1','frequency:1','frequency:2',\n",
    "                                           'id_lemma2']).drop(labels=['id_lemma1',\n",
    "                                                                      'frequency:1',\n",
    "                                                                      'frequency:2',\n",
    "                                                                      'id_lemma2'],axis=1)\n",
    "lemma_correlations"
   ]
  },
  {
   "cell_type": "markdown",
   "metadata": {},
   "source": [
    "Проверим гипотезу о равенстве полученных коэффициентов нулю:"
   ]
  },
  {
   "cell_type": "code",
   "execution_count": 59,
   "metadata": {},
   "outputs": [
    {
     "data": {
      "text/html": [
       "<div>\n",
       "<style>\n",
       "    .dataframe thead tr:only-child th {\n",
       "        text-align: right;\n",
       "    }\n",
       "\n",
       "    .dataframe thead th {\n",
       "        text-align: left;\n",
       "    }\n",
       "\n",
       "    .dataframe tbody tr th {\n",
       "        vertical-align: top;\n",
       "    }\n",
       "</style>\n",
       "<table border=\"1\" class=\"dataframe\">\n",
       "  <thead>\n",
       "    <tr style=\"text-align: right;\">\n",
       "      <th></th>\n",
       "      <th>frequency</th>\n",
       "      <th>MI</th>\n",
       "      <th>G-score</th>\n",
       "    </tr>\n",
       "  </thead>\n",
       "  <tbody>\n",
       "    <tr>\n",
       "      <th>frequency</th>\n",
       "      <td>0.0</td>\n",
       "      <td>0.0</td>\n",
       "      <td>0.0</td>\n",
       "    </tr>\n",
       "    <tr>\n",
       "      <th>MI</th>\n",
       "      <td>0.0</td>\n",
       "      <td>0.0</td>\n",
       "      <td>0.0</td>\n",
       "    </tr>\n",
       "    <tr>\n",
       "      <th>G-score</th>\n",
       "      <td>0.0</td>\n",
       "      <td>0.0</td>\n",
       "      <td>0.0</td>\n",
       "    </tr>\n",
       "  </tbody>\n",
       "</table>\n",
       "</div>"
      ],
      "text/plain": [
       "           frequency   MI  G-score\n",
       "frequency        0.0  0.0      0.0\n",
       "MI               0.0  0.0      0.0\n",
       "G-score          0.0  0.0      0.0"
      ]
     },
     "execution_count": 59,
     "metadata": {},
     "output_type": "execute_result"
    }
   ],
   "source": [
    "center_and_normalize = lambda x,n: x*((n-1)**0.5)\n",
    "\n",
    "p_value = lambda x,n: (1-scipy.stats.norm.cdf(center_and_normalize(abs(x),n)))*2\n",
    "\n",
    "correlations.applymap(lambda x: p_value(x,n1) if x!=1 else 0)"
   ]
  },
  {
   "cell_type": "code",
   "execution_count": 60,
   "metadata": {},
   "outputs": [
    {
     "data": {
      "text/html": [
       "<div>\n",
       "<style>\n",
       "    .dataframe thead tr:only-child th {\n",
       "        text-align: right;\n",
       "    }\n",
       "\n",
       "    .dataframe thead th {\n",
       "        text-align: left;\n",
       "    }\n",
       "\n",
       "    .dataframe tbody tr th {\n",
       "        vertical-align: top;\n",
       "    }\n",
       "</style>\n",
       "<table border=\"1\" class=\"dataframe\">\n",
       "  <thead>\n",
       "    <tr style=\"text-align: right;\">\n",
       "      <th></th>\n",
       "      <th>frequency</th>\n",
       "      <th>MI</th>\n",
       "      <th>G-score</th>\n",
       "    </tr>\n",
       "  </thead>\n",
       "  <tbody>\n",
       "    <tr>\n",
       "      <th>frequency</th>\n",
       "      <td>0.0</td>\n",
       "      <td>0.0</td>\n",
       "      <td>0.0</td>\n",
       "    </tr>\n",
       "    <tr>\n",
       "      <th>MI</th>\n",
       "      <td>0.0</td>\n",
       "      <td>0.0</td>\n",
       "      <td>0.0</td>\n",
       "    </tr>\n",
       "    <tr>\n",
       "      <th>G-score</th>\n",
       "      <td>0.0</td>\n",
       "      <td>0.0</td>\n",
       "      <td>0.0</td>\n",
       "    </tr>\n",
       "  </tbody>\n",
       "</table>\n",
       "</div>"
      ],
      "text/plain": [
       "           frequency   MI  G-score\n",
       "frequency        0.0  0.0      0.0\n",
       "MI               0.0  0.0      0.0\n",
       "G-score          0.0  0.0      0.0"
      ]
     },
     "execution_count": 60,
     "metadata": {},
     "output_type": "execute_result"
    }
   ],
   "source": [
    "lemma_correlations.applymap(lambda x: p_value(x,n2) if x!=1 else 0)"
   ]
  },
  {
   "cell_type": "markdown",
   "metadata": {},
   "source": [
    "Здесь также нулевая гипотеза для всех значений отвергается."
   ]
  },
  {
   "cell_type": "markdown",
   "metadata": {},
   "source": [
    "Найдём <b>коэффициент Кенделла</b>:"
   ]
  },
  {
   "cell_type": "code",
   "execution_count": 61,
   "metadata": {},
   "outputs": [
    {
     "data": {
      "text/html": [
       "<div>\n",
       "<style>\n",
       "    .dataframe thead tr:only-child th {\n",
       "        text-align: right;\n",
       "    }\n",
       "\n",
       "    .dataframe thead th {\n",
       "        text-align: left;\n",
       "    }\n",
       "\n",
       "    .dataframe tbody tr th {\n",
       "        vertical-align: top;\n",
       "    }\n",
       "</style>\n",
       "<table border=\"1\" class=\"dataframe\">\n",
       "  <thead>\n",
       "    <tr style=\"text-align: right;\">\n",
       "      <th></th>\n",
       "      <th>frequency</th>\n",
       "      <th>MI</th>\n",
       "      <th>G-score</th>\n",
       "    </tr>\n",
       "  </thead>\n",
       "  <tbody>\n",
       "    <tr>\n",
       "      <th>frequency</th>\n",
       "      <td>1.000000</td>\n",
       "      <td>-0.172195</td>\n",
       "      <td>0.556361</td>\n",
       "    </tr>\n",
       "    <tr>\n",
       "      <th>MI</th>\n",
       "      <td>-0.172195</td>\n",
       "      <td>1.000000</td>\n",
       "      <td>0.285670</td>\n",
       "    </tr>\n",
       "    <tr>\n",
       "      <th>G-score</th>\n",
       "      <td>0.556361</td>\n",
       "      <td>0.285670</td>\n",
       "      <td>1.000000</td>\n",
       "    </tr>\n",
       "  </tbody>\n",
       "</table>\n",
       "</div>"
      ],
      "text/plain": [
       "           frequency        MI   G-score\n",
       "frequency   1.000000 -0.172195  0.556361\n",
       "MI         -0.172195  1.000000  0.285670\n",
       "G-score     0.556361  0.285670  1.000000"
      ]
     },
     "execution_count": 61,
     "metadata": {},
     "output_type": "execute_result"
    }
   ],
   "source": [
    "correlations = bigrams.corr(method='kendall').drop(labels=['id_wordform1','frequency:1',\n",
    "                                           'frequency:2','id_wordform2']).drop(labels=['id_wordform1',\n",
    "                                                                                       'frequency:1',\n",
    "                                                                                       'frequency:2',\n",
    "                                                                                       'id_wordform2'],axis=1)\n",
    "correlations"
   ]
  },
  {
   "cell_type": "code",
   "execution_count": 62,
   "metadata": {},
   "outputs": [
    {
     "data": {
      "text/html": [
       "<div>\n",
       "<style>\n",
       "    .dataframe thead tr:only-child th {\n",
       "        text-align: right;\n",
       "    }\n",
       "\n",
       "    .dataframe thead th {\n",
       "        text-align: left;\n",
       "    }\n",
       "\n",
       "    .dataframe tbody tr th {\n",
       "        vertical-align: top;\n",
       "    }\n",
       "</style>\n",
       "<table border=\"1\" class=\"dataframe\">\n",
       "  <thead>\n",
       "    <tr style=\"text-align: right;\">\n",
       "      <th></th>\n",
       "      <th>frequency</th>\n",
       "      <th>MI</th>\n",
       "      <th>G-score</th>\n",
       "    </tr>\n",
       "  </thead>\n",
       "  <tbody>\n",
       "    <tr>\n",
       "      <th>frequency</th>\n",
       "      <td>1.000000</td>\n",
       "      <td>-0.181392</td>\n",
       "      <td>0.563584</td>\n",
       "    </tr>\n",
       "    <tr>\n",
       "      <th>MI</th>\n",
       "      <td>-0.181392</td>\n",
       "      <td>1.000000</td>\n",
       "      <td>0.281138</td>\n",
       "    </tr>\n",
       "    <tr>\n",
       "      <th>G-score</th>\n",
       "      <td>0.563584</td>\n",
       "      <td>0.281138</td>\n",
       "      <td>1.000000</td>\n",
       "    </tr>\n",
       "  </tbody>\n",
       "</table>\n",
       "</div>"
      ],
      "text/plain": [
       "           frequency        MI   G-score\n",
       "frequency   1.000000 -0.181392  0.563584\n",
       "MI         -0.181392  1.000000  0.281138\n",
       "G-score     0.563584  0.281138  1.000000"
      ]
     },
     "execution_count": 62,
     "metadata": {},
     "output_type": "execute_result"
    }
   ],
   "source": [
    "lemma_correlations = lemma_bigrams.corr(method='kendall').drop(labels=['id_lemma1','frequency:1','frequency:2',\n",
    "                                           'id_lemma2']).drop(labels=['id_lemma1',\n",
    "                                                                      'frequency:1',\n",
    "                                                                      'frequency:2',\n",
    "                                                                      'id_lemma2'],axis=1)\n",
    "lemma_correlations"
   ]
  },
  {
   "cell_type": "markdown",
   "metadata": {},
   "source": [
    "Проверим на значимость:"
   ]
  },
  {
   "cell_type": "code",
   "execution_count": 63,
   "metadata": {},
   "outputs": [
    {
     "data": {
      "text/html": [
       "<div>\n",
       "<style>\n",
       "    .dataframe thead tr:only-child th {\n",
       "        text-align: right;\n",
       "    }\n",
       "\n",
       "    .dataframe thead th {\n",
       "        text-align: left;\n",
       "    }\n",
       "\n",
       "    .dataframe tbody tr th {\n",
       "        vertical-align: top;\n",
       "    }\n",
       "</style>\n",
       "<table border=\"1\" class=\"dataframe\">\n",
       "  <thead>\n",
       "    <tr style=\"text-align: right;\">\n",
       "      <th></th>\n",
       "      <th>frequency</th>\n",
       "      <th>MI</th>\n",
       "      <th>G-score</th>\n",
       "    </tr>\n",
       "  </thead>\n",
       "  <tbody>\n",
       "    <tr>\n",
       "      <th>frequency</th>\n",
       "      <td>0.0</td>\n",
       "      <td>0.0</td>\n",
       "      <td>0.0</td>\n",
       "    </tr>\n",
       "    <tr>\n",
       "      <th>MI</th>\n",
       "      <td>0.0</td>\n",
       "      <td>0.0</td>\n",
       "      <td>0.0</td>\n",
       "    </tr>\n",
       "    <tr>\n",
       "      <th>G-score</th>\n",
       "      <td>0.0</td>\n",
       "      <td>0.0</td>\n",
       "      <td>0.0</td>\n",
       "    </tr>\n",
       "  </tbody>\n",
       "</table>\n",
       "</div>"
      ],
      "text/plain": [
       "           frequency   MI  G-score\n",
       "frequency        0.0  0.0      0.0\n",
       "MI               0.0  0.0      0.0\n",
       "G-score          0.0  0.0      0.0"
      ]
     },
     "execution_count": 63,
     "metadata": {},
     "output_type": "execute_result"
    }
   ],
   "source": [
    "center_and_normalize = lambda x,n: x*(((9*(n**2)-9*n)/(10*n+10))**0.5)\n",
    "p_value = lambda x,n: (1-scipy.stats.norm.cdf(center_and_normalize(abs(x),n)))*2\n",
    "\n",
    "correlations.applymap(lambda x: p_value(x,n1) if x!=1 else 0)"
   ]
  },
  {
   "cell_type": "code",
   "execution_count": 64,
   "metadata": {},
   "outputs": [
    {
     "data": {
      "text/html": [
       "<div>\n",
       "<style>\n",
       "    .dataframe thead tr:only-child th {\n",
       "        text-align: right;\n",
       "    }\n",
       "\n",
       "    .dataframe thead th {\n",
       "        text-align: left;\n",
       "    }\n",
       "\n",
       "    .dataframe tbody tr th {\n",
       "        vertical-align: top;\n",
       "    }\n",
       "</style>\n",
       "<table border=\"1\" class=\"dataframe\">\n",
       "  <thead>\n",
       "    <tr style=\"text-align: right;\">\n",
       "      <th></th>\n",
       "      <th>frequency</th>\n",
       "      <th>MI</th>\n",
       "      <th>G-score</th>\n",
       "    </tr>\n",
       "  </thead>\n",
       "  <tbody>\n",
       "    <tr>\n",
       "      <th>frequency</th>\n",
       "      <td>0.0</td>\n",
       "      <td>0.0</td>\n",
       "      <td>0.0</td>\n",
       "    </tr>\n",
       "    <tr>\n",
       "      <th>MI</th>\n",
       "      <td>0.0</td>\n",
       "      <td>0.0</td>\n",
       "      <td>0.0</td>\n",
       "    </tr>\n",
       "    <tr>\n",
       "      <th>G-score</th>\n",
       "      <td>0.0</td>\n",
       "      <td>0.0</td>\n",
       "      <td>0.0</td>\n",
       "    </tr>\n",
       "  </tbody>\n",
       "</table>\n",
       "</div>"
      ],
      "text/plain": [
       "           frequency   MI  G-score\n",
       "frequency        0.0  0.0      0.0\n",
       "MI               0.0  0.0      0.0\n",
       "G-score          0.0  0.0      0.0"
      ]
     },
     "execution_count": 64,
     "metadata": {},
     "output_type": "execute_result"
    }
   ],
   "source": [
    "lemma_correlations.applymap(lambda x: p_value(x,n2) if x!=1 else 0)"
   ]
  },
  {
   "cell_type": "markdown",
   "metadata": {},
   "source": [
    "Все коэффициенты проходят проверку на значимость, так как вероятность истинности нулевой гипотезы настолько стремится\n",
    "к нулю, что не помещается полностью в переменную типа float"
   ]
  },
  {
   "cell_type": "markdown",
   "metadata": {
    "collapsed": true
   },
   "source": [
    "Сохраним полученные значения метрик колллокационной силы вместе с таблицами биграмм:"
   ]
  },
  {
   "cell_type": "code",
   "execution_count": 65,
   "metadata": {
    "collapsed": true
   },
   "outputs": [],
   "source": [
    "bigrams.to_csv('realec_bigrams_full.csv')\n",
    "lemma_bigrams.to_csv('realec_lemma_bigrams_full.csv')"
   ]
  },
  {
   "cell_type": "markdown",
   "metadata": {},
   "source": [
    "Теперь посмотрим ранговую корреляцию для биграмм, у которых частота >= 2:"
   ]
  },
  {
   "cell_type": "code",
   "execution_count": 40,
   "metadata": {
    "collapsed": true
   },
   "outputs": [],
   "source": [
    "cut_by_threshold = lambda df, threshold: df.loc[df['frequency'] >= threshold]"
   ]
  },
  {
   "cell_type": "code",
   "execution_count": 43,
   "metadata": {
    "collapsed": true
   },
   "outputs": [],
   "source": [
    "bigrams = cut_by_threshold(pandas.read_csv('realec_bigrams_full.csv',index_col='id',encoding='ansi'),2)"
   ]
  },
  {
   "cell_type": "markdown",
   "metadata": {},
   "source": [
    "Найдём <b>коэффициент Кенделла</b>:"
   ]
  },
  {
   "cell_type": "code",
   "execution_count": 44,
   "metadata": {},
   "outputs": [
    {
     "data": {
      "text/html": [
       "<div>\n",
       "<style>\n",
       "    .dataframe thead tr:only-child th {\n",
       "        text-align: right;\n",
       "    }\n",
       "\n",
       "    .dataframe thead th {\n",
       "        text-align: left;\n",
       "    }\n",
       "\n",
       "    .dataframe tbody tr th {\n",
       "        vertical-align: top;\n",
       "    }\n",
       "</style>\n",
       "<table border=\"1\" class=\"dataframe\">\n",
       "  <thead>\n",
       "    <tr style=\"text-align: right;\">\n",
       "      <th></th>\n",
       "      <th>frequency</th>\n",
       "      <th>MI</th>\n",
       "      <th>G-score</th>\n",
       "    </tr>\n",
       "  </thead>\n",
       "  <tbody>\n",
       "    <tr>\n",
       "      <th>frequency</th>\n",
       "      <td>1.000000</td>\n",
       "      <td>-0.057658</td>\n",
       "      <td>0.667701</td>\n",
       "    </tr>\n",
       "    <tr>\n",
       "      <th>MI</th>\n",
       "      <td>-0.057658</td>\n",
       "      <td>1.000000</td>\n",
       "      <td>0.203356</td>\n",
       "    </tr>\n",
       "    <tr>\n",
       "      <th>G-score</th>\n",
       "      <td>0.667701</td>\n",
       "      <td>0.203356</td>\n",
       "      <td>1.000000</td>\n",
       "    </tr>\n",
       "  </tbody>\n",
       "</table>\n",
       "</div>"
      ],
      "text/plain": [
       "           frequency        MI   G-score\n",
       "frequency   1.000000 -0.057658  0.667701\n",
       "MI         -0.057658  1.000000  0.203356\n",
       "G-score     0.667701  0.203356  1.000000"
      ]
     },
     "execution_count": 44,
     "metadata": {},
     "output_type": "execute_result"
    }
   ],
   "source": [
    "correlations = bigrams.corr(method='kendall').drop(labels=['id_wordform1','frequency:1',\n",
    "                                           'frequency:2','id_wordform2']).drop(labels=['id_wordform1',\n",
    "                                                                                       'frequency:1',\n",
    "                                                                                       'frequency:2',\n",
    "                                                                                       'id_wordform2'],axis=1)\n",
    "correlations"
   ]
  },
  {
   "cell_type": "markdown",
   "metadata": {},
   "source": [
    "Проверим на значимость:"
   ]
  },
  {
   "cell_type": "code",
   "execution_count": 46,
   "metadata": {
    "collapsed": true
   },
   "outputs": [],
   "source": [
    "n_bigrams = bigrams.shape[0]"
   ]
  },
  {
   "cell_type": "code",
   "execution_count": 47,
   "metadata": {},
   "outputs": [
    {
     "data": {
      "text/plain": [
       "128624"
      ]
     },
     "execution_count": 47,
     "metadata": {},
     "output_type": "execute_result"
    }
   ],
   "source": [
    "n_bigrams"
   ]
  },
  {
   "cell_type": "code",
   "execution_count": 53,
   "metadata": {},
   "outputs": [
    {
     "data": {
      "text/html": [
       "<div>\n",
       "<style>\n",
       "    .dataframe thead tr:only-child th {\n",
       "        text-align: right;\n",
       "    }\n",
       "\n",
       "    .dataframe thead th {\n",
       "        text-align: left;\n",
       "    }\n",
       "\n",
       "    .dataframe tbody tr th {\n",
       "        vertical-align: top;\n",
       "    }\n",
       "</style>\n",
       "<table border=\"1\" class=\"dataframe\">\n",
       "  <thead>\n",
       "    <tr style=\"text-align: right;\">\n",
       "      <th></th>\n",
       "      <th>frequency</th>\n",
       "      <th>MI</th>\n",
       "      <th>G-score</th>\n",
       "    </tr>\n",
       "  </thead>\n",
       "  <tbody>\n",
       "    <tr>\n",
       "      <th>frequency</th>\n",
       "      <td>0.0</td>\n",
       "      <td>0.0</td>\n",
       "      <td>0.0</td>\n",
       "    </tr>\n",
       "    <tr>\n",
       "      <th>MI</th>\n",
       "      <td>0.0</td>\n",
       "      <td>0.0</td>\n",
       "      <td>0.0</td>\n",
       "    </tr>\n",
       "    <tr>\n",
       "      <th>G-score</th>\n",
       "      <td>0.0</td>\n",
       "      <td>0.0</td>\n",
       "      <td>0.0</td>\n",
       "    </tr>\n",
       "  </tbody>\n",
       "</table>\n",
       "</div>"
      ],
      "text/plain": [
       "           frequency   MI  G-score\n",
       "frequency        0.0  0.0      0.0\n",
       "MI               0.0  0.0      0.0\n",
       "G-score          0.0  0.0      0.0"
      ]
     },
     "execution_count": 53,
     "metadata": {},
     "output_type": "execute_result"
    }
   ],
   "source": [
    "center_and_normalize = lambda x,n: x*(((9*(n**2)-9*n)/(10*n+10))**0.5)\n",
    "p_value = lambda x,n: (1-scipy.stats.norm.cdf(center_and_normalize(abs(x),n)))*2\n",
    "\n",
    "correlations.applymap(lambda x: p_value(x,n_bigrams) if x!=1 else 0)"
   ]
  },
  {
   "cell_type": "markdown",
   "metadata": {},
   "source": [
    "Найдём <b>коэффициент Спирмена</b>:"
   ]
  },
  {
   "cell_type": "code",
   "execution_count": 54,
   "metadata": {},
   "outputs": [
    {
     "data": {
      "text/html": [
       "<div>\n",
       "<style>\n",
       "    .dataframe thead tr:only-child th {\n",
       "        text-align: right;\n",
       "    }\n",
       "\n",
       "    .dataframe thead th {\n",
       "        text-align: left;\n",
       "    }\n",
       "\n",
       "    .dataframe tbody tr th {\n",
       "        vertical-align: top;\n",
       "    }\n",
       "</style>\n",
       "<table border=\"1\" class=\"dataframe\">\n",
       "  <thead>\n",
       "    <tr style=\"text-align: right;\">\n",
       "      <th></th>\n",
       "      <th>frequency</th>\n",
       "      <th>MI</th>\n",
       "      <th>G-score</th>\n",
       "    </tr>\n",
       "  </thead>\n",
       "  <tbody>\n",
       "    <tr>\n",
       "      <th>frequency</th>\n",
       "      <td>1.000000</td>\n",
       "      <td>-0.080990</td>\n",
       "      <td>0.806711</td>\n",
       "    </tr>\n",
       "    <tr>\n",
       "      <th>MI</th>\n",
       "      <td>-0.080990</td>\n",
       "      <td>1.000000</td>\n",
       "      <td>0.298085</td>\n",
       "    </tr>\n",
       "    <tr>\n",
       "      <th>G-score</th>\n",
       "      <td>0.806711</td>\n",
       "      <td>0.298085</td>\n",
       "      <td>1.000000</td>\n",
       "    </tr>\n",
       "  </tbody>\n",
       "</table>\n",
       "</div>"
      ],
      "text/plain": [
       "           frequency        MI   G-score\n",
       "frequency   1.000000 -0.080990  0.806711\n",
       "MI         -0.080990  1.000000  0.298085\n",
       "G-score     0.806711  0.298085  1.000000"
      ]
     },
     "execution_count": 54,
     "metadata": {},
     "output_type": "execute_result"
    }
   ],
   "source": [
    "correlations = bigrams.corr(method='spearman').drop(labels=['id_wordform1','frequency:1',\n",
    "                                           'frequency:2','id_wordform2']).drop(labels=['id_wordform1',\n",
    "                                                                                       'frequency:1',\n",
    "                                                                                       'frequency:2',\n",
    "                                                                                       'id_wordform2'],axis=1)\n",
    "correlations"
   ]
  },
  {
   "cell_type": "markdown",
   "metadata": {},
   "source": [
    "Проверим гипотезу о равенстве полученных коэффициентов нулю:"
   ]
  },
  {
   "cell_type": "code",
   "execution_count": 55,
   "metadata": {},
   "outputs": [
    {
     "data": {
      "text/html": [
       "<div>\n",
       "<style>\n",
       "    .dataframe thead tr:only-child th {\n",
       "        text-align: right;\n",
       "    }\n",
       "\n",
       "    .dataframe thead th {\n",
       "        text-align: left;\n",
       "    }\n",
       "\n",
       "    .dataframe tbody tr th {\n",
       "        vertical-align: top;\n",
       "    }\n",
       "</style>\n",
       "<table border=\"1\" class=\"dataframe\">\n",
       "  <thead>\n",
       "    <tr style=\"text-align: right;\">\n",
       "      <th></th>\n",
       "      <th>frequency</th>\n",
       "      <th>MI</th>\n",
       "      <th>G-score</th>\n",
       "    </tr>\n",
       "  </thead>\n",
       "  <tbody>\n",
       "    <tr>\n",
       "      <th>frequency</th>\n",
       "      <td>0.0</td>\n",
       "      <td>0.0</td>\n",
       "      <td>0.0</td>\n",
       "    </tr>\n",
       "    <tr>\n",
       "      <th>MI</th>\n",
       "      <td>0.0</td>\n",
       "      <td>0.0</td>\n",
       "      <td>0.0</td>\n",
       "    </tr>\n",
       "    <tr>\n",
       "      <th>G-score</th>\n",
       "      <td>0.0</td>\n",
       "      <td>0.0</td>\n",
       "      <td>0.0</td>\n",
       "    </tr>\n",
       "  </tbody>\n",
       "</table>\n",
       "</div>"
      ],
      "text/plain": [
       "           frequency   MI  G-score\n",
       "frequency        0.0  0.0      0.0\n",
       "MI               0.0  0.0      0.0\n",
       "G-score          0.0  0.0      0.0"
      ]
     },
     "execution_count": 55,
     "metadata": {},
     "output_type": "execute_result"
    }
   ],
   "source": [
    "center_and_normalize = lambda x,n: x*((n-1)**0.5)\n",
    "\n",
    "p_value = lambda x,n: (1-scipy.stats.norm.cdf(center_and_normalize(abs(x),n)))*2\n",
    "\n",
    "correlations.applymap(lambda x: p_value(x,n_bigrams) if x!=1 else 0)"
   ]
  },
  {
   "cell_type": "markdown",
   "metadata": {},
   "source": [
    "<h2>2. Подсчёт метрик коллокационной силы Mutual Information и Lexical Gravity, их корреляции для корпуса LOCNESS</h2>"
   ]
  },
  {
   "cell_type": "markdown",
   "metadata": {},
   "source": [
    "Рассматривались все тексты корпуса LOCNESS (413 текстов, 324 304 слова)."
   ]
  },
  {
   "cell_type": "code",
   "execution_count": 1,
   "metadata": {
    "collapsed": true
   },
   "outputs": [],
   "source": [
    "import sqlite3, pandas"
   ]
  },
  {
   "cell_type": "markdown",
   "metadata": {},
   "source": [
    "Откроем составленную базу данных и файл с SQL-скриптом:"
   ]
  },
  {
   "cell_type": "code",
   "execution_count": 5,
   "metadata": {
    "collapsed": true
   },
   "outputs": [],
   "source": [
    "db = sqlite3.connect('locness_database_full.db')\n",
    "\n",
    "with open ('get_full_table.sql','r',encoding='utf-8') as source:\n",
    "    query = source.read().split(';')"
   ]
  },
  {
   "cell_type": "markdown",
   "metadata": {},
   "source": [
    "Выполним содержащиеся в скрипте запросы к базе данных:"
   ]
  },
  {
   "cell_type": "code",
   "execution_count": 6,
   "metadata": {
    "collapsed": true
   },
   "outputs": [],
   "source": [
    "c = db.cursor()\n",
    "\n",
    "for statement in query:\n",
    "    c.execute(statement)\n",
    "    \n",
    "db.commit()"
   ]
  },
  {
   "cell_type": "markdown",
   "metadata": {},
   "source": [
    "Запишем полученные сводные таблицы в объекты pandas: bigrams - для биграмм, составленных\n",
    "из словоформ; lemma_bigrams - для биграмм, составленных из лемм, выделенных парсером udpipe (Биграммы выделялись только в пределах границ предложений, как в работе Гриса)."
   ]
  },
  {
   "cell_type": "code",
   "execution_count": null,
   "metadata": {
    "collapsed": true
   },
   "outputs": [],
   "source": [
    "bigrams = pandas.read_sql('SELECT * FROM bigrams_with_freqs3 WHERE frequency>0',db,index_col='id')\n",
    "\n",
    "lemma_bigrams = pandas.read_sql('SELECT * FROM lemma_bigrams_with_freqs1 WHERE frequency>0',db,index_col='id')"
   ]
  },
  {
   "cell_type": "markdown",
   "metadata": {},
   "source": [
    "Найдём значения <b>метрики MI</b> для биграмм:"
   ]
  },
  {
   "cell_type": "code",
   "execution_count": 9,
   "metadata": {
    "collapsed": true
   },
   "outputs": [],
   "source": [
    "import math\n",
    "\n",
    "N = list(db.execute('SELECT SUM(Frequency) FROM wordforms;'))[0][0]\n",
    "bigrams['MI'] = bigrams.apply(lambda x: math.log(x['frequency'],\n",
    "                                                 2)+math.log(N,2)-math.log(x['frequency:1'],2)\n",
    "                              -math.log(x['frequency:2'],2),\n",
    "                              axis=1)"
   ]
  },
  {
   "cell_type": "code",
   "execution_count": 10,
   "metadata": {
    "collapsed": true
   },
   "outputs": [],
   "source": [
    "lemma_bigrams['MI'] = lemma_bigrams.apply(lambda x: math.log(x['frequency'],\n",
    "                                                 2)+math.log(N,2)-math.log(x['frequency:1'],2)\n",
    "                              -math.log(x['frequency:2'],2),\n",
    "                              axis=1)"
   ]
  },
  {
   "cell_type": "code",
   "execution_count": 11,
   "metadata": {
    "collapsed": true
   },
   "outputs": [],
   "source": [
    "db.close()"
   ]
  },
  {
   "cell_type": "markdown",
   "metadata": {
    "collapsed": true
   },
   "source": [
    "Теперь найдём значения <b>метрики Lexical Gravity</b> (G-score):"
   ]
  },
  {
   "cell_type": "code",
   "execution_count": 12,
   "metadata": {
    "collapsed": true
   },
   "outputs": [],
   "source": [
    "form_typesafter = bigrams['id_wordform1'].value_counts()\n",
    "form_typesbefore = bigrams['id_wordform2'].value_counts()\n",
    "\n",
    "lemma_typesafter = lemma_bigrams['id_lemma1'].value_counts()\n",
    "lemma_typesbefore = lemma_bigrams['id_lemma2'].value_counts()"
   ]
  },
  {
   "cell_type": "code",
   "execution_count": 13,
   "metadata": {
    "collapsed": true
   },
   "outputs": [],
   "source": [
    "bigrams['G-score'] = bigrams.apply(lambda x: x['MI']-math.log(N,2)+math.log(x['frequency'],2)+\n",
    "                                   math.log(form_typesafter[x['id_wordform1']],2)+\n",
    "                                   math.log(form_typesbefore[x['id_wordform2']],2),axis = 1)\n",
    "\n",
    "lemma_bigrams['G-score'] = lemma_bigrams.apply(lambda x: x['MI']-math.log(N,2)+math.log(x['frequency'],2)+\n",
    "                                  math.log(lemma_typesafter[x['id_lemma1']],2)+\n",
    "                                  math.log(lemma_typesbefore[x['id_lemma2']],2),axis = 1)"
   ]
  },
  {
   "cell_type": "markdown",
   "metadata": {},
   "source": [
    "Найдём линейные парные <b>коэффициенты корреляции Пирсона</b> для частоты и метрик MI и Lexical Gravity:"
   ]
  },
  {
   "cell_type": "code",
   "execution_count": 16,
   "metadata": {},
   "outputs": [
    {
     "data": {
      "text/html": [
       "<div>\n",
       "<style>\n",
       "    .dataframe thead tr:only-child th {\n",
       "        text-align: right;\n",
       "    }\n",
       "\n",
       "    .dataframe thead th {\n",
       "        text-align: left;\n",
       "    }\n",
       "\n",
       "    .dataframe tbody tr th {\n",
       "        vertical-align: top;\n",
       "    }\n",
       "</style>\n",
       "<table border=\"1\" class=\"dataframe\">\n",
       "  <thead>\n",
       "    <tr style=\"text-align: right;\">\n",
       "      <th></th>\n",
       "      <th>frequency</th>\n",
       "      <th>MI</th>\n",
       "      <th>G-score</th>\n",
       "    </tr>\n",
       "  </thead>\n",
       "  <tbody>\n",
       "    <tr>\n",
       "      <th>frequency</th>\n",
       "      <td>1.000000</td>\n",
       "      <td>-0.052091</td>\n",
       "      <td>0.371785</td>\n",
       "    </tr>\n",
       "    <tr>\n",
       "      <th>MI</th>\n",
       "      <td>-0.052091</td>\n",
       "      <td>1.000000</td>\n",
       "      <td>0.181861</td>\n",
       "    </tr>\n",
       "    <tr>\n",
       "      <th>G-score</th>\n",
       "      <td>0.371785</td>\n",
       "      <td>0.181861</td>\n",
       "      <td>1.000000</td>\n",
       "    </tr>\n",
       "  </tbody>\n",
       "</table>\n",
       "</div>"
      ],
      "text/plain": [
       "           frequency        MI   G-score\n",
       "frequency   1.000000 -0.052091  0.371785\n",
       "MI         -0.052091  1.000000  0.181861\n",
       "G-score     0.371785  0.181861  1.000000"
      ]
     },
     "execution_count": 16,
     "metadata": {},
     "output_type": "execute_result"
    }
   ],
   "source": [
    "correlations = bigrams.corr(method='pearson').drop(labels=['id_wordform1','frequency:1',\n",
    "                                           'frequency:2','id_wordform2']).drop(labels=['id_wordform1',\n",
    "                                                                                       'frequency:1',\n",
    "                                                                                       'frequency:2',\n",
    "                                                                                       'id_wordform2'],axis=1)\n",
    "correlations"
   ]
  },
  {
   "cell_type": "markdown",
   "metadata": {},
   "source": [
    "Теперь найдём <b>ранговые коэффициенты корреляции Спирмена и Кендалла</b>."
   ]
  },
  {
   "cell_type": "markdown",
   "metadata": {},
   "source": [
    "Найдём <b>коэффициент Спирмена</b>:"
   ]
  },
  {
   "cell_type": "code",
   "execution_count": 21,
   "metadata": {},
   "outputs": [
    {
     "data": {
      "text/html": [
       "<div>\n",
       "<style>\n",
       "    .dataframe thead tr:only-child th {\n",
       "        text-align: right;\n",
       "    }\n",
       "\n",
       "    .dataframe thead th {\n",
       "        text-align: left;\n",
       "    }\n",
       "\n",
       "    .dataframe tbody tr th {\n",
       "        vertical-align: top;\n",
       "    }\n",
       "</style>\n",
       "<table border=\"1\" class=\"dataframe\">\n",
       "  <thead>\n",
       "    <tr style=\"text-align: right;\">\n",
       "      <th></th>\n",
       "      <th>frequency</th>\n",
       "      <th>MI</th>\n",
       "      <th>G-score</th>\n",
       "    </tr>\n",
       "  </thead>\n",
       "  <tbody>\n",
       "    <tr>\n",
       "      <th>frequency</th>\n",
       "      <td>1.000000</td>\n",
       "      <td>-0.246435</td>\n",
       "      <td>0.658432</td>\n",
       "    </tr>\n",
       "    <tr>\n",
       "      <th>MI</th>\n",
       "      <td>-0.246435</td>\n",
       "      <td>1.000000</td>\n",
       "      <td>0.343401</td>\n",
       "    </tr>\n",
       "    <tr>\n",
       "      <th>G-score</th>\n",
       "      <td>0.658432</td>\n",
       "      <td>0.343401</td>\n",
       "      <td>1.000000</td>\n",
       "    </tr>\n",
       "  </tbody>\n",
       "</table>\n",
       "</div>"
      ],
      "text/plain": [
       "           frequency        MI   G-score\n",
       "frequency   1.000000 -0.246435  0.658432\n",
       "MI         -0.246435  1.000000  0.343401\n",
       "G-score     0.658432  0.343401  1.000000"
      ]
     },
     "execution_count": 21,
     "metadata": {},
     "output_type": "execute_result"
    }
   ],
   "source": [
    "correlations = bigrams.corr(method='spearman').drop(labels=['id_wordform1','frequency:1',\n",
    "                                           'frequency:2','id_wordform2']).drop(labels=['id_wordform1',\n",
    "                                                                                       'frequency:1',\n",
    "                                                                                       'frequency:2',\n",
    "                                                                                       'id_wordform2'],axis=1)\n",
    "correlations"
   ]
  },
  {
   "cell_type": "markdown",
   "metadata": {},
   "source": [
    "Найдём <b>коэффициент Кенделла</b>:"
   ]
  },
  {
   "cell_type": "code",
   "execution_count": 6,
   "metadata": {},
   "outputs": [
    {
     "data": {
      "text/html": [
       "<div>\n",
       "<style>\n",
       "    .dataframe thead tr:only-child th {\n",
       "        text-align: right;\n",
       "    }\n",
       "\n",
       "    .dataframe thead th {\n",
       "        text-align: left;\n",
       "    }\n",
       "\n",
       "    .dataframe tbody tr th {\n",
       "        vertical-align: top;\n",
       "    }\n",
       "</style>\n",
       "<table border=\"1\" class=\"dataframe\">\n",
       "  <thead>\n",
       "    <tr style=\"text-align: right;\">\n",
       "      <th></th>\n",
       "      <th>id</th>\n",
       "      <th>frequency</th>\n",
       "      <th>MI</th>\n",
       "      <th>G-score</th>\n",
       "    </tr>\n",
       "  </thead>\n",
       "  <tbody>\n",
       "    <tr>\n",
       "      <th>id</th>\n",
       "      <td>1.000000</td>\n",
       "      <td>-0.313668</td>\n",
       "      <td>0.246568</td>\n",
       "      <td>-0.095631</td>\n",
       "    </tr>\n",
       "    <tr>\n",
       "      <th>frequency</th>\n",
       "      <td>-0.313668</td>\n",
       "      <td>1.000000</td>\n",
       "      <td>-0.192800</td>\n",
       "      <td>0.548591</td>\n",
       "    </tr>\n",
       "    <tr>\n",
       "      <th>MI</th>\n",
       "      <td>0.246568</td>\n",
       "      <td>-0.192800</td>\n",
       "      <td>1.000000</td>\n",
       "      <td>0.261713</td>\n",
       "    </tr>\n",
       "    <tr>\n",
       "      <th>G-score</th>\n",
       "      <td>-0.095631</td>\n",
       "      <td>0.548591</td>\n",
       "      <td>0.261713</td>\n",
       "      <td>1.000000</td>\n",
       "    </tr>\n",
       "  </tbody>\n",
       "</table>\n",
       "</div>"
      ],
      "text/plain": [
       "                 id  frequency        MI   G-score\n",
       "id         1.000000  -0.313668  0.246568 -0.095631\n",
       "frequency -0.313668   1.000000 -0.192800  0.548591\n",
       "MI         0.246568  -0.192800  1.000000  0.261713\n",
       "G-score   -0.095631   0.548591  0.261713  1.000000"
      ]
     },
     "execution_count": 6,
     "metadata": {},
     "output_type": "execute_result"
    }
   ],
   "source": [
    "correlations = bigrams.corr(method='kendall').drop(labels=['id_wordform1','frequency:1',\n",
    "                                           'frequency:2','id_wordform2']).drop(labels=['id_wordform1',\n",
    "                                                                                       'frequency:1',\n",
    "                                                                                       'frequency:2',\n",
    "                                                                                       'id_wordform2'],axis=1)\n",
    "correlations"
   ]
  },
  {
   "cell_type": "markdown",
   "metadata": {
    "collapsed": true
   },
   "source": [
    "Сохраним полученные значения метрик колллокационной силы вместе с таблицами биграмм:"
   ]
  },
  {
   "cell_type": "code",
   "execution_count": 19,
   "metadata": {
    "collapsed": true
   },
   "outputs": [],
   "source": [
    "bigrams.to_csv('locness_bigrams_full.csv')\n",
    "lemma_bigrams.to_csv('locness_lemma_bigrams_full.csv')"
   ]
  },
  {
   "cell_type": "markdown",
   "metadata": {},
   "source": [
    "Теперь посмотрим ранговую корреляцию для биграмм, у которых частота >= 2:"
   ]
  },
  {
   "cell_type": "code",
   "execution_count": 40,
   "metadata": {
    "collapsed": true
   },
   "outputs": [],
   "source": [
    "cut_by_threshold = lambda df, threshold: df.loc[df['frequency'] >= threshold]"
   ]
  },
  {
   "cell_type": "code",
   "execution_count": 56,
   "metadata": {
    "collapsed": true
   },
   "outputs": [],
   "source": [
    "bigrams = cut_by_threshold(pandas.read_csv('locness_bigrams_full.csv',index_col='id',encoding='ansi'),2)"
   ]
  },
  {
   "cell_type": "markdown",
   "metadata": {},
   "source": [
    "Найдём <b>коэффициент Кенделла</b>:"
   ]
  },
  {
   "cell_type": "code",
   "execution_count": 57,
   "metadata": {},
   "outputs": [
    {
     "data": {
      "text/html": [
       "<div>\n",
       "<style>\n",
       "    .dataframe thead tr:only-child th {\n",
       "        text-align: right;\n",
       "    }\n",
       "\n",
       "    .dataframe thead th {\n",
       "        text-align: left;\n",
       "    }\n",
       "\n",
       "    .dataframe tbody tr th {\n",
       "        vertical-align: top;\n",
       "    }\n",
       "</style>\n",
       "<table border=\"1\" class=\"dataframe\">\n",
       "  <thead>\n",
       "    <tr style=\"text-align: right;\">\n",
       "      <th></th>\n",
       "      <th>frequency</th>\n",
       "      <th>MI</th>\n",
       "      <th>G-score</th>\n",
       "    </tr>\n",
       "  </thead>\n",
       "  <tbody>\n",
       "    <tr>\n",
       "      <th>frequency</th>\n",
       "      <td>1.000000</td>\n",
       "      <td>-0.073167</td>\n",
       "      <td>0.695589</td>\n",
       "    </tr>\n",
       "    <tr>\n",
       "      <th>MI</th>\n",
       "      <td>-0.073167</td>\n",
       "      <td>1.000000</td>\n",
       "      <td>0.117361</td>\n",
       "    </tr>\n",
       "    <tr>\n",
       "      <th>G-score</th>\n",
       "      <td>0.695589</td>\n",
       "      <td>0.117361</td>\n",
       "      <td>1.000000</td>\n",
       "    </tr>\n",
       "  </tbody>\n",
       "</table>\n",
       "</div>"
      ],
      "text/plain": [
       "           frequency        MI   G-score\n",
       "frequency   1.000000 -0.073167  0.695589\n",
       "MI         -0.073167  1.000000  0.117361\n",
       "G-score     0.695589  0.117361  1.000000"
      ]
     },
     "execution_count": 57,
     "metadata": {},
     "output_type": "execute_result"
    }
   ],
   "source": [
    "correlations = bigrams.corr(method='kendall').drop(labels=['id_wordform1','frequency:1',\n",
    "                                           'frequency:2','id_wordform2']).drop(labels=['id_wordform1',\n",
    "                                                                                       'frequency:1',\n",
    "                                                                                       'frequency:2',\n",
    "                                                                                       'id_wordform2'],axis=1)\n",
    "correlations"
   ]
  },
  {
   "cell_type": "markdown",
   "metadata": {},
   "source": [
    "Проверим на значимость:"
   ]
  },
  {
   "cell_type": "code",
   "execution_count": 58,
   "metadata": {
    "collapsed": true
   },
   "outputs": [],
   "source": [
    "n_bigrams = bigrams.shape[0]"
   ]
  },
  {
   "cell_type": "code",
   "execution_count": 59,
   "metadata": {},
   "outputs": [
    {
     "data": {
      "text/plain": [
       "33830"
      ]
     },
     "execution_count": 59,
     "metadata": {},
     "output_type": "execute_result"
    }
   ],
   "source": [
    "n_bigrams"
   ]
  },
  {
   "cell_type": "code",
   "execution_count": 60,
   "metadata": {},
   "outputs": [
    {
     "data": {
      "text/html": [
       "<div>\n",
       "<style>\n",
       "    .dataframe thead tr:only-child th {\n",
       "        text-align: right;\n",
       "    }\n",
       "\n",
       "    .dataframe thead th {\n",
       "        text-align: left;\n",
       "    }\n",
       "\n",
       "    .dataframe tbody tr th {\n",
       "        vertical-align: top;\n",
       "    }\n",
       "</style>\n",
       "<table border=\"1\" class=\"dataframe\">\n",
       "  <thead>\n",
       "    <tr style=\"text-align: right;\">\n",
       "      <th></th>\n",
       "      <th>frequency</th>\n",
       "      <th>MI</th>\n",
       "      <th>G-score</th>\n",
       "    </tr>\n",
       "  </thead>\n",
       "  <tbody>\n",
       "    <tr>\n",
       "      <th>frequency</th>\n",
       "      <td>0.0</td>\n",
       "      <td>0.0</td>\n",
       "      <td>0.0</td>\n",
       "    </tr>\n",
       "    <tr>\n",
       "      <th>MI</th>\n",
       "      <td>0.0</td>\n",
       "      <td>0.0</td>\n",
       "      <td>0.0</td>\n",
       "    </tr>\n",
       "    <tr>\n",
       "      <th>G-score</th>\n",
       "      <td>0.0</td>\n",
       "      <td>0.0</td>\n",
       "      <td>0.0</td>\n",
       "    </tr>\n",
       "  </tbody>\n",
       "</table>\n",
       "</div>"
      ],
      "text/plain": [
       "           frequency   MI  G-score\n",
       "frequency        0.0  0.0      0.0\n",
       "MI               0.0  0.0      0.0\n",
       "G-score          0.0  0.0      0.0"
      ]
     },
     "execution_count": 60,
     "metadata": {},
     "output_type": "execute_result"
    }
   ],
   "source": [
    "center_and_normalize = lambda x,n: x*(((9*(n**2)-9*n)/(10*n+10))**0.5)\n",
    "p_value = lambda x,n: (1-scipy.stats.norm.cdf(center_and_normalize(abs(x),n)))*2\n",
    "\n",
    "correlations.applymap(lambda x: p_value(x,n_bigrams) if x!=1 else 0)"
   ]
  },
  {
   "cell_type": "markdown",
   "metadata": {},
   "source": [
    "Найдём <b>коэффициент Спирмена</b>:"
   ]
  },
  {
   "cell_type": "code",
   "execution_count": 61,
   "metadata": {},
   "outputs": [
    {
     "data": {
      "text/html": [
       "<div>\n",
       "<style>\n",
       "    .dataframe thead tr:only-child th {\n",
       "        text-align: right;\n",
       "    }\n",
       "\n",
       "    .dataframe thead th {\n",
       "        text-align: left;\n",
       "    }\n",
       "\n",
       "    .dataframe tbody tr th {\n",
       "        vertical-align: top;\n",
       "    }\n",
       "</style>\n",
       "<table border=\"1\" class=\"dataframe\">\n",
       "  <thead>\n",
       "    <tr style=\"text-align: right;\">\n",
       "      <th></th>\n",
       "      <th>frequency</th>\n",
       "      <th>MI</th>\n",
       "      <th>G-score</th>\n",
       "    </tr>\n",
       "  </thead>\n",
       "  <tbody>\n",
       "    <tr>\n",
       "      <th>frequency</th>\n",
       "      <td>1.000000</td>\n",
       "      <td>-0.099859</td>\n",
       "      <td>0.828294</td>\n",
       "    </tr>\n",
       "    <tr>\n",
       "      <th>MI</th>\n",
       "      <td>-0.099859</td>\n",
       "      <td>1.000000</td>\n",
       "      <td>0.174198</td>\n",
       "    </tr>\n",
       "    <tr>\n",
       "      <th>G-score</th>\n",
       "      <td>0.828294</td>\n",
       "      <td>0.174198</td>\n",
       "      <td>1.000000</td>\n",
       "    </tr>\n",
       "  </tbody>\n",
       "</table>\n",
       "</div>"
      ],
      "text/plain": [
       "           frequency        MI   G-score\n",
       "frequency   1.000000 -0.099859  0.828294\n",
       "MI         -0.099859  1.000000  0.174198\n",
       "G-score     0.828294  0.174198  1.000000"
      ]
     },
     "execution_count": 61,
     "metadata": {},
     "output_type": "execute_result"
    }
   ],
   "source": [
    "correlations = bigrams.corr(method='spearman').drop(labels=['id_wordform1','frequency:1',\n",
    "                                           'frequency:2','id_wordform2']).drop(labels=['id_wordform1',\n",
    "                                                                                       'frequency:1',\n",
    "                                                                                       'frequency:2',\n",
    "                                                                                       'id_wordform2'],axis=1)\n",
    "correlations"
   ]
  },
  {
   "cell_type": "markdown",
   "metadata": {},
   "source": [
    "Проверим гипотезу о равенстве полученных коэффициентов нулю:"
   ]
  },
  {
   "cell_type": "code",
   "execution_count": 62,
   "metadata": {},
   "outputs": [
    {
     "data": {
      "text/html": [
       "<div>\n",
       "<style>\n",
       "    .dataframe thead tr:only-child th {\n",
       "        text-align: right;\n",
       "    }\n",
       "\n",
       "    .dataframe thead th {\n",
       "        text-align: left;\n",
       "    }\n",
       "\n",
       "    .dataframe tbody tr th {\n",
       "        vertical-align: top;\n",
       "    }\n",
       "</style>\n",
       "<table border=\"1\" class=\"dataframe\">\n",
       "  <thead>\n",
       "    <tr style=\"text-align: right;\">\n",
       "      <th></th>\n",
       "      <th>frequency</th>\n",
       "      <th>MI</th>\n",
       "      <th>G-score</th>\n",
       "    </tr>\n",
       "  </thead>\n",
       "  <tbody>\n",
       "    <tr>\n",
       "      <th>frequency</th>\n",
       "      <td>0.0</td>\n",
       "      <td>0.0</td>\n",
       "      <td>0.0</td>\n",
       "    </tr>\n",
       "    <tr>\n",
       "      <th>MI</th>\n",
       "      <td>0.0</td>\n",
       "      <td>0.0</td>\n",
       "      <td>0.0</td>\n",
       "    </tr>\n",
       "    <tr>\n",
       "      <th>G-score</th>\n",
       "      <td>0.0</td>\n",
       "      <td>0.0</td>\n",
       "      <td>0.0</td>\n",
       "    </tr>\n",
       "  </tbody>\n",
       "</table>\n",
       "</div>"
      ],
      "text/plain": [
       "           frequency   MI  G-score\n",
       "frequency        0.0  0.0      0.0\n",
       "MI               0.0  0.0      0.0\n",
       "G-score          0.0  0.0      0.0"
      ]
     },
     "execution_count": 62,
     "metadata": {},
     "output_type": "execute_result"
    }
   ],
   "source": [
    "center_and_normalize = lambda x,n: x*((n-1)**0.5)\n",
    "\n",
    "p_value = lambda x,n: (1-scipy.stats.norm.cdf(center_and_normalize(abs(x),n)))*2\n",
    "\n",
    "correlations.applymap(lambda x: p_value(x,n_bigrams) if x!=1 else 0)"
   ]
  },
  {
   "cell_type": "markdown",
   "metadata": {},
   "source": [
    "<h2>3. Анализ распределения метрик для корпусов</h2>"
   ]
  },
  {
   "cell_type": "code",
   "execution_count": 2,
   "metadata": {
    "collapsed": true
   },
   "outputs": [],
   "source": [
    "import pandas, math\n",
    "import matplotlib.pyplot as plt\n",
    "\n",
    "realec_bigrams = pandas.read_csv('realec_bigrams_full.csv',encoding='ansi')\n",
    "realec_lemma_bigrams = pandas.read_csv('realec_lemma_bigrams_full.csv',encoding='ansi')\n",
    "locness_bigrams = pandas.read_csv('locness_bigrams_full.csv',encoding='ansi')"
   ]
  },
  {
   "cell_type": "code",
   "execution_count": 11,
   "metadata": {},
   "outputs": [
    {
     "data": {
      "image/png": "[encoded data removed]",
      "text/plain": [
       "<matplotlib.figure.Figure at 0x157188d0>"
      ]
     },
     "metadata": {},
     "output_type": "display_data"
    }
   ],
   "source": [
    "plt.figure(figsize=(8,8))\n",
    "plt.scatter(realec_bigrams['frequency'].apply(lambda x: math.log(x,2)),realec_bigrams['G-score'])\n",
    "plt.xlabel('Частота биграммы, двоичный логарифм')\n",
    "plt.ylabel('Lexical gravity')\n",
    "plt.title('REALEC')\n",
    "plt.savefig('figures/realec_full_frequency_gravity_corr.png',bbox_inches='tight')\n",
    "plt.show()"
   ]
  },
  {
   "cell_type": "code",
   "execution_count": 12,
   "metadata": {},
   "outputs": [
    {
     "data": {
      "image/png": "[encoded data removed]",
      "text/plain": [
       "<matplotlib.figure.Figure at 0x14955ac8>"
      ]
     },
     "metadata": {},
     "output_type": "display_data"
    }
   ],
   "source": [
    "plt.figure(figsize=(8,8))\n",
    "plt.scatter(locness_bigrams['frequency'].apply(lambda x: math.log(x,2)),locness_bigrams['G-score'])\n",
    "plt.xlabel('Частота биграммы, двоичный логарифм')\n",
    "plt.ylabel('Lexical gravity')\n",
    "plt.title('LOCNESS')\n",
    "plt.savefig('figures/locness_full_frequency_gravity_corr.png',bbox_inches='tight')\n",
    "plt.show()"
   ]
  },
  {
   "cell_type": "markdown",
   "metadata": {},
   "source": [
    "Коэффициент корреляции для логарифма частоты и Lexical Gravity:"
   ]
  },
  {
   "cell_type": "code",
   "execution_count": 4,
   "metadata": {},
   "outputs": [
    {
     "data": {
      "text/plain": [
       "0.8418298993834894"
      ]
     },
     "execution_count": 4,
     "metadata": {},
     "output_type": "execute_result"
    }
   ],
   "source": [
    "realec_bigrams['frequency'].apply(lambda x: math.log(x,2)).corr(realec_bigrams['G-score'])"
   ]
  },
  {
   "cell_type": "code",
   "execution_count": 14,
   "metadata": {},
   "outputs": [
    {
     "data": {
      "text/plain": [
       "0.8528880694856477"
      ]
     },
     "execution_count": 14,
     "metadata": {},
     "output_type": "execute_result"
    }
   ],
   "source": [
    "locness_bigrams['frequency'].apply(lambda x: math.log(x,2)).corr(locness_bigrams['G-score'])"
   ]
  },
  {
   "cell_type": "markdown",
   "metadata": {},
   "source": [
    "Коэффициент корреляции для логарифма частоты и MI:"
   ]
  },
  {
   "cell_type": "code",
   "execution_count": 5,
   "metadata": {},
   "outputs": [
    {
     "data": {
      "text/plain": [
       "-0.18004613799848274"
      ]
     },
     "execution_count": 5,
     "metadata": {},
     "output_type": "execute_result"
    }
   ],
   "source": [
    "realec_bigrams['frequency'].apply(lambda x: math.log(x,2)).corr(realec_bigrams['MI'])"
   ]
  },
  {
   "cell_type": "markdown",
   "metadata": {},
   "source": [
    "Коэффициент корреляции для суммы логарифмов частот слов в биграмме и Lexical Gravity:"
   ]
  },
  {
   "cell_type": "code",
   "execution_count": 7,
   "metadata": {},
   "outputs": [
    {
     "data": {
      "text/plain": [
       "-0.08408400649485318"
      ]
     },
     "execution_count": 7,
     "metadata": {},
     "output_type": "execute_result"
    }
   ],
   "source": [
    "sum_freqs = realec_bigrams['frequency:1'].add(realec_bigrams['frequency:2'])\n",
    "sum_freqs.apply(lambda x: math.log(x,2)).corr(realec_bigrams['G-score'])"
   ]
  },
  {
   "cell_type": "markdown",
   "metadata": {},
   "source": [
    "Коэффициент корреляции для суммы логарифмов частот слов в биграмме и MI:"
   ]
  },
  {
   "cell_type": "code",
   "execution_count": 8,
   "metadata": {},
   "outputs": [
    {
     "data": {
      "text/plain": [
       "-0.7526865336601186"
      ]
     },
     "execution_count": 8,
     "metadata": {},
     "output_type": "execute_result"
    }
   ],
   "source": [
    "sum_freqs.apply(lambda x: math.log(x,2)).corr(realec_bigrams['MI'])"
   ]
  },
  {
   "cell_type": "markdown",
   "metadata": {},
   "source": [
    "Коэффициент корреляции для частоты слова и typesafter:"
   ]
  },
  {
   "cell_type": "code",
   "execution_count": 13,
   "metadata": {},
   "outputs": [
    {
     "data": {
      "text/plain": [
       "0.9226447376681641"
      ]
     },
     "execution_count": 13,
     "metadata": {},
     "output_type": "execute_result"
    }
   ],
   "source": [
    "import sqlite3\n",
    "\n",
    "realec_form_typesafter = realec_bigrams['id_wordform1'].value_counts()\n",
    "realec_form_typesbefore = realec_bigrams['id_wordform2'].value_counts()\n",
    "\n",
    "db = sqlite3.connect('P:/Studies/2nd-year-thesis/realec_database_full.db')\n",
    "wordforms = pandas.read_sql('SELECT * FROM wordforms WHERE frequency>0',db,index_col='id')\n",
    "wordform_frequencies = wordforms['frequency']\n",
    "\n",
    "wordform_frequencies.corr(realec_form_typesafter)"
   ]
  },
  {
   "cell_type": "markdown",
   "metadata": {},
   "source": [
    "Коэффициент корреляции для частоты слова и typesbefore:"
   ]
  },
  {
   "cell_type": "code",
   "execution_count": 14,
   "metadata": {},
   "outputs": [
    {
     "data": {
      "text/plain": [
       "0.8733336710788874"
      ]
     },
     "execution_count": 14,
     "metadata": {},
     "output_type": "execute_result"
    }
   ],
   "source": [
    "wordform_frequencies.corr(realec_form_typesbefore)"
   ]
  },
  {
   "cell_type": "code",
   "execution_count": 9,
   "metadata": {},
   "outputs": [
    {
     "data": {
      "image/png": "[encoded data removed]",
      "text/plain": [
       "<matplotlib.figure.Figure at 0x156f8128>"
      ]
     },
     "metadata": {},
     "output_type": "display_data"
    }
   ],
   "source": [
    "plt.scatter(realec_bigrams['G-score'],realec_bigrams['frequency'].apply(lambda x: math.log(x,2)))\n",
    "plt.ylabel('Частота биграммы, двоичный логарифм')\n",
    "plt.xlabel('Lexical gravity')\n",
    "plt.title('REALEC')\n",
    "plt.show()"
   ]
  },
  {
   "cell_type": "code",
   "execution_count": 8,
   "metadata": {},
   "outputs": [
    {
     "data": {
      "image/png": "[encoded data removed]",
      "text/plain": [
       "<matplotlib.figure.Figure at 0x1ff35898>"
      ]
     },
     "metadata": {},
     "output_type": "display_data"
    }
   ],
   "source": [
    "plt.scatter(realec_lemma_bigrams['frequency'].apply(lambda x: math.log(x,2)),realec_lemma_bigrams['G-score'])\n",
    "plt.xlabel('Частота биграммы из лемм, двоичный логарифм')\n",
    "plt.ylabel('Lexical gravity')\n",
    "plt.title('REALEC')\n",
    "plt.show()"
   ]
  },
  {
   "cell_type": "code",
   "execution_count": 3,
   "metadata": {},
   "outputs": [
    {
     "data": {
      "text/plain": [
       "0.8475688554451599"
      ]
     },
     "execution_count": 3,
     "metadata": {},
     "output_type": "execute_result"
    }
   ],
   "source": [
    "realec_lemma_bigrams['frequency'].apply(lambda x: math.log(x,2)).corr(realec_lemma_bigrams['G-score'])"
   ]
  },
  {
   "cell_type": "markdown",
   "metadata": {},
   "source": [
    "<h2>4. Кластерный анализ частей корпуса</h2>"
   ]
  },
  {
   "cell_type": "code",
   "execution_count": 1,
   "metadata": {
    "collapsed": true
   },
   "outputs": [],
   "source": [
    "import matplotlib.pyplot as plt\n",
    "import sqlite3, pandas\n",
    "from scipy.cluster.hierarchy import dendrogram,linkage\n",
    "from scipy.spatial.distance import pdist\n",
    "from scipy.stats import zscore\n",
    "import numpy as np\n",
    "import math"
   ]
  },
  {
   "cell_type": "markdown",
   "metadata": {},
   "source": [
    "Определим функцию для преобразования файла базы данных в нужный нам датафрейм:"
   ]
  },
  {
   "cell_type": "markdown",
   "metadata": {},
   "source": [
    "<h3> 4.1. Препроцессинг </h3>"
   ]
  },
  {
   "cell_type": "code",
   "execution_count": 2,
   "metadata": {
    "collapsed": true
   },
   "outputs": [],
   "source": [
    "def process_data(db_fp):\n",
    "    db = sqlite3.connect(db_fp)\n",
    "    print('connected to database')\n",
    "    with open ('get_full_table.sql','r',encoding='utf-8') as source:\n",
    "        query = source.read().split(';')\n",
    "    c = db.cursor()\n",
    "    for statement in query:\n",
    "        c.execute(statement)\n",
    "    bigrams = pandas.read_sql('SELECT * FROM bigrams_with_freqs3 WHERE frequency>0',db,index_col='id')\n",
    "    print('DataFrame constructed')\n",
    "    N = list(db.execute('SELECT SUM(Frequency) FROM wordforms;'))[0][0]\n",
    "    bigrams['MI'] = bigrams.apply(lambda x: math.log(x['frequency'],\n",
    "                                                 2)+math.log(N,2)-math.log(x['frequency:1'],2)\n",
    "                              -math.log(x['frequency:2'],2),\n",
    "                              axis=1)\n",
    "    print('MI calculated')\n",
    "    print('G-scores calculated')\n",
    "    form_typesafter = bigrams['id_wordform1'].value_counts()\n",
    "    form_typesbefore = bigrams['id_wordform2'].value_counts()\n",
    "    bigrams['G-score'] = bigrams.apply(lambda x: x['MI']-math.log(N,2)+math.log(x['frequency'],2)+\n",
    "                                   math.log(form_typesafter[x['id_wordform1']],2)+\n",
    "                                   math.log(form_typesbefore[x['id_wordform2']],2),axis = 1)\n",
    "    db.close()\n",
    "    print('done')\n",
    "    return bigrams"
   ]
  },
  {
   "cell_type": "markdown",
   "metadata": {},
   "source": [
    "Применим функцию к нашим подкорпусам:\n",
    " - REALEC\n",
    "  - Райтинги IELTS (папка exam)\n",
    "  - Академическое письмо\n",
    "  - Сочинения МАГОЛЕГО\n",
    "  - Сочинения МПГУ\n",
    " - LOCNESS\n",
    "  - A-Levels\n",
    "  - American argumnetative\n",
    "  - British argumentative"
   ]
  },
  {
   "cell_type": "code",
   "execution_count": 3,
   "metadata": {},
   "outputs": [
    {
     "name": "stdout",
     "output_type": "stream",
     "text": [
      "connected to database\n",
      "DataFrame constructed\n",
      "MI calculated\n",
      "G-scores calculated\n",
      "done\n"
     ]
    }
   ],
   "source": [
    "ielts_frame = process_data('ielts_works.db')"
   ]
  },
  {
   "cell_type": "code",
   "execution_count": 4,
   "metadata": {},
   "outputs": [
    {
     "name": "stdout",
     "output_type": "stream",
     "text": [
      "connected to database\n",
      "DataFrame constructed\n",
      "MI calculated\n",
      "G-scores calculated\n",
      "done\n"
     ]
    }
   ],
   "source": [
    "aw_frame = process_data('academic_writing.db')"
   ]
  },
  {
   "cell_type": "code",
   "execution_count": 5,
   "metadata": {},
   "outputs": [
    {
     "name": "stdout",
     "output_type": "stream",
     "text": [
      "connected to database\n",
      "DataFrame constructed\n",
      "MI calculated\n",
      "G-scores calculated\n",
      "done\n"
     ]
    }
   ],
   "source": [
    "mpgu_frame = process_data('pedagogish_essays.db')"
   ]
  },
  {
   "cell_type": "code",
   "execution_count": 6,
   "metadata": {},
   "outputs": [
    {
     "name": "stdout",
     "output_type": "stream",
     "text": [
      "connected to database\n",
      "DataFrame constructed\n",
      "MI calculated\n",
      "G-scores calculated\n",
      "done\n"
     ]
    }
   ],
   "source": [
    "magolego_frame = process_data('magolego_database.db')"
   ]
  },
  {
   "cell_type": "code",
   "execution_count": 7,
   "metadata": {},
   "outputs": [
    {
     "name": "stdout",
     "output_type": "stream",
     "text": [
      "connected to database\n",
      "DataFrame constructed\n",
      "MI calculated\n",
      "G-scores calculated\n",
      "done\n",
      "connected to database\n",
      "DataFrame constructed\n",
      "MI calculated\n",
      "G-scores calculated\n",
      "done\n",
      "connected to database\n",
      "DataFrame constructed\n",
      "MI calculated\n",
      "G-scores calculated\n",
      "done\n"
     ]
    }
   ],
   "source": [
    "alevels_frame = process_data('locness_alevels_database.db')\n",
    "usarg_frame = process_data('usarg_database.db')\n",
    "brsur_frame = process_data('brsur_database.db')"
   ]
  },
  {
   "cell_type": "code",
   "execution_count": 8,
   "metadata": {
    "collapsed": true
   },
   "outputs": [],
   "source": [
    "ielts_frame.to_csv('ielts_bigrams.csv')\n",
    "aw_frame.to_csv('aw_bigrams.csv')\n",
    "mpgu_frame.to_csv('mpgu_bigrams.csv')\n",
    "magolego_frame.to_csv('magolego_bigrams.csv')\n",
    "usarg_frame.to_csv('usarg_bigrams.csv')\n",
    "brsur_frame.to_csv('brsur_bigrams.csv')\n",
    "alevels_frame.to_csv('locness_alevels_bigrams.csv')"
   ]
  },
  {
   "cell_type": "markdown",
   "metadata": {},
   "source": [
    "<h3> 4.2. Кластерный анализ данных </h3>"
   ]
  },
  {
   "cell_type": "code",
   "execution_count": 6,
   "metadata": {
    "collapsed": true
   },
   "outputs": [],
   "source": [
    "ielts_frame = pandas.read_csv('ielts_bigrams.csv',encoding='ansi',index_col='id')\n",
    "aw_frame = pandas.read_csv('aw_bigrams.csv',encoding='ansi',index_col='id')\n",
    "mpgu_frame = pandas.read_csv('mpgu_bigrams.csv',encoding='ansi',index_col='id')\n",
    "magolego_frame = pandas.read_csv('magolego_bigrams.csv',encoding='ansi',index_col='id')\n",
    "usarg_frame = pandas.read_csv('usarg_bigrams.csv',encoding='ansi',index_col='id')\n",
    "brsur_frame = pandas.read_csv('brsur_bigrams.csv',encoding='ansi',index_col='id')\n",
    "alevels_frame = pandas.read_csv('locness_alevels_bigrams.csv',encoding='ansi',index_col='id')"
   ]
  },
  {
   "cell_type": "code",
   "execution_count": 7,
   "metadata": {
    "collapsed": true
   },
   "outputs": [],
   "source": [
    "def create_comparision_frame(metric, threshold = 0):\n",
    "    cut_by_threshold = lambda df: df.loc[df['frequency'] >= threshold]\n",
    "    ielts_scores = cut_by_threshold(ielts_frame)[metric]\n",
    "    aw_scores = cut_by_threshold(aw_frame)[metric]\n",
    "    mpgu_scores = cut_by_threshold(mpgu_frame)[metric]\n",
    "    magolego_scores = cut_by_threshold(magolego_frame)[metric]\n",
    "    alevels_scores = cut_by_threshold(alevels_frame)[metric]\n",
    "    usarg_scores = cut_by_threshold(usarg_frame)[metric]\n",
    "    brsur_scores = cut_by_threshold(brsur_frame)[metric]\n",
    "\n",
    "    ielts_scores = ielts_scores.rename('REALEC_IELTS')\n",
    "    aw_scores = aw_scores.rename('REALEC_AW')\n",
    "    mpgu_scores = mpgu_scores.rename('REALEC_MPGU')\n",
    "    magolego_scores = magolego_scores.rename('REALEC_MAGOLEGO')\n",
    "    alevels_scores = alevels_scores.rename('LOCNESS_ALEV')\n",
    "    usarg_scores = usarg_scores.rename('LOCNESS_USARG')\n",
    "    brsur_scores = brsur_scores.rename('LOCNESS_BRSUR')\n",
    "    scores = pandas.concat([ielts_scores, aw_scores, mpgu_scores, magolego_scores, alevels_scores,\n",
    "                              usarg_scores,brsur_scores],axis=1)\n",
    "    return scores"
   ]
  },
  {
   "cell_type": "markdown",
   "metadata": {},
   "source": [
    "<h4>4.2.1. При помощи векторных расстояний</h4>"
   ]
  },
  {
   "cell_type": "code",
   "execution_count": 8,
   "metadata": {
    "collapsed": true
   },
   "outputs": [],
   "source": [
    "G_scores_intersec = create_comparision_frame('G-score',threshold=2).dropna()\n",
    "frequency_counts_intersec = create_comparision_frame('frequency',threshold=2).dropna().applymap(lambda x: math.log(x,2))\n",
    "PMI_counts_intersec = create_comparision_frame('MI',threshold=2).dropna()\n",
    "corpus_labels = [i for i in G_scores_intersec]"
   ]
  },
  {
   "cell_type": "markdown",
   "metadata": {},
   "source": [
    "Сколько биграмм попало в датафрейм?"
   ]
  },
  {
   "cell_type": "code",
   "execution_count": 9,
   "metadata": {},
   "outputs": [
    {
     "data": {
      "text/plain": [
       "(612, 7)"
      ]
     },
     "execution_count": 9,
     "metadata": {},
     "output_type": "execute_result"
    }
   ],
   "source": [
    "G_scores_intersec.shape"
   ]
  },
  {
   "cell_type": "markdown",
   "metadata": {},
   "source": [
    "Строим дендрограммы по Gravity, частоте и PMI, используя косинусное расстояние:"
   ]
  },
  {
   "cell_type": "code",
   "execution_count": 12,
   "metadata": {},
   "outputs": [
    {
     "data": {
      "image/png": "[encoded data removed]",
      "text/plain": [
       "<matplotlib.figure.Figure at 0x15b8eb70>"
      ]
     },
     "metadata": {},
     "output_type": "display_data"
    }
   ],
   "source": [
    "tree = linkage(pdist(G_scores_intersec.transpose(),metric='cosine'))\n",
    "plt.figure(figsize=(12,9))\n",
    "plt.ylabel('Косинусное расстояние')\n",
    "plt.xlabel('Подкорпус')\n",
    "dendrogram(tree, labels = corpus_labels, leaf_rotation = 90)\n",
    "plt.savefig('./figures_clusters/Gravity_dendrogram_intersection_cosine_threshold=2.png',bbox_inches='tight')\n",
    "plt.show()"
   ]
  },
  {
   "cell_type": "code",
   "execution_count": 13,
   "metadata": {},
   "outputs": [
    {
     "data": {
      "image/png": "[encoded data removed]",
      "text/plain": [
       "<matplotlib.figure.Figure at 0x15bdb588>"
      ]
     },
     "metadata": {},
     "output_type": "display_data"
    }
   ],
   "source": [
    "tree = linkage(pdist(frequency_counts_intersec.transpose(),metric='cosine'))\n",
    "plt.figure(figsize=(12,9))\n",
    "plt.ylabel('Косинусное расстояние')\n",
    "plt.xlabel('Подкорпус')\n",
    "dendrogram(tree, labels = corpus_labels, leaf_rotation = 90)\n",
    "plt.savefig('./figures_clusters/Frequency_dendrogram_intersection_cosine_threshold=2.png',bbox_inches='tight')\n",
    "plt.show()"
   ]
  },
  {
   "cell_type": "code",
   "execution_count": 29,
   "metadata": {},
   "outputs": [
    {
     "data": {
      "image/png": "[encoded data removed]",
      "text/plain": [
       "<matplotlib.figure.Figure at 0x1a2ad2e8>"
      ]
     },
     "metadata": {},
     "output_type": "display_data"
    }
   ],
   "source": [
    "tree = linkage(pdist(PMI_counts_intersec.transpose(),metric='cosine'))\n",
    "plt.figure(figsize=(12,9))\n",
    "plt.ylabel('Косинусное расстояние')\n",
    "plt.xlabel('Подкорпус')\n",
    "dendrogram(tree, labels = corpus_labels, leaf_rotation = 90)\n",
    "plt.savefig('./figures_clusters/MI_dendrogram_intersection_cosine_threshold=2.png',bbox_inches='tight')\n",
    "plt.show()"
   ]
  },
  {
   "cell_type": "markdown",
   "metadata": {},
   "source": [
    "Строим дендрограммы по gravity и частоте, $z$-стандартизируя значения и используя Евклидово расстояние:"
   ]
  },
  {
   "cell_type": "code",
   "execution_count": 27,
   "metadata": {},
   "outputs": [
    {
     "name": "stdout",
     "output_type": "stream",
     "text": [
      "[[ 0.          3.         16.90089395  2.        ]\n",
      " [ 4.          5.         19.18344438  2.        ]\n",
      " [ 2.          6.         20.05349423  2.        ]\n",
      " [ 8.          9.         20.76211724  4.        ]\n",
      " [ 7.         10.         21.59195413  6.        ]\n",
      " [ 1.         11.         22.13594851  7.        ]]\n"
     ]
    },
    {
     "data": {
      "image/png": "[encoded data removed]",
      "text/plain": [
       "<matplotlib.figure.Figure at 0x1c46cac8>"
      ]
     },
     "metadata": {},
     "output_type": "display_data"
    }
   ],
   "source": [
    "tree = linkage(G_scores_intersec.apply(zscore).transpose())\n",
    "print(tree)\n",
    "plt.figure(figsize=(12,9))\n",
    "plt.ylabel('Евклидово расстояние')\n",
    "plt.xlabel('Подкорпус')\n",
    "dendrogram(tree, labels = corpus_labels, leaf_rotation = 90)\n",
    "plt.savefig('./figures_clusters/Gravity_dendrogram_intersection_zscore_threshold=2.png',bbox_inches='tight')\n",
    "plt.show()"
   ]
  },
  {
   "cell_type": "code",
   "execution_count": 28,
   "metadata": {},
   "outputs": [
    {
     "name": "stdout",
     "output_type": "stream",
     "text": [
      "[[ 0.          3.         16.42330191  2.        ]\n",
      " [ 4.          5.         18.68606976  2.        ]\n",
      " [ 2.          6.         19.74111586  2.        ]\n",
      " [ 8.          9.         19.94870765  4.        ]\n",
      " [ 7.         10.         21.07292794  6.        ]\n",
      " [ 1.         11.         21.37818374  7.        ]]\n"
     ]
    },
    {
     "data": {
      "image/png": "[encoded data removed]",
      "text/plain": [
       "<matplotlib.figure.Figure at 0x1c46ccc0>"
      ]
     },
     "metadata": {},
     "output_type": "display_data"
    }
   ],
   "source": [
    "tree = linkage(frequency_counts_intersec.apply(zscore).transpose())\n",
    "print(tree)\n",
    "plt.figure(figsize=(12,9))\n",
    "plt.ylabel('Евклидово расстояние')\n",
    "plt.xlabel('Подкорпус')\n",
    "dendrogram(tree, labels = corpus_labels, leaf_rotation = 90)\n",
    "plt.savefig('./figures_clusters/Frequency_dendrogram_intersection_zscore_threshold=2.png',bbox_inches='tight')\n",
    "plt.show()"
   ]
  },
  {
   "cell_type": "markdown",
   "metadata": {},
   "source": [
    "Строим по PMI без нормализации/стандартизации, используя Евклидово расстояние:"
   ]
  },
  {
   "cell_type": "code",
   "execution_count": 16,
   "metadata": {},
   "outputs": [
    {
     "data": {
      "image/png": "[encoded data removed]",
      "text/plain": [
       "<matplotlib.figure.Figure at 0x193fc940>"
      ]
     },
     "metadata": {},
     "output_type": "display_data"
    }
   ],
   "source": [
    "tree = linkage(PMI_counts_intersec.apply(zscore).transpose())\n",
    "plt.figure(figsize=(12,9))\n",
    "plt.ylabel('Евклидово расстояние')\n",
    "plt.xlabel('Подкорпус')\n",
    "dendrogram(tree, labels = corpus_labels, leaf_rotation = 90)\n",
    "plt.savefig('./figures_clusters/MI_dendrogram_intersection_threshold=2.png',bbox_inches='tight')\n",
    "plt.show()"
   ]
  },
  {
   "cell_type": "markdown",
   "metadata": {},
   "source": [
    "Посмотрим корреляции (по Пирсону):"
   ]
  },
  {
   "cell_type": "code",
   "execution_count": 25,
   "metadata": {},
   "outputs": [
    {
     "data": {
      "text/plain": [
       "REALEC_IELTS       0.954517\n",
       "REALEC_AW          0.954433\n",
       "REALEC_MPGU        0.957089\n",
       "REALEC_MAGOLEGO    0.958624\n",
       "LOCNESS_ALEV       0.959726\n",
       "LOCNESS_USARG      0.958820\n",
       "LOCNESS_BRSUR      0.958413\n",
       "dtype: float64"
      ]
     },
     "execution_count": 25,
     "metadata": {},
     "output_type": "execute_result"
    }
   ],
   "source": [
    "G_scores_intersec.corrwith(frequency_counts_intersec)"
   ]
  },
  {
   "cell_type": "code",
   "execution_count": 26,
   "metadata": {},
   "outputs": [
    {
     "data": {
      "text/plain": [
       "REALEC_IELTS       0.205501\n",
       "REALEC_AW          0.187473\n",
       "REALEC_MPGU        0.090965\n",
       "REALEC_MAGOLEGO    0.179861\n",
       "LOCNESS_ALEV       0.139034\n",
       "LOCNESS_USARG      0.138859\n",
       "LOCNESS_BRSUR      0.070381\n",
       "dtype: float64"
      ]
     },
     "execution_count": 26,
     "metadata": {},
     "output_type": "execute_result"
    }
   ],
   "source": [
    "G_scores_intersec.corrwith(PMI_counts_intersec)"
   ]
  },
  {
   "cell_type": "code",
   "execution_count": 27,
   "metadata": {},
   "outputs": [
    {
     "data": {
      "text/plain": [
       "REALEC_IELTS       0.169388\n",
       "REALEC_AW          0.152958\n",
       "REALEC_MPGU        0.064004\n",
       "REALEC_MAGOLEGO    0.208495\n",
       "LOCNESS_ALEV       0.144537\n",
       "LOCNESS_USARG      0.138239\n",
       "LOCNESS_BRSUR      0.074380\n",
       "dtype: float64"
      ]
     },
     "execution_count": 27,
     "metadata": {},
     "output_type": "execute_result"
    }
   ],
   "source": [
    "frequency_counts_intersec.corrwith(PMI_counts_intersec)"
   ]
  },
  {
   "cell_type": "markdown",
   "metadata": {},
   "source": [
    "<h4>4.2.2. При помощи расстояния Кенделла (Kendall's Tau distance)</h4>"
   ]
  },
  {
   "cell_type": "code",
   "execution_count": 17,
   "metadata": {
    "collapsed": true
   },
   "outputs": [],
   "source": [
    "tau_dist = lambda x,y: (1-scipy.stats.kendalltau(x,y)[0])/2"
   ]
  },
  {
   "cell_type": "code",
   "execution_count": 18,
   "metadata": {
    "collapsed": true
   },
   "outputs": [],
   "source": [
    "import scipy.spatial.distance"
   ]
  },
  {
   "cell_type": "code",
   "execution_count": 19,
   "metadata": {
    "collapsed": true
   },
   "outputs": [],
   "source": [
    "def frame_kendall_corr(x,y):\n",
    "    corrs = dict()\n",
    "    for i in x:\n",
    "        corrs[i] = scipy.stats.kendalltau(x[i],y[i])[0]\n",
    "    return pandas.Series(corrs)"
   ]
  },
  {
   "cell_type": "code",
   "execution_count": 20,
   "metadata": {
    "collapsed": true
   },
   "outputs": [],
   "source": [
    "G_scores_intersec = create_comparision_frame('G-score',threshold=2).dropna()\n",
    "frequency_counts_intersec = create_comparision_frame('frequency',threshold=2).dropna().applymap(lambda x: math.log(x,2))\n",
    "PMI_counts_intersec = create_comparision_frame('MI',threshold=2).dropna()\n",
    "corpus_labels = [i for i in G_scores_intersec]"
   ]
  },
  {
   "cell_type": "markdown",
   "metadata": {},
   "source": [
    "Строим дерево по Gravity:"
   ]
  },
  {
   "cell_type": "code",
   "execution_count": 21,
   "metadata": {},
   "outputs": [
    {
     "data": {
      "image/png": "[encoded data removed]",
      "text/plain": [
       "<matplotlib.figure.Figure at 0x1679e9b0>"
      ]
     },
     "metadata": {},
     "output_type": "display_data"
    }
   ],
   "source": [
    "g_distances = scipy.spatial.distance.pdist(G_scores_intersec.transpose(), metric=tau_dist)\n",
    "tree_g = linkage(g_distances)\n",
    "plt.figure(figsize=(12,9))\n",
    "plt.ylabel('Расстояние Кенделла')\n",
    "plt.xlabel('Подкорпус')\n",
    "dendrogram(tree_g, labels = corpus_labels, leaf_rotation = 90)\n",
    "plt.savefig('./figures_clusters/Gravity_dendrogram_intersection_kendalltau_threshold=2.png',bbox_inches='tight')\n",
    "plt.show()"
   ]
  },
  {
   "cell_type": "markdown",
   "metadata": {},
   "source": [
    "Строим дерево по частоте:"
   ]
  },
  {
   "cell_type": "code",
   "execution_count": 22,
   "metadata": {},
   "outputs": [
    {
     "data": {
      "image/png": "[encoded data removed]",
      "text/plain": [
       "<matplotlib.figure.Figure at 0x1c464cf8>"
      ]
     },
     "metadata": {},
     "output_type": "display_data"
    }
   ],
   "source": [
    "f_distances = scipy.spatial.distance.pdist(frequency_counts_intersec.transpose(), metric=tau_dist)\n",
    "tree_f = linkage(f_distances)\n",
    "plt.figure(figsize=(12,9))\n",
    "plt.ylabel('Расстояние Кенделла')\n",
    "plt.xlabel('Подкорпус')\n",
    "dendrogram(tree_f, labels = corpus_labels, leaf_rotation = 90)\n",
    "plt.savefig('./figures_clusters/Frequency_dendrogram_intersection_kendalltau_threshold=2.png',bbox_inches='tight')\n",
    "plt.show()"
   ]
  },
  {
   "cell_type": "markdown",
   "metadata": {},
   "source": [
    "Строим дерево по PMI:"
   ]
  },
  {
   "cell_type": "code",
   "execution_count": 23,
   "metadata": {},
   "outputs": [
    {
     "data": {
      "image/png": "[encoded data removed]",
      "text/plain": [
       "<matplotlib.figure.Figure at 0x197cf1d0>"
      ]
     },
     "metadata": {},
     "output_type": "display_data"
    }
   ],
   "source": [
    "pmi_distances = scipy.spatial.distance.pdist(PMI_counts_intersec.transpose(), metric=tau_dist)\n",
    "tree_pmi = linkage(pmi_distances)\n",
    "plt.figure(figsize=(12,9))\n",
    "plt.ylabel('Расстояние Кенделла')\n",
    "plt.xlabel('Подкорпус')\n",
    "dendrogram(tree_pmi, labels = corpus_labels, leaf_rotation = 90)\n",
    "plt.savefig('./figures_clusters/MI_dendrogram_intersection_kendalltau_threshold=2.png',bbox_inches='tight')\n",
    "plt.show()"
   ]
  },
  {
   "cell_type": "markdown",
   "metadata": {},
   "source": [
    "Найдём коэффициент корреляции Кенделла между метриками:"
   ]
  },
  {
   "cell_type": "code",
   "execution_count": 24,
   "metadata": {},
   "outputs": [
    {
     "data": {
      "text/plain": [
       "LOCNESS_ALEV       0.842977\n",
       "LOCNESS_BRSUR      0.836865\n",
       "LOCNESS_USARG      0.845546\n",
       "REALEC_AW          0.832502\n",
       "REALEC_IELTS       0.818239\n",
       "REALEC_MAGOLEGO    0.837972\n",
       "REALEC_MPGU        0.831575\n",
       "dtype: float64"
      ]
     },
     "execution_count": 24,
     "metadata": {},
     "output_type": "execute_result"
    }
   ],
   "source": [
    "frame_kendall_corr(G_scores_intersec, frequency_counts_intersec)"
   ]
  },
  {
   "cell_type": "code",
   "execution_count": 25,
   "metadata": {},
   "outputs": [
    {
     "data": {
      "text/plain": [
       "LOCNESS_ALEV       0.115141\n",
       "LOCNESS_BRSUR      0.078605\n",
       "LOCNESS_USARG      0.115332\n",
       "REALEC_AW          0.146233\n",
       "REALEC_IELTS       0.152905\n",
       "REALEC_MAGOLEGO    0.135561\n",
       "REALEC_MPGU        0.082623\n",
       "dtype: float64"
      ]
     },
     "execution_count": 25,
     "metadata": {},
     "output_type": "execute_result"
    }
   ],
   "source": [
    "frame_kendall_corr(G_scores_intersec, PMI_counts_intersec)"
   ]
  },
  {
   "cell_type": "code",
   "execution_count": 26,
   "metadata": {},
   "outputs": [
    {
     "data": {
      "text/plain": [
       "LOCNESS_ALEV       0.123727\n",
       "LOCNESS_BRSUR      0.085016\n",
       "LOCNESS_USARG      0.121378\n",
       "REALEC_AW          0.130123\n",
       "REALEC_IELTS       0.136493\n",
       "REALEC_MAGOLEGO    0.161577\n",
       "REALEC_MPGU        0.070297\n",
       "dtype: float64"
      ]
     },
     "execution_count": 26,
     "metadata": {},
     "output_type": "execute_result"
    }
   ],
   "source": [
    "frame_kendall_corr(PMI_counts_intersec, frequency_counts_intersec)"
   ]
  },
  {
   "cell_type": "code",
   "execution_count": 32,
   "metadata": {
    "collapsed": true
   },
   "outputs": [],
   "source": [
    "G_scores_intersec.to_csv('tables/G_scores_intersec.csv',sep=';')\n",
    "frequency_counts_intersec.to_csv('tables/frequency_counts_intersec.csv',sep=';')\n",
    "PMI_counts_intersec.to_csv('tables/PMI_counts_intersec.csv',sep=';')"
   ]
  },
  {
   "cell_type": "markdown",
   "metadata": {
    "collapsed": true
   },
   "source": [
    "<h2> 5. Биграммы типа существительное+прилагательное, наиболее отличающиеся по Gravity и PMI</h2>"
   ]
  },
  {
   "cell_type": "code",
   "execution_count": 1,
   "metadata": {
    "collapsed": true
   },
   "outputs": [],
   "source": [
    "import pandas"
   ]
  },
  {
   "cell_type": "code",
   "execution_count": 2,
   "metadata": {
    "collapsed": true
   },
   "outputs": [],
   "source": [
    "realec_frame = pandas.read_csv('realec_bigrams_full.csv', encoding='ansi', index_col = 'id')\n",
    "locness_frame = pandas.read_csv('locness_bigrams_full.csv', encoding='ansi', index_col = 'id')"
   ]
  },
  {
   "cell_type": "code",
   "execution_count": 9,
   "metadata": {},
   "outputs": [],
   "source": [
    "def select_needed_pos(df, p1, p2):\n",
    "    return df.loc[(df['pos'] == p1) & (df['pos:1'] == p2)]"
   ]
  },
  {
   "cell_type": "code",
   "execution_count": 10,
   "metadata": {},
   "outputs": [],
   "source": [
    "realec_adj_n = select_needed_pos(realec_frame, 'ADJ', 'NOUN')"
   ]
  },
  {
   "cell_type": "code",
   "execution_count": 12,
   "metadata": {},
   "outputs": [],
   "source": [
    "locness_adj_n = select_needed_pos(locness_frame, 'ADJ', 'NOUN')[['MI','G-score']]"
   ]
  },
  {
   "cell_type": "code",
   "execution_count": 17,
   "metadata": {},
   "outputs": [],
   "source": [
    "locness_adj_n = locness_adj_n.rename(columns = {'MI':'LOCNESS MI', 'G-score':'LOCNESS G-score'})"
   ]
  },
  {
   "cell_type": "code",
   "execution_count": 19,
   "metadata": {},
   "outputs": [],
   "source": [
    "realec_adj_n = realec_adj_n.rename(columns = {'MI':'REALEC MI', 'G-score':'REALEC G-score'})"
   ]
  },
  {
   "cell_type": "code",
   "execution_count": 25,
   "metadata": {},
   "outputs": [],
   "source": [
    "comparision = pandas.concat([realec_adj_n, locness_adj_n], axis=1).dropna()"
   ]
  },
  {
   "cell_type": "code",
   "execution_count": 32,
   "metadata": {},
   "outputs": [],
   "source": [
    "comparision = comparision.drop(['frequency','frequency:1','frequency:2'], axis = 1)"
   ]
  },
  {
   "cell_type": "code",
   "execution_count": 35,
   "metadata": {},
   "outputs": [],
   "source": [
    "comparision = comparision.drop(['id_wordform1','id_wordform2','pos','pos:1'],axis=1)"
   ]
  },
  {
   "cell_type": "markdown",
   "metadata": {},
   "source": [
    "Применим к метрикам z-score:"
   ]
  },
  {
   "cell_type": "code",
   "execution_count": 27,
   "metadata": {
    "collapsed": true
   },
   "outputs": [],
   "source": [
    "from scipy.stats import zscore"
   ]
  },
  {
   "cell_type": "code",
   "execution_count": 28,
   "metadata": {
    "collapsed": true
   },
   "outputs": [],
   "source": [
    "comparision = comparision.apply(lambda x: zscore(x) if ('G-score' in x.name) or ('MI' in x.name) else x)"
   ]
  },
  {
   "cell_type": "code",
   "execution_count": 29,
   "metadata": {
    "collapsed": true
   },
   "outputs": [],
   "source": [
    "comparision['MI_diff'] = comparision.apply(lambda x: abs(x['REALEC MI']-x['LOCNESS MI']), axis = 1)\n",
    "comparision['G-score diff'] = comparision.apply(lambda x: abs(x['REALEC G-score']-x['LOCNESS G-score']), axis = 1)"
   ]
  },
  {
   "cell_type": "markdown",
   "metadata": {},
   "source": [
    "Отсортируем по разнице метрик:"
   ]
  },
  {
   "cell_type": "code",
   "execution_count": 39,
   "metadata": {},
   "outputs": [
    {
     "data": {
      "text/html": [
       "<div>\n",
       "<style>\n",
       "    .dataframe thead tr:only-child th {\n",
       "        text-align: right;\n",
       "    }\n",
       "\n",
       "    .dataframe thead th {\n",
       "        text-align: left;\n",
       "    }\n",
       "\n",
       "    .dataframe tbody tr th {\n",
       "        vertical-align: top;\n",
       "    }\n",
       "</style>\n",
       "<table border=\"1\" class=\"dataframe\">\n",
       "  <thead>\n",
       "    <tr style=\"text-align: right;\">\n",
       "      <th></th>\n",
       "      <th>bigram</th>\n",
       "      <th>REALEC MI</th>\n",
       "      <th>REALEC G-score</th>\n",
       "      <th>LOCNESS MI</th>\n",
       "      <th>LOCNESS G-score</th>\n",
       "      <th>MI_diff</th>\n",
       "      <th>G-score diff</th>\n",
       "    </tr>\n",
       "    <tr>\n",
       "      <th>id</th>\n",
       "      <th></th>\n",
       "      <th></th>\n",
       "      <th></th>\n",
       "      <th></th>\n",
       "      <th></th>\n",
       "      <th></th>\n",
       "      <th></th>\n",
       "    </tr>\n",
       "  </thead>\n",
       "  <tbody>\n",
       "    <tr>\n",
       "      <th>162743</th>\n",
       "      <td>vitro fertilization</td>\n",
       "      <td>5.222467</td>\n",
       "      <td>0.020844</td>\n",
       "      <td>2.450668</td>\n",
       "      <td>-0.466874</td>\n",
       "      <td>2.771799</td>\n",
       "      <td>0.487718</td>\n",
       "    </tr>\n",
       "    <tr>\n",
       "      <th>178894</th>\n",
       "      <td>christian religion</td>\n",
       "      <td>3.424768</td>\n",
       "      <td>-0.235284</td>\n",
       "      <td>0.686978</td>\n",
       "      <td>-0.372635</td>\n",
       "      <td>2.737789</td>\n",
       "      <td>0.137350</td>\n",
       "    </tr>\n",
       "    <tr>\n",
       "      <th>419092</th>\n",
       "      <td>presidential election</td>\n",
       "      <td>3.880287</td>\n",
       "      <td>0.567921</td>\n",
       "      <td>1.249271</td>\n",
       "      <td>-0.476051</td>\n",
       "      <td>2.631016</td>\n",
       "      <td>1.043972</td>\n",
       "    </tr>\n",
       "    <tr>\n",
       "      <th>261470</th>\n",
       "      <td>russian children</td>\n",
       "      <td>-1.786685</td>\n",
       "      <td>-1.300841</td>\n",
       "      <td>0.817761</td>\n",
       "      <td>-0.566005</td>\n",
       "      <td>2.604446</td>\n",
       "      <td>0.734837</td>\n",
       "    </tr>\n",
       "    <tr>\n",
       "      <th>328661</th>\n",
       "      <td>ethnic backgrounds</td>\n",
       "      <td>3.055038</td>\n",
       "      <td>0.401972</td>\n",
       "      <td>0.548919</td>\n",
       "      <td>-1.051058</td>\n",
       "      <td>2.506119</td>\n",
       "      <td>1.453030</td>\n",
       "    </tr>\n",
       "    <tr>\n",
       "      <th>159924</th>\n",
       "      <td>multinational company</td>\n",
       "      <td>0.419496</td>\n",
       "      <td>-1.188841</td>\n",
       "      <td>2.839789</td>\n",
       "      <td>-0.169875</td>\n",
       "      <td>2.420293</td>\n",
       "      <td>1.018966</td>\n",
       "    </tr>\n",
       "    <tr>\n",
       "      <th>202006</th>\n",
       "      <td>nuclear war</td>\n",
       "      <td>2.043954</td>\n",
       "      <td>0.693139</td>\n",
       "      <td>-0.363909</td>\n",
       "      <td>-1.310878</td>\n",
       "      <td>2.407863</td>\n",
       "      <td>2.004017</td>\n",
       "    </tr>\n",
       "    <tr>\n",
       "      <th>149324</th>\n",
       "      <td>popular sportsmen</td>\n",
       "      <td>-0.597904</td>\n",
       "      <td>-0.989367</td>\n",
       "      <td>1.724930</td>\n",
       "      <td>0.162315</td>\n",
       "      <td>2.322834</td>\n",
       "      <td>1.151683</td>\n",
       "    </tr>\n",
       "    <tr>\n",
       "      <th>3957</th>\n",
       "      <td>human '</td>\n",
       "      <td>0.564374</td>\n",
       "      <td>1.955066</td>\n",
       "      <td>-1.748220</td>\n",
       "      <td>-1.240053</td>\n",
       "      <td>2.312594</td>\n",
       "      <td>3.195119</td>\n",
       "    </tr>\n",
       "    <tr>\n",
       "      <th>160369</th>\n",
       "      <td>significant percentage</td>\n",
       "      <td>-1.678593</td>\n",
       "      <td>-1.452116</td>\n",
       "      <td>0.621628</td>\n",
       "      <td>-0.431884</td>\n",
       "      <td>2.300221</td>\n",
       "      <td>1.020232</td>\n",
       "    </tr>\n",
       "    <tr>\n",
       "      <th>243118</th>\n",
       "      <td>national sovereignty</td>\n",
       "      <td>2.326931</td>\n",
       "      <td>-0.427365</td>\n",
       "      <td>0.030240</td>\n",
       "      <td>1.444806</td>\n",
       "      <td>2.296691</td>\n",
       "      <td>1.872171</td>\n",
       "    </tr>\n",
       "    <tr>\n",
       "      <th>274373</th>\n",
       "      <td>detailed analysis</td>\n",
       "      <td>0.027290</td>\n",
       "      <td>-1.450817</td>\n",
       "      <td>2.309584</td>\n",
       "      <td>0.331564</td>\n",
       "      <td>2.282294</td>\n",
       "      <td>1.782381</td>\n",
       "    </tr>\n",
       "    <tr>\n",
       "      <th>171748</th>\n",
       "      <td>innovative features</td>\n",
       "      <td>0.515649</td>\n",
       "      <td>-0.593221</td>\n",
       "      <td>2.764827</td>\n",
       "      <td>0.331564</td>\n",
       "      <td>2.249178</td>\n",
       "      <td>0.924785</td>\n",
       "    </tr>\n",
       "    <tr>\n",
       "      <th>116309</th>\n",
       "      <td>legislative power</td>\n",
       "      <td>1.835894</td>\n",
       "      <td>0.487688</td>\n",
       "      <td>-0.398115</td>\n",
       "      <td>-0.806960</td>\n",
       "      <td>2.234009</td>\n",
       "      <td>1.294649</td>\n",
       "    </tr>\n",
       "    <tr>\n",
       "      <th>147802</th>\n",
       "      <td>popular sports</td>\n",
       "      <td>-1.297303</td>\n",
       "      <td>-0.539735</td>\n",
       "      <td>0.901753</td>\n",
       "      <td>1.581037</td>\n",
       "      <td>2.199056</td>\n",
       "      <td>2.120771</td>\n",
       "    </tr>\n",
       "    <tr>\n",
       "      <th>418999</th>\n",
       "      <td>new age</td>\n",
       "      <td>-2.170481</td>\n",
       "      <td>-1.463367</td>\n",
       "      <td>0.027616</td>\n",
       "      <td>2.913551</td>\n",
       "      <td>2.198097</td>\n",
       "      <td>4.376918</td>\n",
       "    </tr>\n",
       "    <tr>\n",
       "      <th>11968</th>\n",
       "      <td>much time</td>\n",
       "      <td>0.251967</td>\n",
       "      <td>2.608599</td>\n",
       "      <td>-1.931422</td>\n",
       "      <td>-0.992166</td>\n",
       "      <td>2.183389</td>\n",
       "      <td>3.600765</td>\n",
       "    </tr>\n",
       "    <tr>\n",
       "      <th>73275</th>\n",
       "      <td>european country</td>\n",
       "      <td>1.019407</td>\n",
       "      <td>1.350149</td>\n",
       "      <td>-1.154540</td>\n",
       "      <td>-1.517793</td>\n",
       "      <td>2.173947</td>\n",
       "      <td>2.867942</td>\n",
       "    </tr>\n",
       "    <tr>\n",
       "      <th>129427</th>\n",
       "      <td>local governments</td>\n",
       "      <td>-0.749360</td>\n",
       "      <td>-0.635630</td>\n",
       "      <td>1.404689</td>\n",
       "      <td>1.434266</td>\n",
       "      <td>2.154048</td>\n",
       "      <td>2.069897</td>\n",
       "    </tr>\n",
       "    <tr>\n",
       "      <th>391496</th>\n",
       "      <td>final argument</td>\n",
       "      <td>1.449315</td>\n",
       "      <td>1.271338</td>\n",
       "      <td>-0.684214</td>\n",
       "      <td>-1.023829</td>\n",
       "      <td>2.133529</td>\n",
       "      <td>2.295167</td>\n",
       "    </tr>\n",
       "    <tr>\n",
       "      <th>141558</th>\n",
       "      <td>social trends</td>\n",
       "      <td>-0.458129</td>\n",
       "      <td>-0.989593</td>\n",
       "      <td>1.672426</td>\n",
       "      <td>-0.127021</td>\n",
       "      <td>2.130554</td>\n",
       "      <td>0.862572</td>\n",
       "    </tr>\n",
       "    <tr>\n",
       "      <th>279515</th>\n",
       "      <td>previous data</td>\n",
       "      <td>-0.753644</td>\n",
       "      <td>-0.923732</td>\n",
       "      <td>1.365957</td>\n",
       "      <td>0.165180</td>\n",
       "      <td>2.119601</td>\n",
       "      <td>1.088911</td>\n",
       "    </tr>\n",
       "    <tr>\n",
       "      <th>288085</th>\n",
       "      <td>younger ages</td>\n",
       "      <td>-0.057341</td>\n",
       "      <td>-1.322182</td>\n",
       "      <td>1.986585</td>\n",
       "      <td>-0.174294</td>\n",
       "      <td>2.043925</td>\n",
       "      <td>1.147888</td>\n",
       "    </tr>\n",
       "    <tr>\n",
       "      <th>9434</th>\n",
       "      <td>own ideas</td>\n",
       "      <td>0.700851</td>\n",
       "      <td>2.747717</td>\n",
       "      <td>-1.324010</td>\n",
       "      <td>-0.600587</td>\n",
       "      <td>2.024861</td>\n",
       "      <td>3.348304</td>\n",
       "    </tr>\n",
       "    <tr>\n",
       "      <th>121493</th>\n",
       "      <td>global village</td>\n",
       "      <td>0.673069</td>\n",
       "      <td>-0.523852</td>\n",
       "      <td>2.678289</td>\n",
       "      <td>0.274096</td>\n",
       "      <td>2.005221</td>\n",
       "      <td>0.797948</td>\n",
       "    </tr>\n",
       "    <tr>\n",
       "      <th>6121</th>\n",
       "      <td>real life</td>\n",
       "      <td>0.377786</td>\n",
       "      <td>2.747605</td>\n",
       "      <td>-1.626496</td>\n",
       "      <td>-1.123159</td>\n",
       "      <td>2.004282</td>\n",
       "      <td>3.870764</td>\n",
       "    </tr>\n",
       "    <tr>\n",
       "      <th>17794</th>\n",
       "      <td>public health</td>\n",
       "      <td>1.369530</td>\n",
       "      <td>3.942295</td>\n",
       "      <td>-0.603919</td>\n",
       "      <td>-0.876729</td>\n",
       "      <td>1.973449</td>\n",
       "      <td>4.819024</td>\n",
       "    </tr>\n",
       "    <tr>\n",
       "      <th>55312</th>\n",
       "      <td>constitutional right</td>\n",
       "      <td>2.319651</td>\n",
       "      <td>-0.514809</td>\n",
       "      <td>0.352403</td>\n",
       "      <td>-0.416826</td>\n",
       "      <td>1.967247</td>\n",
       "      <td>0.097982</td>\n",
       "    </tr>\n",
       "    <tr>\n",
       "      <th>151480</th>\n",
       "      <td>modern times</td>\n",
       "      <td>-1.399854</td>\n",
       "      <td>-1.382326</td>\n",
       "      <td>0.559864</td>\n",
       "      <td>2.003629</td>\n",
       "      <td>1.959719</td>\n",
       "      <td>3.385955</td>\n",
       "    </tr>\n",
       "    <tr>\n",
       "      <th>282283</th>\n",
       "      <td>steady decline</td>\n",
       "      <td>0.747003</td>\n",
       "      <td>-0.217370</td>\n",
       "      <td>2.698706</td>\n",
       "      <td>-0.177748</td>\n",
       "      <td>1.951703</td>\n",
       "      <td>0.039622</td>\n",
       "    </tr>\n",
       "    <tr>\n",
       "      <th>...</th>\n",
       "      <td>...</td>\n",
       "      <td>...</td>\n",
       "      <td>...</td>\n",
       "      <td>...</td>\n",
       "      <td>...</td>\n",
       "      <td>...</td>\n",
       "      <td>...</td>\n",
       "    </tr>\n",
       "    <tr>\n",
       "      <th>146557</th>\n",
       "      <td>past decade</td>\n",
       "      <td>0.986934</td>\n",
       "      <td>-0.125233</td>\n",
       "      <td>0.996536</td>\n",
       "      <td>0.491196</td>\n",
       "      <td>0.009602</td>\n",
       "      <td>0.616429</td>\n",
       "    </tr>\n",
       "    <tr>\n",
       "      <th>379835</th>\n",
       "      <td>particular people</td>\n",
       "      <td>-1.946051</td>\n",
       "      <td>-0.678836</td>\n",
       "      <td>-1.936938</td>\n",
       "      <td>-0.963145</td>\n",
       "      <td>0.009113</td>\n",
       "      <td>0.284309</td>\n",
       "    </tr>\n",
       "    <tr>\n",
       "      <th>112911</th>\n",
       "      <td>great majority</td>\n",
       "      <td>-0.471697</td>\n",
       "      <td>-0.185354</td>\n",
       "      <td>-0.480710</td>\n",
       "      <td>0.184688</td>\n",
       "      <td>0.009013</td>\n",
       "      <td>0.370043</td>\n",
       "    </tr>\n",
       "    <tr>\n",
       "      <th>13959</th>\n",
       "      <td>more students</td>\n",
       "      <td>-1.694626</td>\n",
       "      <td>0.087345</td>\n",
       "      <td>-1.702751</td>\n",
       "      <td>0.017495</td>\n",
       "      <td>0.008125</td>\n",
       "      <td>0.069850</td>\n",
       "    </tr>\n",
       "    <tr>\n",
       "      <th>393688</th>\n",
       "      <td>many respects</td>\n",
       "      <td>0.483353</td>\n",
       "      <td>-0.599227</td>\n",
       "      <td>0.491445</td>\n",
       "      <td>0.408183</td>\n",
       "      <td>0.008092</td>\n",
       "      <td>1.007410</td>\n",
       "    </tr>\n",
       "    <tr>\n",
       "      <th>236702</th>\n",
       "      <td>different systems</td>\n",
       "      <td>-0.318084</td>\n",
       "      <td>0.911932</td>\n",
       "      <td>-0.310154</td>\n",
       "      <td>-0.091405</td>\n",
       "      <td>0.007930</td>\n",
       "      <td>1.003337</td>\n",
       "    </tr>\n",
       "    <tr>\n",
       "      <th>72997</th>\n",
       "      <td>various situations</td>\n",
       "      <td>0.215520</td>\n",
       "      <td>0.276634</td>\n",
       "      <td>0.223328</td>\n",
       "      <td>0.057962</td>\n",
       "      <td>0.007809</td>\n",
       "      <td>0.218672</td>\n",
       "    </tr>\n",
       "    <tr>\n",
       "      <th>233486</th>\n",
       "      <td>low self</td>\n",
       "      <td>0.289325</td>\n",
       "      <td>0.094576</td>\n",
       "      <td>0.282055</td>\n",
       "      <td>0.619894</td>\n",
       "      <td>0.007271</td>\n",
       "      <td>0.525319</td>\n",
       "    </tr>\n",
       "    <tr>\n",
       "      <th>235708</th>\n",
       "      <td>young girl</td>\n",
       "      <td>0.636914</td>\n",
       "      <td>1.250440</td>\n",
       "      <td>0.630610</td>\n",
       "      <td>0.761947</td>\n",
       "      <td>0.006304</td>\n",
       "      <td>0.488493</td>\n",
       "    </tr>\n",
       "    <tr>\n",
       "      <th>25153</th>\n",
       "      <td>particular situation</td>\n",
       "      <td>-0.511467</td>\n",
       "      <td>0.134528</td>\n",
       "      <td>-0.505239</td>\n",
       "      <td>-0.654505</td>\n",
       "      <td>0.006228</td>\n",
       "      <td>0.789034</td>\n",
       "    </tr>\n",
       "    <tr>\n",
       "      <th>91417</th>\n",
       "      <td>strict laws</td>\n",
       "      <td>0.724460</td>\n",
       "      <td>0.879960</td>\n",
       "      <td>0.730183</td>\n",
       "      <td>-0.064565</td>\n",
       "      <td>0.005723</td>\n",
       "      <td>0.944525</td>\n",
       "    </tr>\n",
       "    <tr>\n",
       "      <th>13679</th>\n",
       "      <td>young men</td>\n",
       "      <td>-0.372653</td>\n",
       "      <td>1.186612</td>\n",
       "      <td>-0.367098</td>\n",
       "      <td>1.165356</td>\n",
       "      <td>0.005555</td>\n",
       "      <td>0.021255</td>\n",
       "    </tr>\n",
       "    <tr>\n",
       "      <th>197801</th>\n",
       "      <td>specific instances</td>\n",
       "      <td>1.134103</td>\n",
       "      <td>-0.375158</td>\n",
       "      <td>1.129374</td>\n",
       "      <td>0.061463</td>\n",
       "      <td>0.004728</td>\n",
       "      <td>0.436621</td>\n",
       "    </tr>\n",
       "    <tr>\n",
       "      <th>287236</th>\n",
       "      <td>american population</td>\n",
       "      <td>-0.817311</td>\n",
       "      <td>-0.641362</td>\n",
       "      <td>-0.821918</td>\n",
       "      <td>-1.036162</td>\n",
       "      <td>0.004607</td>\n",
       "      <td>0.394800</td>\n",
       "    </tr>\n",
       "    <tr>\n",
       "      <th>93001</th>\n",
       "      <td>better solution</td>\n",
       "      <td>-0.421554</td>\n",
       "      <td>-0.048625</td>\n",
       "      <td>-0.425839</td>\n",
       "      <td>-0.760801</td>\n",
       "      <td>0.004285</td>\n",
       "      <td>0.712177</td>\n",
       "    </tr>\n",
       "    <tr>\n",
       "      <th>233181</th>\n",
       "      <td>negative characters</td>\n",
       "      <td>-0.360683</td>\n",
       "      <td>-0.992938</td>\n",
       "      <td>-0.356936</td>\n",
       "      <td>-0.870202</td>\n",
       "      <td>0.003748</td>\n",
       "      <td>0.122736</td>\n",
       "    </tr>\n",
       "    <tr>\n",
       "      <th>238997</th>\n",
       "      <td>little thing</td>\n",
       "      <td>-0.697594</td>\n",
       "      <td>-0.453080</td>\n",
       "      <td>-0.701032</td>\n",
       "      <td>-0.705629</td>\n",
       "      <td>0.003439</td>\n",
       "      <td>0.252549</td>\n",
       "    </tr>\n",
       "    <tr>\n",
       "      <th>162285</th>\n",
       "      <td>certain aspects</td>\n",
       "      <td>0.282878</td>\n",
       "      <td>0.163846</td>\n",
       "      <td>0.279450</td>\n",
       "      <td>2.009751</td>\n",
       "      <td>0.003428</td>\n",
       "      <td>1.845906</td>\n",
       "    </tr>\n",
       "    <tr>\n",
       "      <th>30726</th>\n",
       "      <td>long way</td>\n",
       "      <td>-0.424128</td>\n",
       "      <td>0.696532</td>\n",
       "      <td>-0.421182</td>\n",
       "      <td>1.177529</td>\n",
       "      <td>0.002946</td>\n",
       "      <td>0.480997</td>\n",
       "    </tr>\n",
       "    <tr>\n",
       "      <th>28637</th>\n",
       "      <td>other sex</td>\n",
       "      <td>-1.550192</td>\n",
       "      <td>-1.355682</td>\n",
       "      <td>-1.547655</td>\n",
       "      <td>0.812817</td>\n",
       "      <td>0.002538</td>\n",
       "      <td>2.168499</td>\n",
       "    </tr>\n",
       "    <tr>\n",
       "      <th>116373</th>\n",
       "      <td>other options</td>\n",
       "      <td>-0.076373</td>\n",
       "      <td>0.370840</td>\n",
       "      <td>-0.078805</td>\n",
       "      <td>1.186422</td>\n",
       "      <td>0.002432</td>\n",
       "      <td>0.815582</td>\n",
       "    </tr>\n",
       "    <tr>\n",
       "      <th>114895</th>\n",
       "      <td>other option</td>\n",
       "      <td>-0.622650</td>\n",
       "      <td>-0.436260</td>\n",
       "      <td>-0.620586</td>\n",
       "      <td>0.364121</td>\n",
       "      <td>0.002065</td>\n",
       "      <td>0.800381</td>\n",
       "    </tr>\n",
       "    <tr>\n",
       "      <th>32513</th>\n",
       "      <td>many measures</td>\n",
       "      <td>-1.014207</td>\n",
       "      <td>-0.288226</td>\n",
       "      <td>-1.016193</td>\n",
       "      <td>-0.552358</td>\n",
       "      <td>0.001986</td>\n",
       "      <td>0.264133</td>\n",
       "    </tr>\n",
       "    <tr>\n",
       "      <th>95207</th>\n",
       "      <td>common place</td>\n",
       "      <td>-0.925942</td>\n",
       "      <td>-0.575686</td>\n",
       "      <td>-0.927678</td>\n",
       "      <td>-0.926915</td>\n",
       "      <td>0.001736</td>\n",
       "      <td>0.351229</td>\n",
       "    </tr>\n",
       "    <tr>\n",
       "      <th>101133</th>\n",
       "      <td>last decade</td>\n",
       "      <td>1.222537</td>\n",
       "      <td>1.404878</td>\n",
       "      <td>1.224157</td>\n",
       "      <td>1.120048</td>\n",
       "      <td>0.001620</td>\n",
       "      <td>0.284830</td>\n",
       "    </tr>\n",
       "    <tr>\n",
       "      <th>164869</th>\n",
       "      <td>old ones</td>\n",
       "      <td>-0.468701</td>\n",
       "      <td>0.562650</td>\n",
       "      <td>-0.467163</td>\n",
       "      <td>-0.455099</td>\n",
       "      <td>0.001538</td>\n",
       "      <td>1.017750</td>\n",
       "    </tr>\n",
       "    <tr>\n",
       "      <th>362165</th>\n",
       "      <td>hard decision</td>\n",
       "      <td>-0.448390</td>\n",
       "      <td>-1.118684</td>\n",
       "      <td>-0.446919</td>\n",
       "      <td>-1.310099</td>\n",
       "      <td>0.001470</td>\n",
       "      <td>0.191415</td>\n",
       "    </tr>\n",
       "    <tr>\n",
       "      <th>63413</th>\n",
       "      <td>better understanding</td>\n",
       "      <td>0.123944</td>\n",
       "      <td>0.215088</td>\n",
       "      <td>0.124782</td>\n",
       "      <td>0.570320</td>\n",
       "      <td>0.000838</td>\n",
       "      <td>0.355231</td>\n",
       "    </tr>\n",
       "    <tr>\n",
       "      <th>245424</th>\n",
       "      <td>closer cooperation</td>\n",
       "      <td>1.807068</td>\n",
       "      <td>-0.736009</td>\n",
       "      <td>1.807810</td>\n",
       "      <td>-0.056771</td>\n",
       "      <td>0.000742</td>\n",
       "      <td>0.679237</td>\n",
       "    </tr>\n",
       "    <tr>\n",
       "      <th>8916</th>\n",
       "      <td>next step</td>\n",
       "      <td>1.303448</td>\n",
       "      <td>1.887020</td>\n",
       "      <td>1.304010</td>\n",
       "      <td>2.219660</td>\n",
       "      <td>0.000562</td>\n",
       "      <td>0.332640</td>\n",
       "    </tr>\n",
       "  </tbody>\n",
       "</table>\n",
       "<p>2487 rows × 7 columns</p>\n",
       "</div>"
      ],
      "text/plain": [
       "                        bigram  REALEC MI  REALEC G-score  LOCNESS MI  \\\n",
       "id                                                                      \n",
       "162743     vitro fertilization   5.222467        0.020844    2.450668   \n",
       "178894      christian religion   3.424768       -0.235284    0.686978   \n",
       "419092   presidential election   3.880287        0.567921    1.249271   \n",
       "261470        russian children  -1.786685       -1.300841    0.817761   \n",
       "328661      ethnic backgrounds   3.055038        0.401972    0.548919   \n",
       "159924   multinational company   0.419496       -1.188841    2.839789   \n",
       "202006             nuclear war   2.043954        0.693139   -0.363909   \n",
       "149324       popular sportsmen  -0.597904       -0.989367    1.724930   \n",
       "3957                   human '   0.564374        1.955066   -1.748220   \n",
       "160369  significant percentage  -1.678593       -1.452116    0.621628   \n",
       "243118    national sovereignty   2.326931       -0.427365    0.030240   \n",
       "274373       detailed analysis   0.027290       -1.450817    2.309584   \n",
       "171748     innovative features   0.515649       -0.593221    2.764827   \n",
       "116309       legislative power   1.835894        0.487688   -0.398115   \n",
       "147802          popular sports  -1.297303       -0.539735    0.901753   \n",
       "418999                 new age  -2.170481       -1.463367    0.027616   \n",
       "11968                much time   0.251967        2.608599   -1.931422   \n",
       "73275         european country   1.019407        1.350149   -1.154540   \n",
       "129427       local governments  -0.749360       -0.635630    1.404689   \n",
       "391496          final argument   1.449315        1.271338   -0.684214   \n",
       "141558           social trends  -0.458129       -0.989593    1.672426   \n",
       "279515           previous data  -0.753644       -0.923732    1.365957   \n",
       "288085            younger ages  -0.057341       -1.322182    1.986585   \n",
       "9434                 own ideas   0.700851        2.747717   -1.324010   \n",
       "121493          global village   0.673069       -0.523852    2.678289   \n",
       "6121                 real life   0.377786        2.747605   -1.626496   \n",
       "17794            public health   1.369530        3.942295   -0.603919   \n",
       "55312     constitutional right   2.319651       -0.514809    0.352403   \n",
       "151480            modern times  -1.399854       -1.382326    0.559864   \n",
       "282283          steady decline   0.747003       -0.217370    2.698706   \n",
       "...                        ...        ...             ...         ...   \n",
       "146557             past decade   0.986934       -0.125233    0.996536   \n",
       "379835       particular people  -1.946051       -0.678836   -1.936938   \n",
       "112911          great majority  -0.471697       -0.185354   -0.480710   \n",
       "13959            more students  -1.694626        0.087345   -1.702751   \n",
       "393688           many respects   0.483353       -0.599227    0.491445   \n",
       "236702       different systems  -0.318084        0.911932   -0.310154   \n",
       "72997       various situations   0.215520        0.276634    0.223328   \n",
       "233486                low self   0.289325        0.094576    0.282055   \n",
       "235708              young girl   0.636914        1.250440    0.630610   \n",
       "25153     particular situation  -0.511467        0.134528   -0.505239   \n",
       "91417              strict laws   0.724460        0.879960    0.730183   \n",
       "13679                young men  -0.372653        1.186612   -0.367098   \n",
       "197801      specific instances   1.134103       -0.375158    1.129374   \n",
       "287236     american population  -0.817311       -0.641362   -0.821918   \n",
       "93001          better solution  -0.421554       -0.048625   -0.425839   \n",
       "233181     negative characters  -0.360683       -0.992938   -0.356936   \n",
       "238997            little thing  -0.697594       -0.453080   -0.701032   \n",
       "162285         certain aspects   0.282878        0.163846    0.279450   \n",
       "30726                 long way  -0.424128        0.696532   -0.421182   \n",
       "28637                other sex  -1.550192       -1.355682   -1.547655   \n",
       "116373           other options  -0.076373        0.370840   -0.078805   \n",
       "114895            other option  -0.622650       -0.436260   -0.620586   \n",
       "32513            many measures  -1.014207       -0.288226   -1.016193   \n",
       "95207             common place  -0.925942       -0.575686   -0.927678   \n",
       "101133             last decade   1.222537        1.404878    1.224157   \n",
       "164869                old ones  -0.468701        0.562650   -0.467163   \n",
       "362165           hard decision  -0.448390       -1.118684   -0.446919   \n",
       "63413     better understanding   0.123944        0.215088    0.124782   \n",
       "245424      closer cooperation   1.807068       -0.736009    1.807810   \n",
       "8916                 next step   1.303448        1.887020    1.304010   \n",
       "\n",
       "        LOCNESS G-score   MI_diff  G-score diff  \n",
       "id                                               \n",
       "162743        -0.466874  2.771799      0.487718  \n",
       "178894        -0.372635  2.737789      0.137350  \n",
       "419092        -0.476051  2.631016      1.043972  \n",
       "261470        -0.566005  2.604446      0.734837  \n",
       "328661        -1.051058  2.506119      1.453030  \n",
       "159924        -0.169875  2.420293      1.018966  \n",
       "202006        -1.310878  2.407863      2.004017  \n",
       "149324         0.162315  2.322834      1.151683  \n",
       "3957          -1.240053  2.312594      3.195119  \n",
       "160369        -0.431884  2.300221      1.020232  \n",
       "243118         1.444806  2.296691      1.872171  \n",
       "274373         0.331564  2.282294      1.782381  \n",
       "171748         0.331564  2.249178      0.924785  \n",
       "116309        -0.806960  2.234009      1.294649  \n",
       "147802         1.581037  2.199056      2.120771  \n",
       "418999         2.913551  2.198097      4.376918  \n",
       "11968         -0.992166  2.183389      3.600765  \n",
       "73275         -1.517793  2.173947      2.867942  \n",
       "129427         1.434266  2.154048      2.069897  \n",
       "391496        -1.023829  2.133529      2.295167  \n",
       "141558        -0.127021  2.130554      0.862572  \n",
       "279515         0.165180  2.119601      1.088911  \n",
       "288085        -0.174294  2.043925      1.147888  \n",
       "9434          -0.600587  2.024861      3.348304  \n",
       "121493         0.274096  2.005221      0.797948  \n",
       "6121          -1.123159  2.004282      3.870764  \n",
       "17794         -0.876729  1.973449      4.819024  \n",
       "55312         -0.416826  1.967247      0.097982  \n",
       "151480         2.003629  1.959719      3.385955  \n",
       "282283        -0.177748  1.951703      0.039622  \n",
       "...                 ...       ...           ...  \n",
       "146557         0.491196  0.009602      0.616429  \n",
       "379835        -0.963145  0.009113      0.284309  \n",
       "112911         0.184688  0.009013      0.370043  \n",
       "13959          0.017495  0.008125      0.069850  \n",
       "393688         0.408183  0.008092      1.007410  \n",
       "236702        -0.091405  0.007930      1.003337  \n",
       "72997          0.057962  0.007809      0.218672  \n",
       "233486         0.619894  0.007271      0.525319  \n",
       "235708         0.761947  0.006304      0.488493  \n",
       "25153         -0.654505  0.006228      0.789034  \n",
       "91417         -0.064565  0.005723      0.944525  \n",
       "13679          1.165356  0.005555      0.021255  \n",
       "197801         0.061463  0.004728      0.436621  \n",
       "287236        -1.036162  0.004607      0.394800  \n",
       "93001         -0.760801  0.004285      0.712177  \n",
       "233181        -0.870202  0.003748      0.122736  \n",
       "238997        -0.705629  0.003439      0.252549  \n",
       "162285         2.009751  0.003428      1.845906  \n",
       "30726          1.177529  0.002946      0.480997  \n",
       "28637          0.812817  0.002538      2.168499  \n",
       "116373         1.186422  0.002432      0.815582  \n",
       "114895         0.364121  0.002065      0.800381  \n",
       "32513         -0.552358  0.001986      0.264133  \n",
       "95207         -0.926915  0.001736      0.351229  \n",
       "101133         1.120048  0.001620      0.284830  \n",
       "164869        -0.455099  0.001538      1.017750  \n",
       "362165        -1.310099  0.001470      0.191415  \n",
       "63413          0.570320  0.000838      0.355231  \n",
       "245424        -0.056771  0.000742      0.679237  \n",
       "8916           2.219660  0.000562      0.332640  \n",
       "\n",
       "[2487 rows x 7 columns]"
      ]
     },
     "execution_count": 39,
     "metadata": {},
     "output_type": "execute_result"
    }
   ],
   "source": [
    "comparision.sort_values(by='MI_diff', ascending=False)"
   ]
  },
  {
   "cell_type": "code",
   "execution_count": 40,
   "metadata": {},
   "outputs": [
    {
     "data": {
      "text/html": [
       "<div>\n",
       "<style>\n",
       "    .dataframe thead tr:only-child th {\n",
       "        text-align: right;\n",
       "    }\n",
       "\n",
       "    .dataframe thead th {\n",
       "        text-align: left;\n",
       "    }\n",
       "\n",
       "    .dataframe tbody tr th {\n",
       "        vertical-align: top;\n",
       "    }\n",
       "</style>\n",
       "<table border=\"1\" class=\"dataframe\">\n",
       "  <thead>\n",
       "    <tr style=\"text-align: right;\">\n",
       "      <th></th>\n",
       "      <th>bigram</th>\n",
       "      <th>REALEC MI</th>\n",
       "      <th>REALEC G-score</th>\n",
       "      <th>LOCNESS MI</th>\n",
       "      <th>LOCNESS G-score</th>\n",
       "      <th>MI_diff</th>\n",
       "      <th>G-score diff</th>\n",
       "    </tr>\n",
       "    <tr>\n",
       "      <th>id</th>\n",
       "      <th></th>\n",
       "      <th></th>\n",
       "      <th></th>\n",
       "      <th></th>\n",
       "      <th></th>\n",
       "      <th></th>\n",
       "      <th></th>\n",
       "    </tr>\n",
       "  </thead>\n",
       "  <tbody>\n",
       "    <tr>\n",
       "      <th>156229</th>\n",
       "      <td>public schools</td>\n",
       "      <td>-0.612715</td>\n",
       "      <td>-0.562151</td>\n",
       "      <td>0.986600</td>\n",
       "      <td>4.555061</td>\n",
       "      <td>1.599314</td>\n",
       "      <td>5.117212</td>\n",
       "    </tr>\n",
       "    <tr>\n",
       "      <th>17794</th>\n",
       "      <td>public health</td>\n",
       "      <td>1.369530</td>\n",
       "      <td>3.942295</td>\n",
       "      <td>-0.603919</td>\n",
       "      <td>-0.876729</td>\n",
       "      <td>1.973449</td>\n",
       "      <td>4.819024</td>\n",
       "    </tr>\n",
       "    <tr>\n",
       "      <th>385366</th>\n",
       "      <td>bad faith</td>\n",
       "      <td>0.878874</td>\n",
       "      <td>-0.125737</td>\n",
       "      <td>1.565309</td>\n",
       "      <td>4.334150</td>\n",
       "      <td>0.686435</td>\n",
       "      <td>4.459888</td>\n",
       "    </tr>\n",
       "    <tr>\n",
       "      <th>418999</th>\n",
       "      <td>new age</td>\n",
       "      <td>-2.170481</td>\n",
       "      <td>-1.463367</td>\n",
       "      <td>0.027616</td>\n",
       "      <td>2.913551</td>\n",
       "      <td>2.198097</td>\n",
       "      <td>4.376918</td>\n",
       "    </tr>\n",
       "    <tr>\n",
       "      <th>374204</th>\n",
       "      <td>public school</td>\n",
       "      <td>-1.507271</td>\n",
       "      <td>-1.304247</td>\n",
       "      <td>0.226852</td>\n",
       "      <td>3.036735</td>\n",
       "      <td>1.734123</td>\n",
       "      <td>4.340982</td>\n",
       "    </tr>\n",
       "    <tr>\n",
       "      <th>6264</th>\n",
       "      <td>such people</td>\n",
       "      <td>-1.161012</td>\n",
       "      <td>2.438142</td>\n",
       "      <td>-2.979580</td>\n",
       "      <td>-1.678353</td>\n",
       "      <td>1.818568</td>\n",
       "      <td>4.116495</td>\n",
       "    </tr>\n",
       "    <tr>\n",
       "      <th>96787</th>\n",
       "      <td>primary education</td>\n",
       "      <td>1.042970</td>\n",
       "      <td>3.292793</td>\n",
       "      <td>-0.144533</td>\n",
       "      <td>-0.791157</td>\n",
       "      <td>1.187503</td>\n",
       "      <td>4.083951</td>\n",
       "    </tr>\n",
       "    <tr>\n",
       "      <th>12299</th>\n",
       "      <td>good way</td>\n",
       "      <td>-0.180811</td>\n",
       "      <td>2.571007</td>\n",
       "      <td>-2.087337</td>\n",
       "      <td>-1.509504</td>\n",
       "      <td>1.906526</td>\n",
       "      <td>4.080511</td>\n",
       "    </tr>\n",
       "    <tr>\n",
       "      <th>133967</th>\n",
       "      <td>nuclear power</td>\n",
       "      <td>1.212458</td>\n",
       "      <td>0.044543</td>\n",
       "      <td>1.025764</td>\n",
       "      <td>4.087153</td>\n",
       "      <td>0.186694</td>\n",
       "      <td>4.042610</td>\n",
       "    </tr>\n",
       "    <tr>\n",
       "      <th>6121</th>\n",
       "      <td>real life</td>\n",
       "      <td>0.377786</td>\n",
       "      <td>2.747605</td>\n",
       "      <td>-1.626496</td>\n",
       "      <td>-1.123159</td>\n",
       "      <td>2.004282</td>\n",
       "      <td>3.870764</td>\n",
       "    </tr>\n",
       "    <tr>\n",
       "      <th>303</th>\n",
       "      <td>equal numbers</td>\n",
       "      <td>1.214141</td>\n",
       "      <td>3.109677</td>\n",
       "      <td>0.026903</td>\n",
       "      <td>-0.585036</td>\n",
       "      <td>1.187238</td>\n",
       "      <td>3.694712</td>\n",
       "    </tr>\n",
       "    <tr>\n",
       "      <th>404720</th>\n",
       "      <td>secondary education</td>\n",
       "      <td>-0.614178</td>\n",
       "      <td>-1.741397</td>\n",
       "      <td>1.073137</td>\n",
       "      <td>1.912404</td>\n",
       "      <td>1.687315</td>\n",
       "      <td>3.653801</td>\n",
       "    </tr>\n",
       "    <tr>\n",
       "      <th>20222</th>\n",
       "      <td>older people</td>\n",
       "      <td>-0.214490</td>\n",
       "      <td>2.371774</td>\n",
       "      <td>-1.472854</td>\n",
       "      <td>-1.250863</td>\n",
       "      <td>1.258365</td>\n",
       "      <td>3.622637</td>\n",
       "    </tr>\n",
       "    <tr>\n",
       "      <th>11968</th>\n",
       "      <td>much time</td>\n",
       "      <td>0.251967</td>\n",
       "      <td>2.608599</td>\n",
       "      <td>-1.931422</td>\n",
       "      <td>-0.992166</td>\n",
       "      <td>2.183389</td>\n",
       "      <td>3.600765</td>\n",
       "    </tr>\n",
       "    <tr>\n",
       "      <th>121623</th>\n",
       "      <td>modern day</td>\n",
       "      <td>-1.335491</td>\n",
       "      <td>-1.492640</td>\n",
       "      <td>0.439917</td>\n",
       "      <td>2.061028</td>\n",
       "      <td>1.775407</td>\n",
       "      <td>3.553667</td>\n",
       "    </tr>\n",
       "    <tr>\n",
       "      <th>154245</th>\n",
       "      <td>other forms</td>\n",
       "      <td>-1.175376</td>\n",
       "      <td>-0.477658</td>\n",
       "      <td>0.225787</td>\n",
       "      <td>2.964644</td>\n",
       "      <td>1.401162</td>\n",
       "      <td>3.442301</td>\n",
       "    </tr>\n",
       "    <tr>\n",
       "      <th>150529</th>\n",
       "      <td>human brain</td>\n",
       "      <td>0.721327</td>\n",
       "      <td>0.829902</td>\n",
       "      <td>0.793326</td>\n",
       "      <td>4.233667</td>\n",
       "      <td>0.071999</td>\n",
       "      <td>3.403765</td>\n",
       "    </tr>\n",
       "    <tr>\n",
       "      <th>151480</th>\n",
       "      <td>modern times</td>\n",
       "      <td>-1.399854</td>\n",
       "      <td>-1.382326</td>\n",
       "      <td>0.559864</td>\n",
       "      <td>2.003629</td>\n",
       "      <td>1.959719</td>\n",
       "      <td>3.385955</td>\n",
       "    </tr>\n",
       "    <tr>\n",
       "      <th>166464</th>\n",
       "      <td>first amendment</td>\n",
       "      <td>1.308820</td>\n",
       "      <td>-0.166798</td>\n",
       "      <td>1.130100</td>\n",
       "      <td>3.207866</td>\n",
       "      <td>0.178719</td>\n",
       "      <td>3.374664</td>\n",
       "    </tr>\n",
       "    <tr>\n",
       "      <th>393802</th>\n",
       "      <td>adoptive parents</td>\n",
       "      <td>1.786622</td>\n",
       "      <td>-0.712493</td>\n",
       "      <td>1.468348</td>\n",
       "      <td>2.662168</td>\n",
       "      <td>0.318274</td>\n",
       "      <td>3.374661</td>\n",
       "    </tr>\n",
       "    <tr>\n",
       "      <th>9434</th>\n",
       "      <td>own ideas</td>\n",
       "      <td>0.700851</td>\n",
       "      <td>2.747717</td>\n",
       "      <td>-1.324010</td>\n",
       "      <td>-0.600587</td>\n",
       "      <td>2.024861</td>\n",
       "      <td>3.348304</td>\n",
       "    </tr>\n",
       "    <tr>\n",
       "      <th>107932</th>\n",
       "      <td>primary schools</td>\n",
       "      <td>0.947838</td>\n",
       "      <td>2.091429</td>\n",
       "      <td>-0.114181</td>\n",
       "      <td>-1.230931</td>\n",
       "      <td>1.062019</td>\n",
       "      <td>3.322360</td>\n",
       "    </tr>\n",
       "    <tr>\n",
       "      <th>24982</th>\n",
       "      <td>second one</td>\n",
       "      <td>0.706957</td>\n",
       "      <td>2.532563</td>\n",
       "      <td>-0.501427</td>\n",
       "      <td>-0.740875</td>\n",
       "      <td>1.208384</td>\n",
       "      <td>3.273439</td>\n",
       "    </tr>\n",
       "    <tr>\n",
       "      <th>9125</th>\n",
       "      <td>own way</td>\n",
       "      <td>-0.339084</td>\n",
       "      <td>1.932207</td>\n",
       "      <td>-2.188393</td>\n",
       "      <td>-1.319162</td>\n",
       "      <td>1.849308</td>\n",
       "      <td>3.251370</td>\n",
       "    </tr>\n",
       "    <tr>\n",
       "      <th>44228</th>\n",
       "      <td>worth living</td>\n",
       "      <td>0.090918</td>\n",
       "      <td>-0.971581</td>\n",
       "      <td>1.499935</td>\n",
       "      <td>2.231139</td>\n",
       "      <td>1.409018</td>\n",
       "      <td>3.202720</td>\n",
       "    </tr>\n",
       "    <tr>\n",
       "      <th>2440</th>\n",
       "      <td>foreign language</td>\n",
       "      <td>1.059050</td>\n",
       "      <td>2.733183</td>\n",
       "      <td>0.768915</td>\n",
       "      <td>-0.466874</td>\n",
       "      <td>0.290136</td>\n",
       "      <td>3.200057</td>\n",
       "    </tr>\n",
       "    <tr>\n",
       "      <th>3957</th>\n",
       "      <td>human '</td>\n",
       "      <td>0.564374</td>\n",
       "      <td>1.955066</td>\n",
       "      <td>-1.748220</td>\n",
       "      <td>-1.240053</td>\n",
       "      <td>2.312594</td>\n",
       "      <td>3.195119</td>\n",
       "    </tr>\n",
       "    <tr>\n",
       "      <th>19656</th>\n",
       "      <td>effective way</td>\n",
       "      <td>0.299962</td>\n",
       "      <td>1.860886</td>\n",
       "      <td>-1.204797</td>\n",
       "      <td>-1.319803</td>\n",
       "      <td>1.504759</td>\n",
       "      <td>3.180689</td>\n",
       "    </tr>\n",
       "    <tr>\n",
       "      <th>149375</th>\n",
       "      <td>lower class</td>\n",
       "      <td>-0.217910</td>\n",
       "      <td>-1.086885</td>\n",
       "      <td>1.038139</td>\n",
       "      <td>2.090139</td>\n",
       "      <td>1.256049</td>\n",
       "      <td>3.177024</td>\n",
       "    </tr>\n",
       "    <tr>\n",
       "      <th>27008</th>\n",
       "      <td>educational system</td>\n",
       "      <td>1.199760</td>\n",
       "      <td>2.569516</td>\n",
       "      <td>-0.288019</td>\n",
       "      <td>-0.597411</td>\n",
       "      <td>1.487779</td>\n",
       "      <td>3.166927</td>\n",
       "    </tr>\n",
       "    <tr>\n",
       "      <th>...</th>\n",
       "      <td>...</td>\n",
       "      <td>...</td>\n",
       "      <td>...</td>\n",
       "      <td>...</td>\n",
       "      <td>...</td>\n",
       "      <td>...</td>\n",
       "      <td>...</td>\n",
       "    </tr>\n",
       "    <tr>\n",
       "      <th>21346</th>\n",
       "      <td>healthy lives</td>\n",
       "      <td>-0.463543</td>\n",
       "      <td>-0.855502</td>\n",
       "      <td>-0.078412</td>\n",
       "      <td>-0.842595</td>\n",
       "      <td>0.385132</td>\n",
       "      <td>0.012907</td>\n",
       "    </tr>\n",
       "    <tr>\n",
       "      <th>422602</th>\n",
       "      <td>fair price</td>\n",
       "      <td>0.599925</td>\n",
       "      <td>-0.788911</td>\n",
       "      <td>0.136357</td>\n",
       "      <td>-0.776468</td>\n",
       "      <td>0.463567</td>\n",
       "      <td>0.012443</td>\n",
       "    </tr>\n",
       "    <tr>\n",
       "      <th>83986</th>\n",
       "      <td>social level</td>\n",
       "      <td>-1.395227</td>\n",
       "      <td>-0.514465</td>\n",
       "      <td>-0.736166</td>\n",
       "      <td>-0.502190</td>\n",
       "      <td>0.659062</td>\n",
       "      <td>0.012275</td>\n",
       "    </tr>\n",
       "    <tr>\n",
       "      <th>127735</th>\n",
       "      <td>huge sums</td>\n",
       "      <td>1.612171</td>\n",
       "      <td>1.504096</td>\n",
       "      <td>1.659216</td>\n",
       "      <td>1.491896</td>\n",
       "      <td>0.047046</td>\n",
       "      <td>0.012200</td>\n",
       "    </tr>\n",
       "    <tr>\n",
       "      <th>380288</th>\n",
       "      <td>small worlds</td>\n",
       "      <td>0.697788</td>\n",
       "      <td>-0.476796</td>\n",
       "      <td>0.419241</td>\n",
       "      <td>-0.488363</td>\n",
       "      <td>0.278547</td>\n",
       "      <td>0.011567</td>\n",
       "    </tr>\n",
       "    <tr>\n",
       "      <th>6651</th>\n",
       "      <td>early age</td>\n",
       "      <td>0.888089</td>\n",
       "      <td>1.760987</td>\n",
       "      <td>0.542007</td>\n",
       "      <td>1.750206</td>\n",
       "      <td>0.346083</td>\n",
       "      <td>0.010780</td>\n",
       "    </tr>\n",
       "    <tr>\n",
       "      <th>85347</th>\n",
       "      <td>real use</td>\n",
       "      <td>-0.787029</td>\n",
       "      <td>-0.862194</td>\n",
       "      <td>-0.827003</td>\n",
       "      <td>-0.851684</td>\n",
       "      <td>0.039974</td>\n",
       "      <td>0.010509</td>\n",
       "    </tr>\n",
       "    <tr>\n",
       "      <th>36082</th>\n",
       "      <td>good place</td>\n",
       "      <td>-1.218543</td>\n",
       "      <td>-0.107634</td>\n",
       "      <td>-1.055869</td>\n",
       "      <td>-0.117684</td>\n",
       "      <td>0.162675</td>\n",
       "      <td>0.010050</td>\n",
       "    </tr>\n",
       "    <tr>\n",
       "      <th>62783</th>\n",
       "      <td>other students</td>\n",
       "      <td>-0.960984</td>\n",
       "      <td>1.482224</td>\n",
       "      <td>-1.305229</td>\n",
       "      <td>1.492106</td>\n",
       "      <td>0.344245</td>\n",
       "      <td>0.009882</td>\n",
       "    </tr>\n",
       "    <tr>\n",
       "      <th>102485</th>\n",
       "      <td>same distance</td>\n",
       "      <td>-0.343926</td>\n",
       "      <td>-0.488862</td>\n",
       "      <td>0.079163</td>\n",
       "      <td>-0.498530</td>\n",
       "      <td>0.423089</td>\n",
       "      <td>0.009668</td>\n",
       "    </tr>\n",
       "    <tr>\n",
       "      <th>119450</th>\n",
       "      <td>only problem</td>\n",
       "      <td>-0.610140</td>\n",
       "      <td>0.279813</td>\n",
       "      <td>-0.831874</td>\n",
       "      <td>0.289175</td>\n",
       "      <td>0.221735</td>\n",
       "      <td>0.009361</td>\n",
       "    </tr>\n",
       "    <tr>\n",
       "      <th>12885</th>\n",
       "      <td>long time</td>\n",
       "      <td>0.529792</td>\n",
       "      <td>2.530911</td>\n",
       "      <td>-0.055407</td>\n",
       "      <td>2.540102</td>\n",
       "      <td>0.585199</td>\n",
       "      <td>0.009190</td>\n",
       "    </tr>\n",
       "    <tr>\n",
       "      <th>416635</th>\n",
       "      <td>strong regulation</td>\n",
       "      <td>0.514433</td>\n",
       "      <td>-0.457735</td>\n",
       "      <td>0.609423</td>\n",
       "      <td>-0.448743</td>\n",
       "      <td>0.094990</td>\n",
       "      <td>0.008992</td>\n",
       "    </tr>\n",
       "    <tr>\n",
       "      <th>17521</th>\n",
       "      <td>main point</td>\n",
       "      <td>-0.180330</td>\n",
       "      <td>1.723521</td>\n",
       "      <td>-0.086770</td>\n",
       "      <td>1.732428</td>\n",
       "      <td>0.093560</td>\n",
       "      <td>0.008907</td>\n",
       "    </tr>\n",
       "    <tr>\n",
       "      <th>41972</th>\n",
       "      <td>dangerous idea</td>\n",
       "      <td>-1.021403</td>\n",
       "      <td>-1.304180</td>\n",
       "      <td>-0.728376</td>\n",
       "      <td>-1.297503</td>\n",
       "      <td>0.293027</td>\n",
       "      <td>0.006677</td>\n",
       "    </tr>\n",
       "    <tr>\n",
       "      <th>347766</th>\n",
       "      <td>other schools</td>\n",
       "      <td>-1.950378</td>\n",
       "      <td>-1.399825</td>\n",
       "      <td>-1.995154</td>\n",
       "      <td>-1.393261</td>\n",
       "      <td>0.044776</td>\n",
       "      <td>0.006564</td>\n",
       "    </tr>\n",
       "    <tr>\n",
       "      <th>43897</th>\n",
       "      <td>many millions</td>\n",
       "      <td>-1.798654</td>\n",
       "      <td>-0.654153</td>\n",
       "      <td>-1.430268</td>\n",
       "      <td>-0.658462</td>\n",
       "      <td>0.368385</td>\n",
       "      <td>0.004309</td>\n",
       "    </tr>\n",
       "    <tr>\n",
       "      <th>72505</th>\n",
       "      <td>only responsibility</td>\n",
       "      <td>-0.031078</td>\n",
       "      <td>-0.771078</td>\n",
       "      <td>-0.784344</td>\n",
       "      <td>-0.767211</td>\n",
       "      <td>0.753266</td>\n",
       "      <td>0.003867</td>\n",
       "    </tr>\n",
       "    <tr>\n",
       "      <th>337387</th>\n",
       "      <td>such rules</td>\n",
       "      <td>-1.669255</td>\n",
       "      <td>-1.039336</td>\n",
       "      <td>-1.237028</td>\n",
       "      <td>-1.036174</td>\n",
       "      <td>0.432227</td>\n",
       "      <td>0.003162</td>\n",
       "    </tr>\n",
       "    <tr>\n",
       "      <th>408325</th>\n",
       "      <td>such fear</td>\n",
       "      <td>-0.854112</td>\n",
       "      <td>-0.907490</td>\n",
       "      <td>-0.989844</td>\n",
       "      <td>-0.904328</td>\n",
       "      <td>0.135733</td>\n",
       "      <td>0.003162</td>\n",
       "    </tr>\n",
       "    <tr>\n",
       "      <th>169031</th>\n",
       "      <td>first year</td>\n",
       "      <td>-0.763531</td>\n",
       "      <td>0.601486</td>\n",
       "      <td>-0.705143</td>\n",
       "      <td>0.604352</td>\n",
       "      <td>0.058388</td>\n",
       "      <td>0.002866</td>\n",
       "    </tr>\n",
       "    <tr>\n",
       "      <th>18861</th>\n",
       "      <td>social institutions</td>\n",
       "      <td>0.510493</td>\n",
       "      <td>0.435898</td>\n",
       "      <td>0.211320</td>\n",
       "      <td>0.438696</td>\n",
       "      <td>0.299173</td>\n",
       "      <td>0.002798</td>\n",
       "    </tr>\n",
       "    <tr>\n",
       "      <th>298611</th>\n",
       "      <td>more times</td>\n",
       "      <td>-1.770727</td>\n",
       "      <td>-0.947548</td>\n",
       "      <td>-1.640171</td>\n",
       "      <td>-0.944800</td>\n",
       "      <td>0.130555</td>\n",
       "      <td>0.002748</td>\n",
       "    </tr>\n",
       "    <tr>\n",
       "      <th>77416</th>\n",
       "      <td>moral foundation</td>\n",
       "      <td>1.552240</td>\n",
       "      <td>-0.633536</td>\n",
       "      <td>0.617530</td>\n",
       "      <td>-0.630804</td>\n",
       "      <td>0.934711</td>\n",
       "      <td>0.002732</td>\n",
       "    </tr>\n",
       "    <tr>\n",
       "      <th>159975</th>\n",
       "      <td>strict guidelines</td>\n",
       "      <td>2.473585</td>\n",
       "      <td>0.134460</td>\n",
       "      <td>1.672426</td>\n",
       "      <td>0.132711</td>\n",
       "      <td>0.801159</td>\n",
       "      <td>0.001749</td>\n",
       "    </tr>\n",
       "    <tr>\n",
       "      <th>417347</th>\n",
       "      <td>legal means</td>\n",
       "      <td>0.374043</td>\n",
       "      <td>-0.616386</td>\n",
       "      <td>-0.057338</td>\n",
       "      <td>-0.614898</td>\n",
       "      <td>0.431381</td>\n",
       "      <td>0.001488</td>\n",
       "    </tr>\n",
       "    <tr>\n",
       "      <th>49874</th>\n",
       "      <td>various opinions</td>\n",
       "      <td>-0.025063</td>\n",
       "      <td>-0.261462</td>\n",
       "      <td>0.165700</td>\n",
       "      <td>-0.262159</td>\n",
       "      <td>0.190763</td>\n",
       "      <td>0.000696</td>\n",
       "    </tr>\n",
       "    <tr>\n",
       "      <th>161066</th>\n",
       "      <td>new medicines</td>\n",
       "      <td>0.047209</td>\n",
       "      <td>0.025637</td>\n",
       "      <td>1.467536</td>\n",
       "      <td>0.025109</td>\n",
       "      <td>1.420326</td>\n",
       "      <td>0.000529</td>\n",
       "    </tr>\n",
       "    <tr>\n",
       "      <th>13216</th>\n",
       "      <td>only place</td>\n",
       "      <td>-0.503287</td>\n",
       "      <td>0.039095</td>\n",
       "      <td>-0.727447</td>\n",
       "      <td>0.038984</td>\n",
       "      <td>0.224160</td>\n",
       "      <td>0.000110</td>\n",
       "    </tr>\n",
       "    <tr>\n",
       "      <th>101613</th>\n",
       "      <td>huge profit</td>\n",
       "      <td>-0.083699</td>\n",
       "      <td>-0.284456</td>\n",
       "      <td>0.566815</td>\n",
       "      <td>-0.284511</td>\n",
       "      <td>0.650514</td>\n",
       "      <td>0.000055</td>\n",
       "    </tr>\n",
       "  </tbody>\n",
       "</table>\n",
       "<p>2487 rows × 7 columns</p>\n",
       "</div>"
      ],
      "text/plain": [
       "                     bigram  REALEC MI  REALEC G-score  LOCNESS MI  \\\n",
       "id                                                                   \n",
       "156229       public schools  -0.612715       -0.562151    0.986600   \n",
       "17794         public health   1.369530        3.942295   -0.603919   \n",
       "385366            bad faith   0.878874       -0.125737    1.565309   \n",
       "418999              new age  -2.170481       -1.463367    0.027616   \n",
       "374204        public school  -1.507271       -1.304247    0.226852   \n",
       "6264            such people  -1.161012        2.438142   -2.979580   \n",
       "96787     primary education   1.042970        3.292793   -0.144533   \n",
       "12299              good way  -0.180811        2.571007   -2.087337   \n",
       "133967        nuclear power   1.212458        0.044543    1.025764   \n",
       "6121              real life   0.377786        2.747605   -1.626496   \n",
       "303           equal numbers   1.214141        3.109677    0.026903   \n",
       "404720  secondary education  -0.614178       -1.741397    1.073137   \n",
       "20222          older people  -0.214490        2.371774   -1.472854   \n",
       "11968             much time   0.251967        2.608599   -1.931422   \n",
       "121623           modern day  -1.335491       -1.492640    0.439917   \n",
       "154245          other forms  -1.175376       -0.477658    0.225787   \n",
       "150529          human brain   0.721327        0.829902    0.793326   \n",
       "151480         modern times  -1.399854       -1.382326    0.559864   \n",
       "166464      first amendment   1.308820       -0.166798    1.130100   \n",
       "393802     adoptive parents   1.786622       -0.712493    1.468348   \n",
       "9434              own ideas   0.700851        2.747717   -1.324010   \n",
       "107932      primary schools   0.947838        2.091429   -0.114181   \n",
       "24982            second one   0.706957        2.532563   -0.501427   \n",
       "9125                own way  -0.339084        1.932207   -2.188393   \n",
       "44228          worth living   0.090918       -0.971581    1.499935   \n",
       "2440       foreign language   1.059050        2.733183    0.768915   \n",
       "3957                human '   0.564374        1.955066   -1.748220   \n",
       "19656         effective way   0.299962        1.860886   -1.204797   \n",
       "149375          lower class  -0.217910       -1.086885    1.038139   \n",
       "27008    educational system   1.199760        2.569516   -0.288019   \n",
       "...                     ...        ...             ...         ...   \n",
       "21346         healthy lives  -0.463543       -0.855502   -0.078412   \n",
       "422602           fair price   0.599925       -0.788911    0.136357   \n",
       "83986          social level  -1.395227       -0.514465   -0.736166   \n",
       "127735            huge sums   1.612171        1.504096    1.659216   \n",
       "380288         small worlds   0.697788       -0.476796    0.419241   \n",
       "6651              early age   0.888089        1.760987    0.542007   \n",
       "85347              real use  -0.787029       -0.862194   -0.827003   \n",
       "36082            good place  -1.218543       -0.107634   -1.055869   \n",
       "62783        other students  -0.960984        1.482224   -1.305229   \n",
       "102485        same distance  -0.343926       -0.488862    0.079163   \n",
       "119450         only problem  -0.610140        0.279813   -0.831874   \n",
       "12885             long time   0.529792        2.530911   -0.055407   \n",
       "416635    strong regulation   0.514433       -0.457735    0.609423   \n",
       "17521            main point  -0.180330        1.723521   -0.086770   \n",
       "41972        dangerous idea  -1.021403       -1.304180   -0.728376   \n",
       "347766        other schools  -1.950378       -1.399825   -1.995154   \n",
       "43897         many millions  -1.798654       -0.654153   -1.430268   \n",
       "72505   only responsibility  -0.031078       -0.771078   -0.784344   \n",
       "337387           such rules  -1.669255       -1.039336   -1.237028   \n",
       "408325            such fear  -0.854112       -0.907490   -0.989844   \n",
       "169031           first year  -0.763531        0.601486   -0.705143   \n",
       "18861   social institutions   0.510493        0.435898    0.211320   \n",
       "298611           more times  -1.770727       -0.947548   -1.640171   \n",
       "77416      moral foundation   1.552240       -0.633536    0.617530   \n",
       "159975    strict guidelines   2.473585        0.134460    1.672426   \n",
       "417347          legal means   0.374043       -0.616386   -0.057338   \n",
       "49874      various opinions  -0.025063       -0.261462    0.165700   \n",
       "161066        new medicines   0.047209        0.025637    1.467536   \n",
       "13216            only place  -0.503287        0.039095   -0.727447   \n",
       "101613          huge profit  -0.083699       -0.284456    0.566815   \n",
       "\n",
       "        LOCNESS G-score   MI_diff  G-score diff  \n",
       "id                                               \n",
       "156229         4.555061  1.599314      5.117212  \n",
       "17794         -0.876729  1.973449      4.819024  \n",
       "385366         4.334150  0.686435      4.459888  \n",
       "418999         2.913551  2.198097      4.376918  \n",
       "374204         3.036735  1.734123      4.340982  \n",
       "6264          -1.678353  1.818568      4.116495  \n",
       "96787         -0.791157  1.187503      4.083951  \n",
       "12299         -1.509504  1.906526      4.080511  \n",
       "133967         4.087153  0.186694      4.042610  \n",
       "6121          -1.123159  2.004282      3.870764  \n",
       "303           -0.585036  1.187238      3.694712  \n",
       "404720         1.912404  1.687315      3.653801  \n",
       "20222         -1.250863  1.258365      3.622637  \n",
       "11968         -0.992166  2.183389      3.600765  \n",
       "121623         2.061028  1.775407      3.553667  \n",
       "154245         2.964644  1.401162      3.442301  \n",
       "150529         4.233667  0.071999      3.403765  \n",
       "151480         2.003629  1.959719      3.385955  \n",
       "166464         3.207866  0.178719      3.374664  \n",
       "393802         2.662168  0.318274      3.374661  \n",
       "9434          -0.600587  2.024861      3.348304  \n",
       "107932        -1.230931  1.062019      3.322360  \n",
       "24982         -0.740875  1.208384      3.273439  \n",
       "9125          -1.319162  1.849308      3.251370  \n",
       "44228          2.231139  1.409018      3.202720  \n",
       "2440          -0.466874  0.290136      3.200057  \n",
       "3957          -1.240053  2.312594      3.195119  \n",
       "19656         -1.319803  1.504759      3.180689  \n",
       "149375         2.090139  1.256049      3.177024  \n",
       "27008         -0.597411  1.487779      3.166927  \n",
       "...                 ...       ...           ...  \n",
       "21346         -0.842595  0.385132      0.012907  \n",
       "422602        -0.776468  0.463567      0.012443  \n",
       "83986         -0.502190  0.659062      0.012275  \n",
       "127735         1.491896  0.047046      0.012200  \n",
       "380288        -0.488363  0.278547      0.011567  \n",
       "6651           1.750206  0.346083      0.010780  \n",
       "85347         -0.851684  0.039974      0.010509  \n",
       "36082         -0.117684  0.162675      0.010050  \n",
       "62783          1.492106  0.344245      0.009882  \n",
       "102485        -0.498530  0.423089      0.009668  \n",
       "119450         0.289175  0.221735      0.009361  \n",
       "12885          2.540102  0.585199      0.009190  \n",
       "416635        -0.448743  0.094990      0.008992  \n",
       "17521          1.732428  0.093560      0.008907  \n",
       "41972         -1.297503  0.293027      0.006677  \n",
       "347766        -1.393261  0.044776      0.006564  \n",
       "43897         -0.658462  0.368385      0.004309  \n",
       "72505         -0.767211  0.753266      0.003867  \n",
       "337387        -1.036174  0.432227      0.003162  \n",
       "408325        -0.904328  0.135733      0.003162  \n",
       "169031         0.604352  0.058388      0.002866  \n",
       "18861          0.438696  0.299173      0.002798  \n",
       "298611        -0.944800  0.130555      0.002748  \n",
       "77416         -0.630804  0.934711      0.002732  \n",
       "159975         0.132711  0.801159      0.001749  \n",
       "417347        -0.614898  0.431381      0.001488  \n",
       "49874         -0.262159  0.190763      0.000696  \n",
       "161066         0.025109  1.420326      0.000529  \n",
       "13216          0.038984  0.224160      0.000110  \n",
       "101613        -0.284511  0.650514      0.000055  \n",
       "\n",
       "[2487 rows x 7 columns]"
      ]
     },
     "execution_count": 40,
     "metadata": {},
     "output_type": "execute_result"
    }
   ],
   "source": [
    "comparision.sort_values(by='G-score diff', ascending=False)"
   ]
  }
 ],
 "metadata": {
  "kernelspec": {
   "display_name": "Python 3",
   "language": "python",
   "name": "python3"
  },
  "language_info": {
   "codemirror_mode": {
    "name": "ipython",
    "version": 3
   },
   "file_extension": ".py",
   "mimetype": "text/x-python",
   "name": "python",
   "nbconvert_exporter": "python",
   "pygments_lexer": "ipython3",
   "version": "3.6.0"
  }
 },
 "nbformat": 4,
 "nbformat_minor": 2
}
