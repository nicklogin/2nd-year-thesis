{
 "cells": [
  {
   "cell_type": "markdown",
   "metadata": {},
   "source": [
    "<h1>Приложение 1</h1>"
   ]
  },
  {
   "cell_type": "markdown",
   "metadata": {},
   "source": [
    "<h2>1. Подсчёт метрик коллокационной силы Mutual Information и Lexical Gravity, их корреляции для выборки корпуса REALEC</h2>"
   ]
  },
  {
   "cell_type": "markdown",
   "metadata": {},
   "source": [
    "Рассматривалась выборка неповторяющихся текстов, не содержащих значения \"graph description\" в поле \"type\" метаданных (1859 текстов, 506 579 слов)."
   ]
  },
  {
   "cell_type": "code",
   "execution_count": 2,
   "metadata": {
    "collapsed": true
   },
   "outputs": [],
   "source": [
    "import sqlite3, pandas, scipy.stats"
   ]
  },
  {
   "cell_type": "markdown",
   "metadata": {},
   "source": [
    "Откроем составленную базу данных и файл с SQL-скриптом:"
   ]
  },
  {
   "cell_type": "code",
   "execution_count": 2,
   "metadata": {
    "collapsed": true
   },
   "outputs": [],
   "source": [
    "db = sqlite3.connect('P:/Studies/2nd-year-thesis/realec_database.db')\n",
    "\n",
    "with open ('P:/Studies/2nd-year-thesis/get_full_table.sql','r',encoding='utf-8') as source:\n",
    "    query = source.read().split(';')"
   ]
  },
  {
   "cell_type": "markdown",
   "metadata": {},
   "source": [
    "Выполним содержащиеся в скрипте запросы к базе данных:"
   ]
  },
  {
   "cell_type": "code",
   "execution_count": 4,
   "metadata": {
    "collapsed": true
   },
   "outputs": [],
   "source": [
    "c = db.cursor()\n",
    "\n",
    "for statement in query:\n",
    "    c.execute(statement)\n",
    "    \n",
    "db.commit()"
   ]
  },
  {
   "cell_type": "markdown",
   "metadata": {},
   "source": [
    "Запишем полученные сводные таблицы в объекты pandas: bigrams - для биграмм, составленных\n",
    "из словоформ; lemma_bigrams - для биграмм, составленных из лемм, выделенных парсером udpipe (Биграммы выделялись только в пределах границ предложений, как в работе Гриса)."
   ]
  },
  {
   "cell_type": "code",
   "execution_count": 3,
   "metadata": {
    "collapsed": true
   },
   "outputs": [],
   "source": [
    "bigrams = pandas.read_sql('SELECT * FROM bigrams_with_freqs3 WHERE frequency>0',db)"
   ]
  },
  {
   "cell_type": "code",
   "execution_count": 6,
   "metadata": {
    "collapsed": true
   },
   "outputs": [],
   "source": [
    "lemma_bigrams = pandas.read_sql('SELECT * FROM lemma_bigrams_with_freqs1 WHERE frequency>0',db)"
   ]
  },
  {
   "cell_type": "markdown",
   "metadata": {},
   "source": [
    "Найдём значения <b>метрики MI</b> для биграмм:"
   ]
  },
  {
   "cell_type": "code",
   "execution_count": 4,
   "metadata": {
    "collapsed": true
   },
   "outputs": [],
   "source": [
    "import math\n",
    "\n",
    "N = list(db.execute('SELECT SUM(Frequency) FROM wordforms;'))[0][0]\n",
    "bigrams['MI'] = bigrams.apply(lambda x: math.log(x['frequency'],\n",
    "                                                 2)+math.log(N,2)-math.log(x['frequency:1'],2)\n",
    "                              -math.log(x['frequency:2'],2),\n",
    "                              axis=1)"
   ]
  },
  {
   "cell_type": "code",
   "execution_count": 9,
   "metadata": {
    "collapsed": true
   },
   "outputs": [],
   "source": [
    "lemma_bigrams['MI'] = lemma_bigrams.apply(lambda x: math.log(x['frequency'],\n",
    "                                                 2)+math.log(N,2)-math.log(x['frequency:1'],2)\n",
    "                              -math.log(x['frequency:2'],2),\n",
    "                              axis=1)"
   ]
  },
  {
   "cell_type": "code",
   "execution_count": 10,
   "metadata": {
    "collapsed": true
   },
   "outputs": [],
   "source": [
    "db.close()"
   ]
  },
  {
   "cell_type": "markdown",
   "metadata": {
    "collapsed": true
   },
   "source": [
    "Теперь найдём значения <b>метрики Lexical Gravity</b> (G-score):"
   ]
  },
  {
   "cell_type": "code",
   "execution_count": 11,
   "metadata": {
    "collapsed": true
   },
   "outputs": [],
   "source": [
    "form_typesafter = bigrams['id_wordform1'].value_counts()\n",
    "form_typesbefore = bigrams['id_wordform2'].value_counts()\n",
    "\n",
    "lemma_typesafter = lemma_bigrams['id_lemma1'].value_counts()\n",
    "lemma_typesbefore = lemma_bigrams['id_lemma2'].value_counts()"
   ]
  },
  {
   "cell_type": "code",
   "execution_count": 52,
   "metadata": {
    "collapsed": true
   },
   "outputs": [],
   "source": [
    "bigrams['G-score'] = bigrams.apply(lambda x: x['MI']-math.log(N,2)+math.log(x['frequency'],2)+\n",
    "                                   math.log(form_typesafter[x['id_wordform1']],2)+\n",
    "                                   math.log(form_typesbefore[x['id_wordform2']],2),axis = 1)\n",
    "\n",
    "lemma_bigrams['G-score'] = lemma_bigrams.apply(lambda x: x['MI']-math.log(N,2)+math.log(x['frequency'],2)+\n",
    "                                  math.log(lemma_typesafter[x['id_lemma1']],2)+\n",
    "                                  math.log(lemma_typesbefore[x['id_lemma2']],2),axis = 1)"
   ]
  },
  {
   "cell_type": "markdown",
   "metadata": {},
   "source": [
    "Найдём линейные парные <b>коэффициенты корреляции Пирсона</b> для частоты и метрик MI и Lexical Gravity:"
   ]
  },
  {
   "cell_type": "code",
   "execution_count": 37,
   "metadata": {},
   "outputs": [
    {
     "data": {
      "text/html": [
       "<div>\n",
       "<style>\n",
       "    .dataframe thead tr:only-child th {\n",
       "        text-align: right;\n",
       "    }\n",
       "\n",
       "    .dataframe thead th {\n",
       "        text-align: left;\n",
       "    }\n",
       "\n",
       "    .dataframe tbody tr th {\n",
       "        vertical-align: top;\n",
       "    }\n",
       "</style>\n",
       "<table border=\"1\" class=\"dataframe\">\n",
       "  <thead>\n",
       "    <tr style=\"text-align: right;\">\n",
       "      <th></th>\n",
       "      <th>frequency</th>\n",
       "      <th>MI</th>\n",
       "      <th>G-score</th>\n",
       "    </tr>\n",
       "  </thead>\n",
       "  <tbody>\n",
       "    <tr>\n",
       "      <th>frequency</th>\n",
       "      <td>1.000000</td>\n",
       "      <td>-0.034118</td>\n",
       "      <td>0.410988</td>\n",
       "    </tr>\n",
       "    <tr>\n",
       "      <th>MI</th>\n",
       "      <td>-0.034118</td>\n",
       "      <td>1.000000</td>\n",
       "      <td>0.242665</td>\n",
       "    </tr>\n",
       "    <tr>\n",
       "      <th>G-score</th>\n",
       "      <td>0.410988</td>\n",
       "      <td>0.242665</td>\n",
       "      <td>1.000000</td>\n",
       "    </tr>\n",
       "  </tbody>\n",
       "</table>\n",
       "</div>"
      ],
      "text/plain": [
       "           frequency        MI   G-score\n",
       "frequency   1.000000 -0.034118  0.410988\n",
       "MI         -0.034118  1.000000  0.242665\n",
       "G-score     0.410988  0.242665  1.000000"
      ]
     },
     "execution_count": 37,
     "metadata": {},
     "output_type": "execute_result"
    }
   ],
   "source": [
    "correlations = bigrams.corr(method='pearson').drop(labels=['id','id_wordform1','frequency:1',\n",
    "                                           'frequency:2','id_wordform2']).drop(labels=['id','id_wordform1',\n",
    "                                                                                       'frequency:1',\n",
    "                                                                                       'frequency:2',\n",
    "                                                                                       'id_wordform2'],axis=1)\n",
    "correlations"
   ]
  },
  {
   "cell_type": "code",
   "execution_count": 38,
   "metadata": {},
   "outputs": [
    {
     "data": {
      "text/html": [
       "<div>\n",
       "<style>\n",
       "    .dataframe thead tr:only-child th {\n",
       "        text-align: right;\n",
       "    }\n",
       "\n",
       "    .dataframe thead th {\n",
       "        text-align: left;\n",
       "    }\n",
       "\n",
       "    .dataframe tbody tr th {\n",
       "        vertical-align: top;\n",
       "    }\n",
       "</style>\n",
       "<table border=\"1\" class=\"dataframe\">\n",
       "  <thead>\n",
       "    <tr style=\"text-align: right;\">\n",
       "      <th></th>\n",
       "      <th>frequency</th>\n",
       "      <th>MI</th>\n",
       "      <th>G-score</th>\n",
       "    </tr>\n",
       "  </thead>\n",
       "  <tbody>\n",
       "    <tr>\n",
       "      <th>frequency</th>\n",
       "      <td>1.000000</td>\n",
       "      <td>-0.032521</td>\n",
       "      <td>0.401216</td>\n",
       "    </tr>\n",
       "    <tr>\n",
       "      <th>MI</th>\n",
       "      <td>-0.032521</td>\n",
       "      <td>1.000000</td>\n",
       "      <td>0.237638</td>\n",
       "    </tr>\n",
       "    <tr>\n",
       "      <th>G-score</th>\n",
       "      <td>0.401216</td>\n",
       "      <td>0.237638</td>\n",
       "      <td>1.000000</td>\n",
       "    </tr>\n",
       "  </tbody>\n",
       "</table>\n",
       "</div>"
      ],
      "text/plain": [
       "           frequency        MI   G-score\n",
       "frequency   1.000000 -0.032521  0.401216\n",
       "MI         -0.032521  1.000000  0.237638\n",
       "G-score     0.401216  0.237638  1.000000"
      ]
     },
     "execution_count": 38,
     "metadata": {},
     "output_type": "execute_result"
    }
   ],
   "source": [
    "lemma_correlations = lemma_bigrams.corr(method='pearson').drop(labels=['id','id_lemma1','frequency:1','frequency:2',\n",
    "                                           'id_lemma2']).drop(labels=['id','id_lemma1',\n",
    "                                                                      'frequency:1',\n",
    "                                                                      'frequency:2',\n",
    "                                                                      'id_lemma2'],axis=1)\n",
    "lemma_correlations"
   ]
  },
  {
   "cell_type": "markdown",
   "metadata": {},
   "source": [
    "Проверим полученные коэффициенты корреляции на значимость.  Для этого проверим гипотезу о том, что все коэффициенты корреляции равны нулю  при помощи <i>t</i>-теста Стьюдента.Пороговый\n",
    "уровень значимости установим <i>a</i> = 0.05:"
   ]
  },
  {
   "cell_type": "code",
   "execution_count": 39,
   "metadata": {},
   "outputs": [
    {
     "data": {
      "text/html": [
       "<div>\n",
       "<style>\n",
       "    .dataframe thead tr:only-child th {\n",
       "        text-align: right;\n",
       "    }\n",
       "\n",
       "    .dataframe thead th {\n",
       "        text-align: left;\n",
       "    }\n",
       "\n",
       "    .dataframe tbody tr th {\n",
       "        vertical-align: top;\n",
       "    }\n",
       "</style>\n",
       "<table border=\"1\" class=\"dataframe\">\n",
       "  <thead>\n",
       "    <tr style=\"text-align: right;\">\n",
       "      <th></th>\n",
       "      <th>frequency</th>\n",
       "      <th>MI</th>\n",
       "      <th>G-score</th>\n",
       "    </tr>\n",
       "  </thead>\n",
       "  <tbody>\n",
       "    <tr>\n",
       "      <th>frequency</th>\n",
       "      <td>0.0</td>\n",
       "      <td>0.0</td>\n",
       "      <td>0.0</td>\n",
       "    </tr>\n",
       "    <tr>\n",
       "      <th>MI</th>\n",
       "      <td>0.0</td>\n",
       "      <td>0.0</td>\n",
       "      <td>0.0</td>\n",
       "    </tr>\n",
       "    <tr>\n",
       "      <th>G-score</th>\n",
       "      <td>0.0</td>\n",
       "      <td>0.0</td>\n",
       "      <td>0.0</td>\n",
       "    </tr>\n",
       "  </tbody>\n",
       "</table>\n",
       "</div>"
      ],
      "text/plain": [
       "           frequency   MI  G-score\n",
       "frequency        0.0  0.0      0.0\n",
       "MI               0.0  0.0      0.0\n",
       "G-score          0.0  0.0      0.0"
      ]
     },
     "execution_count": 39,
     "metadata": {},
     "output_type": "execute_result"
    }
   ],
   "source": [
    "count_t_score = lambda x, n: x*((n-2)**0.5)/((1-x**2)**0.5)\n",
    "p_value = lambda x, n: (1-scipy.stats.t.cdf(count_t_score(x,n),n-2))*2\n",
    "\n",
    "n1 = len(bigrams.index)\n",
    "\n",
    "correlations.applymap(lambda x: p_value(abs(x),n1) if x!=1 else 0)"
   ]
  },
  {
   "cell_type": "code",
   "execution_count": 41,
   "metadata": {},
   "outputs": [
    {
     "data": {
      "text/html": [
       "<div>\n",
       "<style>\n",
       "    .dataframe thead tr:only-child th {\n",
       "        text-align: right;\n",
       "    }\n",
       "\n",
       "    .dataframe thead th {\n",
       "        text-align: left;\n",
       "    }\n",
       "\n",
       "    .dataframe tbody tr th {\n",
       "        vertical-align: top;\n",
       "    }\n",
       "</style>\n",
       "<table border=\"1\" class=\"dataframe\">\n",
       "  <thead>\n",
       "    <tr style=\"text-align: right;\">\n",
       "      <th></th>\n",
       "      <th>frequency</th>\n",
       "      <th>MI</th>\n",
       "      <th>G-score</th>\n",
       "    </tr>\n",
       "  </thead>\n",
       "  <tbody>\n",
       "    <tr>\n",
       "      <th>frequency</th>\n",
       "      <td>0.0</td>\n",
       "      <td>0.0</td>\n",
       "      <td>0.0</td>\n",
       "    </tr>\n",
       "    <tr>\n",
       "      <th>MI</th>\n",
       "      <td>0.0</td>\n",
       "      <td>0.0</td>\n",
       "      <td>0.0</td>\n",
       "    </tr>\n",
       "    <tr>\n",
       "      <th>G-score</th>\n",
       "      <td>0.0</td>\n",
       "      <td>0.0</td>\n",
       "      <td>0.0</td>\n",
       "    </tr>\n",
       "  </tbody>\n",
       "</table>\n",
       "</div>"
      ],
      "text/plain": [
       "           frequency   MI  G-score\n",
       "frequency        0.0  0.0      0.0\n",
       "MI               0.0  0.0      0.0\n",
       "G-score          0.0  0.0      0.0"
      ]
     },
     "execution_count": 41,
     "metadata": {},
     "output_type": "execute_result"
    }
   ],
   "source": [
    "n2 = len(lemma_bigrams.index)\n",
    "\n",
    "lemma_correlations.applymap(lambda x: p_value(abs(x),n2) if x!=1 else 0)"
   ]
  },
  {
   "cell_type": "markdown",
   "metadata": {},
   "source": [
    "Нулевая гипотеза отвергается для всех коэффициентов корреляции, поэтому все из них можно считать значимыми"
   ]
  },
  {
   "cell_type": "markdown",
   "metadata": {},
   "source": [
    "Теперь найдём <b>ранговые коэффициенты корреляции Спирмена и Кендалла</b>."
   ]
  },
  {
   "cell_type": "markdown",
   "metadata": {},
   "source": [
    "Найдём <b>коэффициент Спирмена</b>:"
   ]
  },
  {
   "cell_type": "code",
   "execution_count": 42,
   "metadata": {},
   "outputs": [
    {
     "data": {
      "text/html": [
       "<div>\n",
       "<style>\n",
       "    .dataframe thead tr:only-child th {\n",
       "        text-align: right;\n",
       "    }\n",
       "\n",
       "    .dataframe thead th {\n",
       "        text-align: left;\n",
       "    }\n",
       "\n",
       "    .dataframe tbody tr th {\n",
       "        vertical-align: top;\n",
       "    }\n",
       "</style>\n",
       "<table border=\"1\" class=\"dataframe\">\n",
       "  <thead>\n",
       "    <tr style=\"text-align: right;\">\n",
       "      <th></th>\n",
       "      <th>frequency</th>\n",
       "      <th>MI</th>\n",
       "      <th>G-score</th>\n",
       "    </tr>\n",
       "  </thead>\n",
       "  <tbody>\n",
       "    <tr>\n",
       "      <th>frequency</th>\n",
       "      <td>1.000000</td>\n",
       "      <td>-0.253792</td>\n",
       "      <td>0.655171</td>\n",
       "    </tr>\n",
       "    <tr>\n",
       "      <th>MI</th>\n",
       "      <td>-0.253792</td>\n",
       "      <td>1.000000</td>\n",
       "      <td>0.376502</td>\n",
       "    </tr>\n",
       "    <tr>\n",
       "      <th>G-score</th>\n",
       "      <td>0.655171</td>\n",
       "      <td>0.376502</td>\n",
       "      <td>1.000000</td>\n",
       "    </tr>\n",
       "  </tbody>\n",
       "</table>\n",
       "</div>"
      ],
      "text/plain": [
       "           frequency        MI   G-score\n",
       "frequency   1.000000 -0.253792  0.655171\n",
       "MI         -0.253792  1.000000  0.376502\n",
       "G-score     0.655171  0.376502  1.000000"
      ]
     },
     "execution_count": 42,
     "metadata": {},
     "output_type": "execute_result"
    }
   ],
   "source": [
    "correlations = bigrams.corr(method='spearman').drop(labels=['id','id_wordform1','frequency:1',\n",
    "                                           'frequency:2','id_wordform2']).drop(labels=['id','id_wordform1',\n",
    "                                                                                       'frequency:1',\n",
    "                                                                                       'frequency:2',\n",
    "                                                                                       'id_wordform2'],axis=1)\n",
    "correlations"
   ]
  },
  {
   "cell_type": "code",
   "execution_count": 43,
   "metadata": {},
   "outputs": [
    {
     "data": {
      "text/html": [
       "<div>\n",
       "<style>\n",
       "    .dataframe thead tr:only-child th {\n",
       "        text-align: right;\n",
       "    }\n",
       "\n",
       "    .dataframe thead th {\n",
       "        text-align: left;\n",
       "    }\n",
       "\n",
       "    .dataframe tbody tr th {\n",
       "        vertical-align: top;\n",
       "    }\n",
       "</style>\n",
       "<table border=\"1\" class=\"dataframe\">\n",
       "  <thead>\n",
       "    <tr style=\"text-align: right;\">\n",
       "      <th></th>\n",
       "      <th>frequency</th>\n",
       "      <th>MI</th>\n",
       "      <th>G-score</th>\n",
       "    </tr>\n",
       "  </thead>\n",
       "  <tbody>\n",
       "    <tr>\n",
       "      <th>frequency</th>\n",
       "      <td>1.000000</td>\n",
       "      <td>-0.266710</td>\n",
       "      <td>0.668379</td>\n",
       "    </tr>\n",
       "    <tr>\n",
       "      <th>MI</th>\n",
       "      <td>-0.266710</td>\n",
       "      <td>1.000000</td>\n",
       "      <td>0.365353</td>\n",
       "    </tr>\n",
       "    <tr>\n",
       "      <th>G-score</th>\n",
       "      <td>0.668379</td>\n",
       "      <td>0.365353</td>\n",
       "      <td>1.000000</td>\n",
       "    </tr>\n",
       "  </tbody>\n",
       "</table>\n",
       "</div>"
      ],
      "text/plain": [
       "           frequency        MI   G-score\n",
       "frequency   1.000000 -0.266710  0.668379\n",
       "MI         -0.266710  1.000000  0.365353\n",
       "G-score     0.668379  0.365353  1.000000"
      ]
     },
     "execution_count": 43,
     "metadata": {},
     "output_type": "execute_result"
    }
   ],
   "source": [
    "lemma_correlations = lemma_bigrams.corr(method='spearman').drop(labels=['id','id_lemma1','frequency:1','frequency:2',\n",
    "                                           'id_lemma2']).drop(labels=['id','id_lemma1',\n",
    "                                                                      'frequency:1',\n",
    "                                                                      'frequency:2',\n",
    "                                                                      'id_lemma2'],axis=1)\n",
    "lemma_correlations"
   ]
  },
  {
   "cell_type": "markdown",
   "metadata": {},
   "source": [
    "Проверим гипотезу о равенстве полученных коэффициентов нулю:"
   ]
  },
  {
   "cell_type": "code",
   "execution_count": 44,
   "metadata": {},
   "outputs": [
    {
     "data": {
      "text/html": [
       "<div>\n",
       "<style>\n",
       "    .dataframe thead tr:only-child th {\n",
       "        text-align: right;\n",
       "    }\n",
       "\n",
       "    .dataframe thead th {\n",
       "        text-align: left;\n",
       "    }\n",
       "\n",
       "    .dataframe tbody tr th {\n",
       "        vertical-align: top;\n",
       "    }\n",
       "</style>\n",
       "<table border=\"1\" class=\"dataframe\">\n",
       "  <thead>\n",
       "    <tr style=\"text-align: right;\">\n",
       "      <th></th>\n",
       "      <th>frequency</th>\n",
       "      <th>MI</th>\n",
       "      <th>G-score</th>\n",
       "    </tr>\n",
       "  </thead>\n",
       "  <tbody>\n",
       "    <tr>\n",
       "      <th>frequency</th>\n",
       "      <td>0.0</td>\n",
       "      <td>0.0</td>\n",
       "      <td>0.0</td>\n",
       "    </tr>\n",
       "    <tr>\n",
       "      <th>MI</th>\n",
       "      <td>0.0</td>\n",
       "      <td>0.0</td>\n",
       "      <td>0.0</td>\n",
       "    </tr>\n",
       "    <tr>\n",
       "      <th>G-score</th>\n",
       "      <td>0.0</td>\n",
       "      <td>0.0</td>\n",
       "      <td>0.0</td>\n",
       "    </tr>\n",
       "  </tbody>\n",
       "</table>\n",
       "</div>"
      ],
      "text/plain": [
       "           frequency   MI  G-score\n",
       "frequency        0.0  0.0      0.0\n",
       "MI               0.0  0.0      0.0\n",
       "G-score          0.0  0.0      0.0"
      ]
     },
     "execution_count": 44,
     "metadata": {},
     "output_type": "execute_result"
    }
   ],
   "source": [
    "center_and_normalize = lambda x,n: x*((n-1)**0.5)\n",
    "\n",
    "p_value = lambda x,n: (1-scipy.stats.norm.cdf(center_and_normalize(abs(x),n)))*2\n",
    "\n",
    "correlations.applymap(lambda x: p_value(x,n1) if x!=1 else 0)"
   ]
  },
  {
   "cell_type": "code",
   "execution_count": 45,
   "metadata": {},
   "outputs": [
    {
     "data": {
      "text/html": [
       "<div>\n",
       "<style>\n",
       "    .dataframe thead tr:only-child th {\n",
       "        text-align: right;\n",
       "    }\n",
       "\n",
       "    .dataframe thead th {\n",
       "        text-align: left;\n",
       "    }\n",
       "\n",
       "    .dataframe tbody tr th {\n",
       "        vertical-align: top;\n",
       "    }\n",
       "</style>\n",
       "<table border=\"1\" class=\"dataframe\">\n",
       "  <thead>\n",
       "    <tr style=\"text-align: right;\">\n",
       "      <th></th>\n",
       "      <th>frequency</th>\n",
       "      <th>MI</th>\n",
       "      <th>G-score</th>\n",
       "    </tr>\n",
       "  </thead>\n",
       "  <tbody>\n",
       "    <tr>\n",
       "      <th>frequency</th>\n",
       "      <td>0.0</td>\n",
       "      <td>0.0</td>\n",
       "      <td>0.0</td>\n",
       "    </tr>\n",
       "    <tr>\n",
       "      <th>MI</th>\n",
       "      <td>0.0</td>\n",
       "      <td>0.0</td>\n",
       "      <td>0.0</td>\n",
       "    </tr>\n",
       "    <tr>\n",
       "      <th>G-score</th>\n",
       "      <td>0.0</td>\n",
       "      <td>0.0</td>\n",
       "      <td>0.0</td>\n",
       "    </tr>\n",
       "  </tbody>\n",
       "</table>\n",
       "</div>"
      ],
      "text/plain": [
       "           frequency   MI  G-score\n",
       "frequency        0.0  0.0      0.0\n",
       "MI               0.0  0.0      0.0\n",
       "G-score          0.0  0.0      0.0"
      ]
     },
     "execution_count": 45,
     "metadata": {},
     "output_type": "execute_result"
    }
   ],
   "source": [
    "lemma_correlations.applymap(lambda x: p_value(x,n2) if x!=1 else 0)"
   ]
  },
  {
   "cell_type": "markdown",
   "metadata": {},
   "source": [
    "Здесь также нулевая гипотеза для всех значений отвергается."
   ]
  },
  {
   "cell_type": "markdown",
   "metadata": {},
   "source": [
    "Найдём <b>коэффициент Кенделла</b>:"
   ]
  },
  {
   "cell_type": "code",
   "execution_count": 27,
   "metadata": {},
   "outputs": [
    {
     "data": {
      "text/html": [
       "<div>\n",
       "<style>\n",
       "    .dataframe thead tr:only-child th {\n",
       "        text-align: right;\n",
       "    }\n",
       "\n",
       "    .dataframe thead th {\n",
       "        text-align: left;\n",
       "    }\n",
       "\n",
       "    .dataframe tbody tr th {\n",
       "        vertical-align: top;\n",
       "    }\n",
       "</style>\n",
       "<table border=\"1\" class=\"dataframe\">\n",
       "  <thead>\n",
       "    <tr style=\"text-align: right;\">\n",
       "      <th></th>\n",
       "      <th>frequency</th>\n",
       "      <th>MI</th>\n",
       "      <th>G-score</th>\n",
       "    </tr>\n",
       "  </thead>\n",
       "  <tbody>\n",
       "    <tr>\n",
       "      <th>frequency</th>\n",
       "      <td>1.000000</td>\n",
       "      <td>-0.195629</td>\n",
       "      <td>0.544461</td>\n",
       "    </tr>\n",
       "    <tr>\n",
       "      <th>MI</th>\n",
       "      <td>-0.195629</td>\n",
       "      <td>1.000000</td>\n",
       "      <td>0.281723</td>\n",
       "    </tr>\n",
       "    <tr>\n",
       "      <th>G-score</th>\n",
       "      <td>0.544461</td>\n",
       "      <td>0.281723</td>\n",
       "      <td>1.000000</td>\n",
       "    </tr>\n",
       "  </tbody>\n",
       "</table>\n",
       "</div>"
      ],
      "text/plain": [
       "           frequency        MI   G-score\n",
       "frequency   1.000000 -0.195629  0.544461\n",
       "MI         -0.195629  1.000000  0.281723\n",
       "G-score     0.544461  0.281723  1.000000"
      ]
     },
     "execution_count": 27,
     "metadata": {},
     "output_type": "execute_result"
    }
   ],
   "source": [
    "correlations = bigrams.corr(method='kendall').drop(labels=['id','id_wordform1','frequency:1',\n",
    "                                           'frequency:2','id_wordform2']).drop(labels=['id','id_wordform1',\n",
    "                                                                                       'frequency:1',\n",
    "                                                                                       'frequency:2',\n",
    "                                                                                       'id_wordform2'],axis=1)\n",
    "correlations"
   ]
  },
  {
   "cell_type": "code",
   "execution_count": 28,
   "metadata": {},
   "outputs": [
    {
     "data": {
      "text/html": [
       "<div>\n",
       "<style>\n",
       "    .dataframe thead tr:only-child th {\n",
       "        text-align: right;\n",
       "    }\n",
       "\n",
       "    .dataframe thead th {\n",
       "        text-align: left;\n",
       "    }\n",
       "\n",
       "    .dataframe tbody tr th {\n",
       "        vertical-align: top;\n",
       "    }\n",
       "</style>\n",
       "<table border=\"1\" class=\"dataframe\">\n",
       "  <thead>\n",
       "    <tr style=\"text-align: right;\">\n",
       "      <th></th>\n",
       "      <th>frequency</th>\n",
       "      <th>MI</th>\n",
       "      <th>G-score</th>\n",
       "    </tr>\n",
       "  </thead>\n",
       "  <tbody>\n",
       "    <tr>\n",
       "      <th>frequency</th>\n",
       "      <td>1.000000</td>\n",
       "      <td>-0.204738</td>\n",
       "      <td>0.556201</td>\n",
       "    </tr>\n",
       "    <tr>\n",
       "      <th>MI</th>\n",
       "      <td>-0.204738</td>\n",
       "      <td>1.000000</td>\n",
       "      <td>0.274059</td>\n",
       "    </tr>\n",
       "    <tr>\n",
       "      <th>G-score</th>\n",
       "      <td>0.556201</td>\n",
       "      <td>0.274059</td>\n",
       "      <td>1.000000</td>\n",
       "    </tr>\n",
       "  </tbody>\n",
       "</table>\n",
       "</div>"
      ],
      "text/plain": [
       "           frequency        MI   G-score\n",
       "frequency   1.000000 -0.204738  0.556201\n",
       "MI         -0.204738  1.000000  0.274059\n",
       "G-score     0.556201  0.274059  1.000000"
      ]
     },
     "execution_count": 28,
     "metadata": {},
     "output_type": "execute_result"
    }
   ],
   "source": [
    "lemma_correlations = lemma_bigrams.corr(method='kendall').drop(labels=['id','id_lemma1','frequency:1','frequency:2',\n",
    "                                           'id_lemma2']).drop(labels=['id','id_lemma1',\n",
    "                                                                      'frequency:1',\n",
    "                                                                      'frequency:2',\n",
    "                                                                      'id_lemma2'],axis=1)\n",
    "lemma_correlations"
   ]
  },
  {
   "cell_type": "markdown",
   "metadata": {},
   "source": [
    "Проверим на значимость:"
   ]
  },
  {
   "cell_type": "code",
   "execution_count": 47,
   "metadata": {},
   "outputs": [
    {
     "data": {
      "text/html": [
       "<div>\n",
       "<style>\n",
       "    .dataframe thead tr:only-child th {\n",
       "        text-align: right;\n",
       "    }\n",
       "\n",
       "    .dataframe thead th {\n",
       "        text-align: left;\n",
       "    }\n",
       "\n",
       "    .dataframe tbody tr th {\n",
       "        vertical-align: top;\n",
       "    }\n",
       "</style>\n",
       "<table border=\"1\" class=\"dataframe\">\n",
       "  <thead>\n",
       "    <tr style=\"text-align: right;\">\n",
       "      <th></th>\n",
       "      <th>frequency</th>\n",
       "      <th>MI</th>\n",
       "      <th>G-score</th>\n",
       "    </tr>\n",
       "  </thead>\n",
       "  <tbody>\n",
       "    <tr>\n",
       "      <th>frequency</th>\n",
       "      <td>0.0</td>\n",
       "      <td>0.0</td>\n",
       "      <td>0.0</td>\n",
       "    </tr>\n",
       "    <tr>\n",
       "      <th>MI</th>\n",
       "      <td>0.0</td>\n",
       "      <td>0.0</td>\n",
       "      <td>0.0</td>\n",
       "    </tr>\n",
       "    <tr>\n",
       "      <th>G-score</th>\n",
       "      <td>0.0</td>\n",
       "      <td>0.0</td>\n",
       "      <td>0.0</td>\n",
       "    </tr>\n",
       "  </tbody>\n",
       "</table>\n",
       "</div>"
      ],
      "text/plain": [
       "           frequency   MI  G-score\n",
       "frequency        0.0  0.0      0.0\n",
       "MI               0.0  0.0      0.0\n",
       "G-score          0.0  0.0      0.0"
      ]
     },
     "execution_count": 47,
     "metadata": {},
     "output_type": "execute_result"
    }
   ],
   "source": [
    "center_and_normalize = lambda x,n: x*(((9*(n**2)-9*n)/(10*n+10))**0.5)\n",
    "p_value = lambda x,n: (1-scipy.stats.norm.cdf(center_and_normalize(abs(x),n)))*2\n",
    "\n",
    "correlations.applymap(lambda x: p_value(x,n1) if x!=1 else 0)"
   ]
  },
  {
   "cell_type": "code",
   "execution_count": 48,
   "metadata": {},
   "outputs": [
    {
     "data": {
      "text/html": [
       "<div>\n",
       "<style>\n",
       "    .dataframe thead tr:only-child th {\n",
       "        text-align: right;\n",
       "    }\n",
       "\n",
       "    .dataframe thead th {\n",
       "        text-align: left;\n",
       "    }\n",
       "\n",
       "    .dataframe tbody tr th {\n",
       "        vertical-align: top;\n",
       "    }\n",
       "</style>\n",
       "<table border=\"1\" class=\"dataframe\">\n",
       "  <thead>\n",
       "    <tr style=\"text-align: right;\">\n",
       "      <th></th>\n",
       "      <th>frequency</th>\n",
       "      <th>MI</th>\n",
       "      <th>G-score</th>\n",
       "    </tr>\n",
       "  </thead>\n",
       "  <tbody>\n",
       "    <tr>\n",
       "      <th>frequency</th>\n",
       "      <td>0.0</td>\n",
       "      <td>0.0</td>\n",
       "      <td>0.0</td>\n",
       "    </tr>\n",
       "    <tr>\n",
       "      <th>MI</th>\n",
       "      <td>0.0</td>\n",
       "      <td>0.0</td>\n",
       "      <td>0.0</td>\n",
       "    </tr>\n",
       "    <tr>\n",
       "      <th>G-score</th>\n",
       "      <td>0.0</td>\n",
       "      <td>0.0</td>\n",
       "      <td>0.0</td>\n",
       "    </tr>\n",
       "  </tbody>\n",
       "</table>\n",
       "</div>"
      ],
      "text/plain": [
       "           frequency   MI  G-score\n",
       "frequency        0.0  0.0      0.0\n",
       "MI               0.0  0.0      0.0\n",
       "G-score          0.0  0.0      0.0"
      ]
     },
     "execution_count": 48,
     "metadata": {},
     "output_type": "execute_result"
    }
   ],
   "source": [
    "lemma_correlations.applymap(lambda x: p_value(x,n2) if x!=1 else 0)"
   ]
  },
  {
   "cell_type": "markdown",
   "metadata": {},
   "source": [
    "Все коэффициенты проходят проверку на значимость, так как вероятность истинности нулевой гипотезы настолько стремится\n",
    "к нулю, что не помещается полностью в переменную типа float"
   ]
  },
  {
   "cell_type": "markdown",
   "metadata": {
    "collapsed": true
   },
   "source": [
    "Сохраним полученные значения метрик колллокационной силы вместе с таблицами биграмм:"
   ]
  },
  {
   "cell_type": "code",
   "execution_count": 19,
   "metadata": {
    "collapsed": true
   },
   "outputs": [],
   "source": [
    "bigrams.to_csv('realec_bigrams.csv')\n",
    "lemma_bigrams.to_csv('realec_lemma_bigrams.csv')"
   ]
  },
  {
   "cell_type": "markdown",
   "metadata": {},
   "source": [
    "Теперь посмотрим ранговую корреляцию для биграмм, у которых частота >= 2:"
   ]
  },
  {
   "cell_type": "code",
   "execution_count": 1,
   "metadata": {
    "collapsed": true
   },
   "outputs": [],
   "source": [
    "cut_by_threshold = lambda df, threshold: df.loc[df['frequency'] >= threshold]"
   ]
  },
  {
   "cell_type": "code",
   "execution_count": 21,
   "metadata": {
    "collapsed": true
   },
   "outputs": [],
   "source": [
    "bigrams = cut_by_threshold(pandas.read_csv('realec_bigrams.csv',index_col='id',encoding='ansi'),2)"
   ]
  },
  {
   "cell_type": "markdown",
   "metadata": {},
   "source": [
    "Найдём <b>коэффициент Кенделла</b>:"
   ]
  },
  {
   "cell_type": "code",
   "execution_count": 22,
   "metadata": {},
   "outputs": [
    {
     "data": {
      "text/html": [
       "<div>\n",
       "<style>\n",
       "    .dataframe thead tr:only-child th {\n",
       "        text-align: right;\n",
       "    }\n",
       "\n",
       "    .dataframe thead th {\n",
       "        text-align: left;\n",
       "    }\n",
       "\n",
       "    .dataframe tbody tr th {\n",
       "        vertical-align: top;\n",
       "    }\n",
       "</style>\n",
       "<table border=\"1\" class=\"dataframe\">\n",
       "  <thead>\n",
       "    <tr style=\"text-align: right;\">\n",
       "      <th></th>\n",
       "      <th>frequency</th>\n",
       "      <th>MI</th>\n",
       "      <th>G-score</th>\n",
       "    </tr>\n",
       "  </thead>\n",
       "  <tbody>\n",
       "    <tr>\n",
       "      <th>frequency</th>\n",
       "      <td>1.000000</td>\n",
       "      <td>-0.012774</td>\n",
       "      <td>0.699127</td>\n",
       "    </tr>\n",
       "    <tr>\n",
       "      <th>MI</th>\n",
       "      <td>-0.012774</td>\n",
       "      <td>1.000000</td>\n",
       "      <td>0.210920</td>\n",
       "    </tr>\n",
       "    <tr>\n",
       "      <th>G-score</th>\n",
       "      <td>0.699127</td>\n",
       "      <td>0.210920</td>\n",
       "      <td>1.000000</td>\n",
       "    </tr>\n",
       "  </tbody>\n",
       "</table>\n",
       "</div>"
      ],
      "text/plain": [
       "           frequency        MI   G-score\n",
       "frequency   1.000000 -0.012774  0.699127\n",
       "MI         -0.012774  1.000000  0.210920\n",
       "G-score     0.699127  0.210920  1.000000"
      ]
     },
     "execution_count": 22,
     "metadata": {},
     "output_type": "execute_result"
    }
   ],
   "source": [
    "correlations = bigrams.corr(method='kendall').drop(labels=['id_wordform1','frequency:1',\n",
    "                                           'frequency:2','id_wordform2']).drop(labels=['id_wordform1',\n",
    "                                                                                       'frequency:1',\n",
    "                                                                                       'frequency:2',\n",
    "                                                                                       'id_wordform2'],axis=1)\n",
    "correlations"
   ]
  },
  {
   "cell_type": "markdown",
   "metadata": {},
   "source": [
    "Найдём <b>коэффициент Спирмена</b>:"
   ]
  },
  {
   "cell_type": "code",
   "execution_count": 23,
   "metadata": {},
   "outputs": [
    {
     "data": {
      "text/html": [
       "<div>\n",
       "<style>\n",
       "    .dataframe thead tr:only-child th {\n",
       "        text-align: right;\n",
       "    }\n",
       "\n",
       "    .dataframe thead th {\n",
       "        text-align: left;\n",
       "    }\n",
       "\n",
       "    .dataframe tbody tr th {\n",
       "        vertical-align: top;\n",
       "    }\n",
       "</style>\n",
       "<table border=\"1\" class=\"dataframe\">\n",
       "  <thead>\n",
       "    <tr style=\"text-align: right;\">\n",
       "      <th></th>\n",
       "      <th>frequency</th>\n",
       "      <th>MI</th>\n",
       "      <th>G-score</th>\n",
       "    </tr>\n",
       "  </thead>\n",
       "  <tbody>\n",
       "    <tr>\n",
       "      <th>frequency</th>\n",
       "      <td>1.000000</td>\n",
       "      <td>-0.018812</td>\n",
       "      <td>0.836408</td>\n",
       "    </tr>\n",
       "    <tr>\n",
       "      <th>MI</th>\n",
       "      <td>-0.018812</td>\n",
       "      <td>1.000000</td>\n",
       "      <td>0.309339</td>\n",
       "    </tr>\n",
       "    <tr>\n",
       "      <th>G-score</th>\n",
       "      <td>0.836408</td>\n",
       "      <td>0.309339</td>\n",
       "      <td>1.000000</td>\n",
       "    </tr>\n",
       "  </tbody>\n",
       "</table>\n",
       "</div>"
      ],
      "text/plain": [
       "           frequency        MI   G-score\n",
       "frequency   1.000000 -0.018812  0.836408\n",
       "MI         -0.018812  1.000000  0.309339\n",
       "G-score     0.836408  0.309339  1.000000"
      ]
     },
     "execution_count": 23,
     "metadata": {},
     "output_type": "execute_result"
    }
   ],
   "source": [
    "correlations = bigrams.corr(method='spearman').drop(labels=['id_wordform1','frequency:1',\n",
    "                                           'frequency:2','id_wordform2']).drop(labels=['id_wordform1',\n",
    "                                                                                       'frequency:1',\n",
    "                                                                                       'frequency:2',\n",
    "                                                                                       'id_wordform2'],axis=1)\n",
    "correlations"
   ]
  },
  {
   "cell_type": "markdown",
   "metadata": {},
   "source": [
    "<h2>2. Подсчёт метрик коллокационной силы Mutual Information и Lexical Gravity, их корреляции для подкорпуса LOCNESS A-Levels</h2>"
   ]
  },
  {
   "cell_type": "markdown",
   "metadata": {},
   "source": [
    "Рассматривались только тексты подкорпуса A-Levels (115 текстов, 60 209 слов)."
   ]
  },
  {
   "cell_type": "markdown",
   "metadata": {},
   "source": [
    "Откроем составленную базу данных и файл с SQL-скриптом:"
   ]
  },
  {
   "cell_type": "code",
   "execution_count": 25,
   "metadata": {
    "collapsed": true
   },
   "outputs": [],
   "source": [
    "import pandas, math, sqlite3\n",
    "\n",
    "db = sqlite3.connect('P:/Studies/2nd-year-thesis/locness_alevels_database.db')\n",
    "\n",
    "with open ('P:/Studies/2nd-year-thesis/get_full_table.sql','r',encoding='utf-8') as source:\n",
    "    query = source.read().split(';')"
   ]
  },
  {
   "cell_type": "markdown",
   "metadata": {},
   "source": [
    "Выполним содержащиеся в скрипте запросы к базе данных:"
   ]
  },
  {
   "cell_type": "code",
   "execution_count": 26,
   "metadata": {
    "collapsed": true
   },
   "outputs": [],
   "source": [
    "c = db.cursor()\n",
    "\n",
    "for statement in query:\n",
    "    c.execute(statement)\n",
    "    \n",
    "db.commit()"
   ]
  },
  {
   "cell_type": "markdown",
   "metadata": {},
   "source": [
    "Запишем полученные сводные таблицы в объекты pandas: bigrams - для биграмм, составленных\n",
    "из словоформ; lemma_bigrams - для биграмм, составленных из лемм, выделенных парсером udpipe (Биграммы выделялись только в пределах границ предложений, как в работе Гриса)."
   ]
  },
  {
   "cell_type": "code",
   "execution_count": 27,
   "metadata": {
    "collapsed": true
   },
   "outputs": [],
   "source": [
    "bigrams = pandas.read_sql('SELECT * FROM bigrams_with_freqs3 WHERE frequency>0',index_col='id',db)"
   ]
  },
  {
   "cell_type": "code",
   "execution_count": 21,
   "metadata": {
    "collapsed": true
   },
   "outputs": [],
   "source": [
    "lemma_bigrams = pandas.read_sql('SELECT * FROM lemma_bigrams_with_freqs1 WHERE frequency>0',index_col='id',db)"
   ]
  },
  {
   "cell_type": "markdown",
   "metadata": {},
   "source": [
    "Найдём значения <b>метрики MI</b> для биграмм:"
   ]
  },
  {
   "cell_type": "code",
   "execution_count": 7,
   "metadata": {
    "collapsed": true
   },
   "outputs": [],
   "source": [
    "import math\n",
    "\n",
    "N = list(db.execute('SELECT SUM(Frequency) FROM wordforms;'))[0][0]\n",
    "bigrams['MI'] = bigrams.apply(lambda x: math.log(x['frequency'],\n",
    "                                                 2)+math.log(N,2)-math.log(x['frequency:1'],2)\n",
    "                              -math.log(x['frequency:2'],2),\n",
    "                              axis=1)"
   ]
  },
  {
   "cell_type": "code",
   "execution_count": 8,
   "metadata": {
    "collapsed": true
   },
   "outputs": [],
   "source": [
    "lemma_bigrams['MI'] = lemma_bigrams.apply(lambda x: math.log(x['frequency'],\n",
    "                                                 2)+math.log(N,2)-math.log(x['frequency:1'],2)\n",
    "                              -math.log(x['frequency:2'],2),\n",
    "                              axis=1)"
   ]
  },
  {
   "cell_type": "code",
   "execution_count": 9,
   "metadata": {
    "collapsed": true
   },
   "outputs": [],
   "source": [
    "db.close()"
   ]
  },
  {
   "cell_type": "markdown",
   "metadata": {
    "collapsed": true
   },
   "source": [
    "Теперь найдём значения <b>метрики Lexical Gravity</b> (G-score):"
   ]
  },
  {
   "cell_type": "code",
   "execution_count": 22,
   "metadata": {
    "collapsed": true
   },
   "outputs": [],
   "source": [
    "form_typesafter = bigrams['id_wordform1'].value_counts()\n",
    "form_typesbefore = bigrams['id_wordform2'].value_counts()\n",
    "\n",
    "lemma_typesafter = lemma_bigrams['id_lemma1'].value_counts()\n",
    "lemma_typesbefore = lemma_bigrams['id_lemma2'].value_counts()"
   ]
  },
  {
   "cell_type": "code",
   "execution_count": 11,
   "metadata": {
    "collapsed": true
   },
   "outputs": [],
   "source": [
    "bigrams['G-score'] = bigrams.apply(lambda x: x['MI']-math.log(N,2)+math.log(x['frequency'],2)+\n",
    "                                   math.log(form_typesafter[x['id_wordform1']],2)+\n",
    "                                   math.log(form_typesbefore[x['id_wordform2']],2),axis = 1)\n",
    "\n",
    "lemma_bigrams['G-score'] = lemma_bigrams.apply(lambda x: x['MI']-math.log(N,2)+math.log(x['frequency'],2)+\n",
    "                                  math.log(lemma_typesafter[x['id_lemma1']],2)+\n",
    "                                  math.log(lemma_typesbefore[x['id_lemma2']],2),axis = 1)"
   ]
  },
  {
   "cell_type": "code",
   "execution_count": 29,
   "metadata": {
    "collapsed": true
   },
   "outputs": [],
   "source": [
    "##\"каноническая\" функция Lexical Gravity для проверки:\n",
    "bigrams['G-score'] = bigrams.apply(lambda x: 2*math.log(x['frequency'],2)-\n",
    "                                   math.log(x['frequency:1'],2)-\n",
    "                                   math.log(x['frequency:2'],2)+\n",
    "                                   math.log(form_typesafter[x['id_wordform1']],2)+\n",
    "                                   math.log(form_typesbefore[x['id_wordform2']],2),axis = 1)\n",
    "\n",
    "lemma_bigrams['G-score'] = lemma_bigrams.apply(lambda x: 2*math.log(x['frequency'],2)-\n",
    "                                               math.log(x['frequency:1'],2)-\n",
    "                                               math.log(x['frequency:2'],2)+\n",
    "                                  math.log(lemma_typesafter[x['id_lemma1']],2)+\n",
    "                                  math.log(lemma_typesbefore[x['id_lemma2']],2),axis = 1)"
   ]
  },
  {
   "cell_type": "markdown",
   "metadata": {},
   "source": [
    "Найдём линейные парные <b>коэффициенты корреляции Пирсона</b> для частоты и метрик MI и Lexical Gravity:"
   ]
  },
  {
   "cell_type": "code",
   "execution_count": 18,
   "metadata": {},
   "outputs": [
    {
     "data": {
      "text/html": [
       "<div>\n",
       "<style>\n",
       "    .dataframe thead tr:only-child th {\n",
       "        text-align: right;\n",
       "    }\n",
       "\n",
       "    .dataframe thead th {\n",
       "        text-align: left;\n",
       "    }\n",
       "\n",
       "    .dataframe tbody tr th {\n",
       "        vertical-align: top;\n",
       "    }\n",
       "</style>\n",
       "<table border=\"1\" class=\"dataframe\">\n",
       "  <thead>\n",
       "    <tr style=\"text-align: right;\">\n",
       "      <th></th>\n",
       "      <th>frequency</th>\n",
       "      <th>MI</th>\n",
       "      <th>G-score</th>\n",
       "    </tr>\n",
       "  </thead>\n",
       "  <tbody>\n",
       "    <tr>\n",
       "      <th>frequency</th>\n",
       "      <td>1.000000</td>\n",
       "      <td>-0.089175</td>\n",
       "      <td>0.530761</td>\n",
       "    </tr>\n",
       "    <tr>\n",
       "      <th>MI</th>\n",
       "      <td>-0.089175</td>\n",
       "      <td>1.000000</td>\n",
       "      <td>0.165888</td>\n",
       "    </tr>\n",
       "    <tr>\n",
       "      <th>G-score</th>\n",
       "      <td>0.530761</td>\n",
       "      <td>0.165888</td>\n",
       "      <td>1.000000</td>\n",
       "    </tr>\n",
       "  </tbody>\n",
       "</table>\n",
       "</div>"
      ],
      "text/plain": [
       "           frequency        MI   G-score\n",
       "frequency   1.000000 -0.089175  0.530761\n",
       "MI         -0.089175  1.000000  0.165888\n",
       "G-score     0.530761  0.165888  1.000000"
      ]
     },
     "execution_count": 18,
     "metadata": {},
     "output_type": "execute_result"
    }
   ],
   "source": [
    "correlations = bigrams.corr(method='pearson').drop(labels=['id','id_wordform1','frequency:1',\n",
    "                                           'frequency:2','id_wordform2']).drop(labels=['id','id_wordform1',\n",
    "                                                                                       'frequency:1',\n",
    "                                                                                       'frequency:2',\n",
    "                                                                                       'id_wordform2'],axis=1)\n",
    "correlations"
   ]
  },
  {
   "cell_type": "code",
   "execution_count": 19,
   "metadata": {},
   "outputs": [
    {
     "data": {
      "text/html": [
       "<div>\n",
       "<style>\n",
       "    .dataframe thead tr:only-child th {\n",
       "        text-align: right;\n",
       "    }\n",
       "\n",
       "    .dataframe thead th {\n",
       "        text-align: left;\n",
       "    }\n",
       "\n",
       "    .dataframe tbody tr th {\n",
       "        vertical-align: top;\n",
       "    }\n",
       "</style>\n",
       "<table border=\"1\" class=\"dataframe\">\n",
       "  <thead>\n",
       "    <tr style=\"text-align: right;\">\n",
       "      <th></th>\n",
       "      <th>frequency</th>\n",
       "      <th>MI</th>\n",
       "      <th>G-score</th>\n",
       "    </tr>\n",
       "  </thead>\n",
       "  <tbody>\n",
       "    <tr>\n",
       "      <th>frequency</th>\n",
       "      <td>1.000000</td>\n",
       "      <td>-0.089568</td>\n",
       "      <td>0.535339</td>\n",
       "    </tr>\n",
       "    <tr>\n",
       "      <th>MI</th>\n",
       "      <td>-0.089568</td>\n",
       "      <td>1.000000</td>\n",
       "      <td>0.164081</td>\n",
       "    </tr>\n",
       "    <tr>\n",
       "      <th>G-score</th>\n",
       "      <td>0.535339</td>\n",
       "      <td>0.164081</td>\n",
       "      <td>1.000000</td>\n",
       "    </tr>\n",
       "  </tbody>\n",
       "</table>\n",
       "</div>"
      ],
      "text/plain": [
       "           frequency        MI   G-score\n",
       "frequency   1.000000 -0.089568  0.535339\n",
       "MI         -0.089568  1.000000  0.164081\n",
       "G-score     0.535339  0.164081  1.000000"
      ]
     },
     "execution_count": 19,
     "metadata": {},
     "output_type": "execute_result"
    }
   ],
   "source": [
    "lemma_correlations = lemma_bigrams.corr(method='pearson').drop(labels=['id','id_lemma1','frequency:1','frequency:2',\n",
    "                                           'id_lemma2']).drop(labels=['id','id_lemma1',\n",
    "                                                                      'frequency:1',\n",
    "                                                                      'frequency:2',\n",
    "                                                                      'id_lemma2'],axis=1)\n",
    "lemma_correlations"
   ]
  },
  {
   "cell_type": "markdown",
   "metadata": {},
   "source": [
    "Проверим полученные коэффициенты корреляции на значимость.  Для этого проверим гипотезу о том, что все коэффициенты корреляции равны нулю  при помощи <i>t</i>-теста Стьюдента.Пороговый\n",
    "уровень значимости установим <i>a</i> = 0.05:"
   ]
  },
  {
   "cell_type": "code",
   "execution_count": 20,
   "metadata": {},
   "outputs": [
    {
     "data": {
      "text/html": [
       "<div>\n",
       "<style>\n",
       "    .dataframe thead tr:only-child th {\n",
       "        text-align: right;\n",
       "    }\n",
       "\n",
       "    .dataframe thead th {\n",
       "        text-align: left;\n",
       "    }\n",
       "\n",
       "    .dataframe tbody tr th {\n",
       "        vertical-align: top;\n",
       "    }\n",
       "</style>\n",
       "<table border=\"1\" class=\"dataframe\">\n",
       "  <thead>\n",
       "    <tr style=\"text-align: right;\">\n",
       "      <th></th>\n",
       "      <th>frequency</th>\n",
       "      <th>MI</th>\n",
       "      <th>G-score</th>\n",
       "    </tr>\n",
       "  </thead>\n",
       "  <tbody>\n",
       "    <tr>\n",
       "      <th>frequency</th>\n",
       "      <td>0.0</td>\n",
       "      <td>0.0</td>\n",
       "      <td>0.0</td>\n",
       "    </tr>\n",
       "    <tr>\n",
       "      <th>MI</th>\n",
       "      <td>0.0</td>\n",
       "      <td>0.0</td>\n",
       "      <td>0.0</td>\n",
       "    </tr>\n",
       "    <tr>\n",
       "      <th>G-score</th>\n",
       "      <td>0.0</td>\n",
       "      <td>0.0</td>\n",
       "      <td>0.0</td>\n",
       "    </tr>\n",
       "  </tbody>\n",
       "</table>\n",
       "</div>"
      ],
      "text/plain": [
       "           frequency   MI  G-score\n",
       "frequency        0.0  0.0      0.0\n",
       "MI               0.0  0.0      0.0\n",
       "G-score          0.0  0.0      0.0"
      ]
     },
     "execution_count": 20,
     "metadata": {},
     "output_type": "execute_result"
    }
   ],
   "source": [
    "import scipy.stats\n",
    "\n",
    "count_t_score = lambda x, n: x*((n-2)**0.5)/((1-x**2)**0.5)\n",
    "p_value = lambda x, n: (1-scipy.stats.t.cdf(count_t_score(x,n),n-2))*2\n",
    "\n",
    "n1 = len(bigrams.index)\n",
    "\n",
    "correlations.applymap(lambda x: p_value(abs(x),n1) if x!=1 else 0)"
   ]
  },
  {
   "cell_type": "code",
   "execution_count": 21,
   "metadata": {},
   "outputs": [
    {
     "data": {
      "text/html": [
       "<div>\n",
       "<style>\n",
       "    .dataframe thead tr:only-child th {\n",
       "        text-align: right;\n",
       "    }\n",
       "\n",
       "    .dataframe thead th {\n",
       "        text-align: left;\n",
       "    }\n",
       "\n",
       "    .dataframe tbody tr th {\n",
       "        vertical-align: top;\n",
       "    }\n",
       "</style>\n",
       "<table border=\"1\" class=\"dataframe\">\n",
       "  <thead>\n",
       "    <tr style=\"text-align: right;\">\n",
       "      <th></th>\n",
       "      <th>frequency</th>\n",
       "      <th>MI</th>\n",
       "      <th>G-score</th>\n",
       "    </tr>\n",
       "  </thead>\n",
       "  <tbody>\n",
       "    <tr>\n",
       "      <th>frequency</th>\n",
       "      <td>0.0</td>\n",
       "      <td>0.0</td>\n",
       "      <td>0.0</td>\n",
       "    </tr>\n",
       "    <tr>\n",
       "      <th>MI</th>\n",
       "      <td>0.0</td>\n",
       "      <td>0.0</td>\n",
       "      <td>0.0</td>\n",
       "    </tr>\n",
       "    <tr>\n",
       "      <th>G-score</th>\n",
       "      <td>0.0</td>\n",
       "      <td>0.0</td>\n",
       "      <td>0.0</td>\n",
       "    </tr>\n",
       "  </tbody>\n",
       "</table>\n",
       "</div>"
      ],
      "text/plain": [
       "           frequency   MI  G-score\n",
       "frequency        0.0  0.0      0.0\n",
       "MI               0.0  0.0      0.0\n",
       "G-score          0.0  0.0      0.0"
      ]
     },
     "execution_count": 21,
     "metadata": {},
     "output_type": "execute_result"
    }
   ],
   "source": [
    "n2 = len(lemma_bigrams.index)\n",
    "\n",
    "lemma_correlations.applymap(lambda x: p_value(abs(x),n2) if x!=1 else 0)"
   ]
  },
  {
   "cell_type": "markdown",
   "metadata": {},
   "source": [
    "Нулевая гипотеза отвергается для всех коэффициентов корреляции, поэтому все из них можно считать значимыми"
   ]
  },
  {
   "cell_type": "markdown",
   "metadata": {},
   "source": [
    "Теперь найдём <b>ранговые коэффициенты корреляции Спирмена и Кендалла</b>."
   ]
  },
  {
   "cell_type": "markdown",
   "metadata": {},
   "source": [
    "Найдём <b>коэффициент Спирмена</b>:"
   ]
  },
  {
   "cell_type": "code",
   "execution_count": 22,
   "metadata": {},
   "outputs": [
    {
     "data": {
      "text/html": [
       "<div>\n",
       "<style>\n",
       "    .dataframe thead tr:only-child th {\n",
       "        text-align: right;\n",
       "    }\n",
       "\n",
       "    .dataframe thead th {\n",
       "        text-align: left;\n",
       "    }\n",
       "\n",
       "    .dataframe tbody tr th {\n",
       "        vertical-align: top;\n",
       "    }\n",
       "</style>\n",
       "<table border=\"1\" class=\"dataframe\">\n",
       "  <thead>\n",
       "    <tr style=\"text-align: right;\">\n",
       "      <th></th>\n",
       "      <th>frequency</th>\n",
       "      <th>MI</th>\n",
       "      <th>G-score</th>\n",
       "    </tr>\n",
       "  </thead>\n",
       "  <tbody>\n",
       "    <tr>\n",
       "      <th>frequency</th>\n",
       "      <td>1.000000</td>\n",
       "      <td>-0.248543</td>\n",
       "      <td>0.627288</td>\n",
       "    </tr>\n",
       "    <tr>\n",
       "      <th>MI</th>\n",
       "      <td>-0.248543</td>\n",
       "      <td>1.000000</td>\n",
       "      <td>0.354278</td>\n",
       "    </tr>\n",
       "    <tr>\n",
       "      <th>G-score</th>\n",
       "      <td>0.627288</td>\n",
       "      <td>0.354278</td>\n",
       "      <td>1.000000</td>\n",
       "    </tr>\n",
       "  </tbody>\n",
       "</table>\n",
       "</div>"
      ],
      "text/plain": [
       "           frequency        MI   G-score\n",
       "frequency   1.000000 -0.248543  0.627288\n",
       "MI         -0.248543  1.000000  0.354278\n",
       "G-score     0.627288  0.354278  1.000000"
      ]
     },
     "execution_count": 22,
     "metadata": {},
     "output_type": "execute_result"
    }
   ],
   "source": [
    "correlations = bigrams.corr(method='spearman').drop(labels=['id','id_wordform1','frequency:1',\n",
    "                                           'frequency:2','id_wordform2']).drop(labels=['id','id_wordform1',\n",
    "                                                                                       'frequency:1',\n",
    "                                                                                       'frequency:2',\n",
    "                                                                                       'id_wordform2'],axis=1)\n",
    "correlations"
   ]
  },
  {
   "cell_type": "code",
   "execution_count": 23,
   "metadata": {},
   "outputs": [
    {
     "data": {
      "text/html": [
       "<div>\n",
       "<style>\n",
       "    .dataframe thead tr:only-child th {\n",
       "        text-align: right;\n",
       "    }\n",
       "\n",
       "    .dataframe thead th {\n",
       "        text-align: left;\n",
       "    }\n",
       "\n",
       "    .dataframe tbody tr th {\n",
       "        vertical-align: top;\n",
       "    }\n",
       "</style>\n",
       "<table border=\"1\" class=\"dataframe\">\n",
       "  <thead>\n",
       "    <tr style=\"text-align: right;\">\n",
       "      <th></th>\n",
       "      <th>frequency</th>\n",
       "      <th>MI</th>\n",
       "      <th>G-score</th>\n",
       "    </tr>\n",
       "  </thead>\n",
       "  <tbody>\n",
       "    <tr>\n",
       "      <th>frequency</th>\n",
       "      <td>1.000000</td>\n",
       "      <td>-0.260243</td>\n",
       "      <td>0.648974</td>\n",
       "    </tr>\n",
       "    <tr>\n",
       "      <th>MI</th>\n",
       "      <td>-0.260243</td>\n",
       "      <td>1.000000</td>\n",
       "      <td>0.340307</td>\n",
       "    </tr>\n",
       "    <tr>\n",
       "      <th>G-score</th>\n",
       "      <td>0.648974</td>\n",
       "      <td>0.340307</td>\n",
       "      <td>1.000000</td>\n",
       "    </tr>\n",
       "  </tbody>\n",
       "</table>\n",
       "</div>"
      ],
      "text/plain": [
       "           frequency        MI   G-score\n",
       "frequency   1.000000 -0.260243  0.648974\n",
       "MI         -0.260243  1.000000  0.340307\n",
       "G-score     0.648974  0.340307  1.000000"
      ]
     },
     "execution_count": 23,
     "metadata": {},
     "output_type": "execute_result"
    }
   ],
   "source": [
    "lemma_correlations = lemma_bigrams.corr(method='spearman').drop(labels=['id','id_lemma1','frequency:1','frequency:2',\n",
    "                                           'id_lemma2']).drop(labels=['id','id_lemma1',\n",
    "                                                                      'frequency:1',\n",
    "                                                                      'frequency:2',\n",
    "                                                                      'id_lemma2'],axis=1)\n",
    "lemma_correlations"
   ]
  },
  {
   "cell_type": "markdown",
   "metadata": {},
   "source": [
    "Проверим гипотезу о равенстве полученных коэффициентов нулю:"
   ]
  },
  {
   "cell_type": "code",
   "execution_count": 26,
   "metadata": {},
   "outputs": [
    {
     "data": {
      "text/html": [
       "<div>\n",
       "<style>\n",
       "    .dataframe thead tr:only-child th {\n",
       "        text-align: right;\n",
       "    }\n",
       "\n",
       "    .dataframe thead th {\n",
       "        text-align: left;\n",
       "    }\n",
       "\n",
       "    .dataframe tbody tr th {\n",
       "        vertical-align: top;\n",
       "    }\n",
       "</style>\n",
       "<table border=\"1\" class=\"dataframe\">\n",
       "  <thead>\n",
       "    <tr style=\"text-align: right;\">\n",
       "      <th></th>\n",
       "      <th>frequency</th>\n",
       "      <th>MI</th>\n",
       "      <th>G-score</th>\n",
       "    </tr>\n",
       "  </thead>\n",
       "  <tbody>\n",
       "    <tr>\n",
       "      <th>frequency</th>\n",
       "      <td>0.0</td>\n",
       "      <td>0.0</td>\n",
       "      <td>0.0</td>\n",
       "    </tr>\n",
       "    <tr>\n",
       "      <th>MI</th>\n",
       "      <td>0.0</td>\n",
       "      <td>0.0</td>\n",
       "      <td>0.0</td>\n",
       "    </tr>\n",
       "    <tr>\n",
       "      <th>G-score</th>\n",
       "      <td>0.0</td>\n",
       "      <td>0.0</td>\n",
       "      <td>0.0</td>\n",
       "    </tr>\n",
       "  </tbody>\n",
       "</table>\n",
       "</div>"
      ],
      "text/plain": [
       "           frequency   MI  G-score\n",
       "frequency        0.0  0.0      0.0\n",
       "MI               0.0  0.0      0.0\n",
       "G-score          0.0  0.0      0.0"
      ]
     },
     "execution_count": 26,
     "metadata": {},
     "output_type": "execute_result"
    }
   ],
   "source": [
    "center_and_normalize = lambda x,n: x*((n-1)**0.5)\n",
    "\n",
    "p_value = lambda x,n: (1-scipy.stats.norm.cdf(center_and_normalize(abs(x),n)))*2\n",
    "\n",
    "correlations.applymap(lambda x: p_value(x,n1) if x!=1 else 0)"
   ]
  },
  {
   "cell_type": "code",
   "execution_count": 27,
   "metadata": {},
   "outputs": [
    {
     "data": {
      "text/html": [
       "<div>\n",
       "<style>\n",
       "    .dataframe thead tr:only-child th {\n",
       "        text-align: right;\n",
       "    }\n",
       "\n",
       "    .dataframe thead th {\n",
       "        text-align: left;\n",
       "    }\n",
       "\n",
       "    .dataframe tbody tr th {\n",
       "        vertical-align: top;\n",
       "    }\n",
       "</style>\n",
       "<table border=\"1\" class=\"dataframe\">\n",
       "  <thead>\n",
       "    <tr style=\"text-align: right;\">\n",
       "      <th></th>\n",
       "      <th>frequency</th>\n",
       "      <th>MI</th>\n",
       "      <th>G-score</th>\n",
       "    </tr>\n",
       "  </thead>\n",
       "  <tbody>\n",
       "    <tr>\n",
       "      <th>frequency</th>\n",
       "      <td>0.0</td>\n",
       "      <td>0.0</td>\n",
       "      <td>0.0</td>\n",
       "    </tr>\n",
       "    <tr>\n",
       "      <th>MI</th>\n",
       "      <td>0.0</td>\n",
       "      <td>0.0</td>\n",
       "      <td>0.0</td>\n",
       "    </tr>\n",
       "    <tr>\n",
       "      <th>G-score</th>\n",
       "      <td>0.0</td>\n",
       "      <td>0.0</td>\n",
       "      <td>0.0</td>\n",
       "    </tr>\n",
       "  </tbody>\n",
       "</table>\n",
       "</div>"
      ],
      "text/plain": [
       "           frequency   MI  G-score\n",
       "frequency        0.0  0.0      0.0\n",
       "MI               0.0  0.0      0.0\n",
       "G-score          0.0  0.0      0.0"
      ]
     },
     "execution_count": 27,
     "metadata": {},
     "output_type": "execute_result"
    }
   ],
   "source": [
    "lemma_correlations.applymap(lambda x: p_value(x,n2) if x!=1 else 0)"
   ]
  },
  {
   "cell_type": "markdown",
   "metadata": {},
   "source": [
    "Здесь также нулевая гипотеза для всех значений отвергается."
   ]
  },
  {
   "cell_type": "markdown",
   "metadata": {},
   "source": [
    "Найдём <b>коэффициент Кенделла</b>:"
   ]
  },
  {
   "cell_type": "code",
   "execution_count": 28,
   "metadata": {},
   "outputs": [
    {
     "data": {
      "text/html": [
       "<div>\n",
       "<style>\n",
       "    .dataframe thead tr:only-child th {\n",
       "        text-align: right;\n",
       "    }\n",
       "\n",
       "    .dataframe thead th {\n",
       "        text-align: left;\n",
       "    }\n",
       "\n",
       "    .dataframe tbody tr th {\n",
       "        vertical-align: top;\n",
       "    }\n",
       "</style>\n",
       "<table border=\"1\" class=\"dataframe\">\n",
       "  <thead>\n",
       "    <tr style=\"text-align: right;\">\n",
       "      <th></th>\n",
       "      <th>frequency</th>\n",
       "      <th>MI</th>\n",
       "      <th>G-score</th>\n",
       "    </tr>\n",
       "  </thead>\n",
       "  <tbody>\n",
       "    <tr>\n",
       "      <th>frequency</th>\n",
       "      <td>1.000000</td>\n",
       "      <td>-0.196613</td>\n",
       "      <td>0.522275</td>\n",
       "    </tr>\n",
       "    <tr>\n",
       "      <th>MI</th>\n",
       "      <td>-0.196613</td>\n",
       "      <td>1.000000</td>\n",
       "      <td>0.271354</td>\n",
       "    </tr>\n",
       "    <tr>\n",
       "      <th>G-score</th>\n",
       "      <td>0.522275</td>\n",
       "      <td>0.271354</td>\n",
       "      <td>1.000000</td>\n",
       "    </tr>\n",
       "  </tbody>\n",
       "</table>\n",
       "</div>"
      ],
      "text/plain": [
       "           frequency        MI   G-score\n",
       "frequency   1.000000 -0.196613  0.522275\n",
       "MI         -0.196613  1.000000  0.271354\n",
       "G-score     0.522275  0.271354  1.000000"
      ]
     },
     "execution_count": 28,
     "metadata": {},
     "output_type": "execute_result"
    }
   ],
   "source": [
    "correlations = bigrams.corr(method='kendall').drop(labels=['id','id_wordform1','frequency:1',\n",
    "                                           'frequency:2','id_wordform2']).drop(labels=['id','id_wordform1',\n",
    "                                                                                       'frequency:1',\n",
    "                                                                                       'frequency:2',\n",
    "                                                                                       'id_wordform2'],axis=1)\n",
    "correlations"
   ]
  },
  {
   "cell_type": "code",
   "execution_count": 29,
   "metadata": {},
   "outputs": [
    {
     "data": {
      "text/html": [
       "<div>\n",
       "<style>\n",
       "    .dataframe thead tr:only-child th {\n",
       "        text-align: right;\n",
       "    }\n",
       "\n",
       "    .dataframe thead th {\n",
       "        text-align: left;\n",
       "    }\n",
       "\n",
       "    .dataframe tbody tr th {\n",
       "        vertical-align: top;\n",
       "    }\n",
       "</style>\n",
       "<table border=\"1\" class=\"dataframe\">\n",
       "  <thead>\n",
       "    <tr style=\"text-align: right;\">\n",
       "      <th></th>\n",
       "      <th>frequency</th>\n",
       "      <th>MI</th>\n",
       "      <th>G-score</th>\n",
       "    </tr>\n",
       "  </thead>\n",
       "  <tbody>\n",
       "    <tr>\n",
       "      <th>frequency</th>\n",
       "      <td>1.000000</td>\n",
       "      <td>-0.204852</td>\n",
       "      <td>0.541571</td>\n",
       "    </tr>\n",
       "    <tr>\n",
       "      <th>MI</th>\n",
       "      <td>-0.204852</td>\n",
       "      <td>1.000000</td>\n",
       "      <td>0.263080</td>\n",
       "    </tr>\n",
       "    <tr>\n",
       "      <th>G-score</th>\n",
       "      <td>0.541571</td>\n",
       "      <td>0.263080</td>\n",
       "      <td>1.000000</td>\n",
       "    </tr>\n",
       "  </tbody>\n",
       "</table>\n",
       "</div>"
      ],
      "text/plain": [
       "           frequency        MI   G-score\n",
       "frequency   1.000000 -0.204852  0.541571\n",
       "MI         -0.204852  1.000000  0.263080\n",
       "G-score     0.541571  0.263080  1.000000"
      ]
     },
     "execution_count": 29,
     "metadata": {},
     "output_type": "execute_result"
    }
   ],
   "source": [
    "lemma_correlations = lemma_bigrams.corr(method='kendall').drop(labels=['id','id_lemma1','frequency:1','frequency:2',\n",
    "                                           'id_lemma2']).drop(labels=['id','id_lemma1',\n",
    "                                                                      'frequency:1',\n",
    "                                                                      'frequency:2',\n",
    "                                                                      'id_lemma2'],axis=1)\n",
    "lemma_correlations"
   ]
  },
  {
   "cell_type": "markdown",
   "metadata": {},
   "source": [
    "Проверим на значимость:"
   ]
  },
  {
   "cell_type": "code",
   "execution_count": 30,
   "metadata": {},
   "outputs": [
    {
     "data": {
      "text/html": [
       "<div>\n",
       "<style>\n",
       "    .dataframe thead tr:only-child th {\n",
       "        text-align: right;\n",
       "    }\n",
       "\n",
       "    .dataframe thead th {\n",
       "        text-align: left;\n",
       "    }\n",
       "\n",
       "    .dataframe tbody tr th {\n",
       "        vertical-align: top;\n",
       "    }\n",
       "</style>\n",
       "<table border=\"1\" class=\"dataframe\">\n",
       "  <thead>\n",
       "    <tr style=\"text-align: right;\">\n",
       "      <th></th>\n",
       "      <th>frequency</th>\n",
       "      <th>MI</th>\n",
       "      <th>G-score</th>\n",
       "    </tr>\n",
       "  </thead>\n",
       "  <tbody>\n",
       "    <tr>\n",
       "      <th>frequency</th>\n",
       "      <td>0.0</td>\n",
       "      <td>0.0</td>\n",
       "      <td>0.0</td>\n",
       "    </tr>\n",
       "    <tr>\n",
       "      <th>MI</th>\n",
       "      <td>0.0</td>\n",
       "      <td>0.0</td>\n",
       "      <td>0.0</td>\n",
       "    </tr>\n",
       "    <tr>\n",
       "      <th>G-score</th>\n",
       "      <td>0.0</td>\n",
       "      <td>0.0</td>\n",
       "      <td>0.0</td>\n",
       "    </tr>\n",
       "  </tbody>\n",
       "</table>\n",
       "</div>"
      ],
      "text/plain": [
       "           frequency   MI  G-score\n",
       "frequency        0.0  0.0      0.0\n",
       "MI               0.0  0.0      0.0\n",
       "G-score          0.0  0.0      0.0"
      ]
     },
     "execution_count": 30,
     "metadata": {},
     "output_type": "execute_result"
    }
   ],
   "source": [
    "center_and_normalize = lambda x,n: x*(((9*(n**2)-9*n)/(10*n+10))**0.5)\n",
    "p_value = lambda x,n: (1-scipy.stats.norm.cdf(center_and_normalize(abs(x),n)))*2\n",
    "\n",
    "correlations.applymap(lambda x: p_value(x,n1) if x!=1 else 0)"
   ]
  },
  {
   "cell_type": "code",
   "execution_count": 31,
   "metadata": {},
   "outputs": [
    {
     "data": {
      "text/html": [
       "<div>\n",
       "<style>\n",
       "    .dataframe thead tr:only-child th {\n",
       "        text-align: right;\n",
       "    }\n",
       "\n",
       "    .dataframe thead th {\n",
       "        text-align: left;\n",
       "    }\n",
       "\n",
       "    .dataframe tbody tr th {\n",
       "        vertical-align: top;\n",
       "    }\n",
       "</style>\n",
       "<table border=\"1\" class=\"dataframe\">\n",
       "  <thead>\n",
       "    <tr style=\"text-align: right;\">\n",
       "      <th></th>\n",
       "      <th>frequency</th>\n",
       "      <th>MI</th>\n",
       "      <th>G-score</th>\n",
       "    </tr>\n",
       "  </thead>\n",
       "  <tbody>\n",
       "    <tr>\n",
       "      <th>frequency</th>\n",
       "      <td>0.0</td>\n",
       "      <td>0.0</td>\n",
       "      <td>0.0</td>\n",
       "    </tr>\n",
       "    <tr>\n",
       "      <th>MI</th>\n",
       "      <td>0.0</td>\n",
       "      <td>0.0</td>\n",
       "      <td>0.0</td>\n",
       "    </tr>\n",
       "    <tr>\n",
       "      <th>G-score</th>\n",
       "      <td>0.0</td>\n",
       "      <td>0.0</td>\n",
       "      <td>0.0</td>\n",
       "    </tr>\n",
       "  </tbody>\n",
       "</table>\n",
       "</div>"
      ],
      "text/plain": [
       "           frequency   MI  G-score\n",
       "frequency        0.0  0.0      0.0\n",
       "MI               0.0  0.0      0.0\n",
       "G-score          0.0  0.0      0.0"
      ]
     },
     "execution_count": 31,
     "metadata": {},
     "output_type": "execute_result"
    }
   ],
   "source": [
    "lemma_correlations.applymap(lambda x: p_value(x,n2) if x!=1 else 0)"
   ]
  },
  {
   "cell_type": "markdown",
   "metadata": {},
   "source": [
    "Все коэффициенты проходят проверку на значимость, так как вероятность истинности нулевой гипотезы настолько стремится\n",
    "к нулю, что не помещается полностью в переменную типа float"
   ]
  },
  {
   "cell_type": "code",
   "execution_count": 11,
   "metadata": {
    "collapsed": true
   },
   "outputs": [],
   "source": [
    "bigrams.to_csv('locness_alevels_bigrams.csv')\n",
    "lemma_bigrams.to_csv('locness_alevels_lemma_bigrams.csv')"
   ]
  },
  {
   "cell_type": "markdown",
   "metadata": {},
   "source": [
    "Теперь посмотрим ранговую корреляцию для биграмм, у которых частота >= 2:"
   ]
  },
  {
   "cell_type": "code",
   "execution_count": 1,
   "metadata": {
    "collapsed": true
   },
   "outputs": [],
   "source": [
    "cut_by_threshold = lambda df, threshold: df.loc[df['frequency'] >= threshold]"
   ]
  },
  {
   "cell_type": "code",
   "execution_count": 12,
   "metadata": {
    "collapsed": true
   },
   "outputs": [],
   "source": [
    "bigrams = cut_by_threshold(pandas.read_csv('locness_alevels_bigrams.csv',index_col='id',encoding='ansi'),2)"
   ]
  },
  {
   "cell_type": "markdown",
   "metadata": {},
   "source": [
    "Найдём <b>коэффициент Кенделла</b>:"
   ]
  },
  {
   "cell_type": "code",
   "execution_count": 13,
   "metadata": {},
   "outputs": [
    {
     "data": {
      "text/html": [
       "<div>\n",
       "<style>\n",
       "    .dataframe thead tr:only-child th {\n",
       "        text-align: right;\n",
       "    }\n",
       "\n",
       "    .dataframe thead th {\n",
       "        text-align: left;\n",
       "    }\n",
       "\n",
       "    .dataframe tbody tr th {\n",
       "        vertical-align: top;\n",
       "    }\n",
       "</style>\n",
       "<table border=\"1\" class=\"dataframe\">\n",
       "  <thead>\n",
       "    <tr style=\"text-align: right;\">\n",
       "      <th></th>\n",
       "      <th>frequency</th>\n",
       "      <th>MI</th>\n",
       "      <th>G-score</th>\n",
       "    </tr>\n",
       "  </thead>\n",
       "  <tbody>\n",
       "    <tr>\n",
       "      <th>frequency</th>\n",
       "      <td>1.000000</td>\n",
       "      <td>-0.079463</td>\n",
       "      <td>0.698648</td>\n",
       "    </tr>\n",
       "    <tr>\n",
       "      <th>MI</th>\n",
       "      <td>-0.079463</td>\n",
       "      <td>1.000000</td>\n",
       "      <td>0.065015</td>\n",
       "    </tr>\n",
       "    <tr>\n",
       "      <th>G-score</th>\n",
       "      <td>0.698648</td>\n",
       "      <td>0.065015</td>\n",
       "      <td>1.000000</td>\n",
       "    </tr>\n",
       "  </tbody>\n",
       "</table>\n",
       "</div>"
      ],
      "text/plain": [
       "           frequency        MI   G-score\n",
       "frequency   1.000000 -0.079463  0.698648\n",
       "MI         -0.079463  1.000000  0.065015\n",
       "G-score     0.698648  0.065015  1.000000"
      ]
     },
     "execution_count": 13,
     "metadata": {},
     "output_type": "execute_result"
    }
   ],
   "source": [
    "correlations = bigrams.corr(method='kendall').drop(labels=['id_wordform1','frequency:1',\n",
    "                                           'frequency:2','id_wordform2']).drop(labels=['id_wordform1',\n",
    "                                                                                       'frequency:1',\n",
    "                                                                                       'frequency:2',\n",
    "                                                                                       'id_wordform2'],axis=1)\n",
    "correlations"
   ]
  },
  {
   "cell_type": "markdown",
   "metadata": {},
   "source": [
    "Найдём <b>коэффициент Спирмена</b>:"
   ]
  },
  {
   "cell_type": "code",
   "execution_count": 14,
   "metadata": {},
   "outputs": [
    {
     "data": {
      "text/html": [
       "<div>\n",
       "<style>\n",
       "    .dataframe thead tr:only-child th {\n",
       "        text-align: right;\n",
       "    }\n",
       "\n",
       "    .dataframe thead th {\n",
       "        text-align: left;\n",
       "    }\n",
       "\n",
       "    .dataframe tbody tr th {\n",
       "        vertical-align: top;\n",
       "    }\n",
       "</style>\n",
       "<table border=\"1\" class=\"dataframe\">\n",
       "  <thead>\n",
       "    <tr style=\"text-align: right;\">\n",
       "      <th></th>\n",
       "      <th>frequency</th>\n",
       "      <th>MI</th>\n",
       "      <th>G-score</th>\n",
       "    </tr>\n",
       "  </thead>\n",
       "  <tbody>\n",
       "    <tr>\n",
       "      <th>frequency</th>\n",
       "      <td>1.000000</td>\n",
       "      <td>-0.107043</td>\n",
       "      <td>0.827896</td>\n",
       "    </tr>\n",
       "    <tr>\n",
       "      <th>MI</th>\n",
       "      <td>-0.107043</td>\n",
       "      <td>1.000000</td>\n",
       "      <td>0.097857</td>\n",
       "    </tr>\n",
       "    <tr>\n",
       "      <th>G-score</th>\n",
       "      <td>0.827896</td>\n",
       "      <td>0.097857</td>\n",
       "      <td>1.000000</td>\n",
       "    </tr>\n",
       "  </tbody>\n",
       "</table>\n",
       "</div>"
      ],
      "text/plain": [
       "           frequency        MI   G-score\n",
       "frequency   1.000000 -0.107043  0.827896\n",
       "MI         -0.107043  1.000000  0.097857\n",
       "G-score     0.827896  0.097857  1.000000"
      ]
     },
     "execution_count": 14,
     "metadata": {},
     "output_type": "execute_result"
    }
   ],
   "source": [
    "correlations = bigrams.corr(method='spearman').drop(labels=['id_wordform1','frequency:1',\n",
    "                                           'frequency:2','id_wordform2']).drop(labels=['id_wordform1',\n",
    "                                                                                       'frequency:1',\n",
    "                                                                                       'frequency:2',\n",
    "                                                                                       'id_wordform2'],axis=1)\n",
    "correlations"
   ]
  },
  {
   "cell_type": "markdown",
   "metadata": {},
   "source": [
    "<h2>3. Анализ распределения метрик для корпусов</h2>"
   ]
  },
  {
   "cell_type": "code",
   "execution_count": 1,
   "metadata": {
    "collapsed": true
   },
   "outputs": [],
   "source": [
    "import pandas, math\n",
    "import matplotlib.pyplot as plt\n",
    "\n",
    "realec_bigrams = pandas.read_csv('realec_bigrams.csv')\n",
    "realec_lemma_bigrams = pandas.read_csv('realec_lemma_bigrams.csv',encoding='ansi')\n",
    "alevels_bigrams = pandas.read_csv('locness_alevels_bigrams.csv', encoding='ansi')\n",
    "alevels_lemma_bigrams = pandas.read_csv('locness_alevels_lemma_bigrams.csv', encoding='ansi')"
   ]
  },
  {
   "cell_type": "markdown",
   "metadata": {},
   "source": [
    "Так как у нас получились большие коэффициенты корреляции для частоты биграммы и её значения Lexical Gravity, посмотрим на эту взаимосвязь на графике:"
   ]
  },
  {
   "cell_type": "code",
   "execution_count": 2,
   "metadata": {},
   "outputs": [
    {
     "data": {
      "image/png": "[encoded data removed]",
      "text/plain": [
       "<matplotlib.figure.Figure at 0x1560c128>"
      ]
     },
     "metadata": {},
     "output_type": "display_data"
    }
   ],
   "source": [
    "plt.figure(figsize=(8,8))\n",
    "plt.scatter(realec_bigrams['frequency'].apply(lambda x: math.log(x,2)),realec_bigrams['G-score'])\n",
    "plt.xlabel('Частота биграммы, двоичный логарифм')\n",
    "plt.ylabel('Lexical gravity')\n",
    "plt.title('REALEC, эссе формата IELTS')\n",
    "plt.savefig('figures/realec_essays_frequency_gravity_corr.png',bbox_inches='tight')\n",
    "plt.show()"
   ]
  },
  {
   "cell_type": "code",
   "execution_count": 5,
   "metadata": {},
   "outputs": [
    {
     "data": {
      "text/plain": [
       "0.8450585936192873"
      ]
     },
     "execution_count": 5,
     "metadata": {},
     "output_type": "execute_result"
    }
   ],
   "source": [
    "realec_bigrams['G-score'].corr(realec_bigrams['frequency'].apply(lambda x: math.log(x,2)))"
   ]
  },
  {
   "cell_type": "code",
   "execution_count": 39,
   "metadata": {},
   "outputs": [
    {
     "data": {
      "image/png": "[encoded data removed]",
      "text/plain": [
       "<matplotlib.figure.Figure at 0x174dd7b8>"
      ]
     },
     "metadata": {},
     "output_type": "display_data"
    }
   ],
   "source": [
    "plt.scatter(realec_lemma_bigrams['frequency'].apply(lambda x: math.log(x,2)),realec_lemma_bigrams['G-score'])\n",
    "plt.xlabel('Частота биграммы из лемм, двоичный логарифм')\n",
    "plt.ylabel('Lexical gravity')\n",
    "plt.title('REALEC')\n",
    "plt.show()"
   ]
  },
  {
   "cell_type": "code",
   "execution_count": 3,
   "metadata": {},
   "outputs": [
    {
     "data": {
      "image/png": "[encoded data removed]",
      "text/plain": [
       "<matplotlib.figure.Figure at 0x14948710>"
      ]
     },
     "metadata": {},
     "output_type": "display_data"
    }
   ],
   "source": [
    "plt.figure(figsize=(8,8))\n",
    "plt.scatter(alevels_bigrams['frequency'].apply(lambda x: math.log(x,2)),alevels_bigrams['G-score'])\n",
    "plt.xlabel('Частота биграммы, двоичный логарифм')\n",
    "plt.ylabel('Lexical gravity')\n",
    "plt.title('LOCNESS A-Levels')\n",
    "plt.savefig('figures/locness_alevels_frequency_gravity_corr.png',bbox_inches='tight')\n",
    "plt.show()"
   ]
  },
  {
   "cell_type": "code",
   "execution_count": 6,
   "metadata": {},
   "outputs": [
    {
     "data": {
      "text/plain": [
       "0.8437704613235986"
      ]
     },
     "execution_count": 6,
     "metadata": {},
     "output_type": "execute_result"
    }
   ],
   "source": [
    "alevels_bigrams['G-score'].corr(alevels_bigrams['frequency'].apply(lambda x: math.log(x,2)))"
   ]
  },
  {
   "cell_type": "code",
   "execution_count": 43,
   "metadata": {},
   "outputs": [
    {
     "data": {
      "image/png": "[encoded data removed]",
      "text/plain": [
       "<matplotlib.figure.Figure at 0x168fc4a8>"
      ]
     },
     "metadata": {},
     "output_type": "display_data"
    }
   ],
   "source": [
    "plt.scatter(realec_bigrams['G-score'],realec_bigrams['frequency'].apply(lambda x: math.log(x,2)))\n",
    "plt.ylabel('Частота биграммы, двоичный логарифм')\n",
    "plt.xlabel('Lexical gravity')\n",
    "plt.title('REALEC')\n",
    "plt.show()"
   ]
  },
  {
   "cell_type": "code",
   "execution_count": 44,
   "metadata": {},
   "outputs": [
    {
     "data": {
      "image/png": "[encoded data removed]",
      "text/plain": [
       "<matplotlib.figure.Figure at 0x17f272b0>"
      ]
     },
     "metadata": {},
     "output_type": "display_data"
    }
   ],
   "source": [
    "plt.scatter(alevels_bigrams['G-score'],alevels_bigrams['frequency'].apply(lambda x: math.log(x,2)))\n",
    "plt.ylabel('Частота биграммы, двоичный логарифм')\n",
    "plt.xlabel('Lexical gravity')\n",
    "plt.title('LOCNESS A-Levels')\n",
    "plt.show()"
   ]
  }
 ],
 "metadata": {
  "kernelspec": {
   "display_name": "Python 3",
   "language": "python",
   "name": "python3"
  },
  "language_info": {
   "codemirror_mode": {
    "name": "ipython",
    "version": 3
   },
   "file_extension": ".py",
   "mimetype": "text/x-python",
   "name": "python",
   "nbconvert_exporter": "python",
   "pygments_lexer": "ipython3",
   "version": "3.6.0"
  }
 },
 "nbformat": 4,
 "nbformat_minor": 2
}
